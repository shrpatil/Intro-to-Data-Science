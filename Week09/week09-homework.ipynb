{
 "cells": [
  {
   "cell_type": "markdown",
   "id": "29b0083e",
   "metadata": {},
   "source": [
    "# Week9 Homework\n",
    "## Working with Strings\n",
    "\n",
    "The data frame contains notes taken by staff members. Your task is to clean it up to make it usable for analysis. \n",
    "\n",
    "### Tasks\n",
    "* Create start date, end date columns and populate the values (If notes don't include month or day use 1) i.e: 2018 => 2018-01-01\n",
    "\n",
    "* Create phone number column (If notes don't include phone numbers, use None)\n",
    "* Create a column `duration` showing difference between start & end dates in years as a whole number"
   ]
  },
  {
   "cell_type": "code",
   "execution_count": null,
   "id": "2e44e5c3",
   "metadata": {},
   "outputs": [],
   "source": [
    "import pandas as pd\n",
    "import numpy as np\n",
    "import re\n",
    "from datetime import datetime as dt\n"
   ]
  },
  {
   "cell_type": "code",
   "execution_count": null,
   "id": "e80d70bc",
   "metadata": {},
   "outputs": [],
   "source": [
    "df = pd.read_csv('https://raw.githubusercontent.com/msaricaumbc/DS601_Fall21/main/Week09/data/hw_data.csv', index_col=0)"
   ]
  },
  {
   "cell_type": "code",
   "execution_count": null,
   "id": "28e8a48a",
   "metadata": {},
   "outputs": [],
   "source": [
    "df"
   ]
  },
  {
   "cell_type": "markdown",
   "id": "7e96c0d9",
   "metadata": {},
   "source": [
    "Regular expression to extract different date patterns is refered from Stack Overflow. https://stackoverflow.com/questions/46064162/extracting-dates-that-are-in-different-formats-using-regex-and-sorting-them-pa"
   ]
  },
  {
   "cell_type": "code",
   "execution_count": null,
   "id": "7a69f4d3",
   "metadata": {},
   "outputs": [],
   "source": [
    "#Creating temperory data frame and extracting the start date in it using different format regular expression \n",
    "\n",
    "df_temp = pd.DataFrame(columns = ['format_1', 'format_2','format_3','Start_date'])\n",
    "df_temp['SD']= df.notes.str.extract(r'([sS].*[eE])')\n",
    "\n",
    "df_temp['format_1']=df_temp.SD.str.extract(r'((?:\\d{,2}\\s)?(?:Jan|Feb|Mar|Apr|May|Jun|Jul|Aug|Sep|Oct|Nov|Dec)[a-z]*(?:-|\\.|\\s|,)\\s?\\d{,2}[a-z]*(?:-|,|\\s)?\\s?\\d{2,4})')\n",
    "# Converting extracted numbers into date\n",
    "df_temp['Start_date'] = pd.to_datetime(df_temp['format_1'], errors='coerce')\n",
    "\n",
    "df_temp['format_2'] = df_temp.SD.str.extract(r'((?:\\d{2,4})(?:(?:\\/|-)\\d{1,2})?(?:(?:\\/|-)\\d{2,4}))')\n",
    "df_temp['Start_date'] = pd.to_datetime(df_temp.Start_date.fillna(df_temp.format_2), errors='coerce')\n",
    "\n",
    "\n",
    "df_temp['format_3'] = df_temp.SD.str.extract(r'((?:\\d{1,2}(?:-|\\/))?\\d{2,4})')\n",
    "#As there are dates written in mm-yy format need to specify their format conversion (ex: 04/20 to 2020/04/01) \n",
    "df_temp['format_3'] = pd.to_datetime(df_temp['format_3'], format='%m/%y', errors='coerce')\n",
    "df_temp['Start_date'] = pd.to_datetime(df_temp.Start_date.fillna(df_temp.format_3), errors='coerce')\n",
    "\n",
    "df_temp['format_4'] = df_temp.SD.str.extract(r'((?:\\d{1,2}(?:-|\\/))?\\d{4})')\n",
    "df['Start_date'] = pd.to_datetime(df_temp.Start_date.fillna(df_temp.format_4), errors='coerce')\n",
    "\n",
    "#Shuffling the Column to verify no pattern is missed \n",
    "df_shuffled=df.sample(frac=1).reset_index(drop=True)\n",
    "df_shuffled.head(5)\n",
    "\n",
    "\n"
   ]
  },
  {
   "cell_type": "code",
   "execution_count": null,
   "id": "f9954139",
   "metadata": {},
   "outputs": [],
   "source": [
    "# Simmilar method is used for end dates with few changes in regular expression pattern\n",
    "\n",
    "df_temp['ED1'] = df.notes.str.extract(r'((?:[eE](?:[nN]|[dD])).*(?:\\s|\\d))')\n",
    "df_temp['ED2'] = df_temp.ED1.str.extract(r'((?:[eE](?:[nN]|[dD])).*(?:[pP](?:(?:[nN]|\\W))))')\n",
    "df_temp['ED1']=df_temp.ED2.fillna(df_temp.ED1)\n",
    "\n",
    "\n",
    "df_temp['format_1']=df_temp.ED1.str.extract(r'((?:\\d{,2}\\s)?(?:Jan|Feb|Mar|Apr|May|Jun|Jul|Aug|Sep|Oct|Nov|Dec)[a-z]*(?:-|\\.|\\s|,)\\s?\\d{,2}[a-z]*(?:-|,|\\s)?\\s?\\d{2,4})')\n",
    "df_temp['Start_date'] = pd.to_datetime(df_temp['format_1'], errors='coerce')\n",
    "\n",
    "df_temp['format_2'] = df_temp.ED1.str.extract(r'((?:\\d{2,4})(?:(?:\\/|-)\\d{1,2})?(?:(?:\\/|-)\\d{2,4}))')\n",
    "df_temp['Start_date'] = pd.to_datetime(df_temp.Start_date.fillna(df_temp.format_2), errors='coerce')\n",
    "\n",
    "\n",
    "df_temp['format_3'] = df_temp.ED1.str.extract(r'((?:\\d{1,2}(?:-|\\/))?\\d{2,4})')\n",
    "df_temp['format_3'] = pd.to_datetime(df_temp['format_3'], format='%m/%y', errors='coerce')\n",
    "df_temp['Start_date'] = pd.to_datetime(df_temp.Start_date.fillna(df_temp.format_3), errors='coerce')\n",
    "\n",
    "df_temp['format_4'] = df_temp.ED1.str.extract(r'((?:\\d{1,2}(?:-|\\/))?\\d{4})')\n",
    "df['End_date'] = pd.to_datetime(df_temp.Start_date.fillna(df_temp.format_4), errors='coerce')\n",
    "\n",
    "pd.set_option('display.max_colwidth', None)\n",
    "df_shuffled=df.sample(frac=1).reset_index(drop=True)\n",
    "df_shuffled"
   ]
  },
  {
   "cell_type": "code",
   "execution_count": null,
   "id": "daf9b5b7",
   "metadata": {},
   "outputs": [],
   "source": [
    "#Calculating the difference between start and end date in terms of year and converting it into integer\n",
    "\n",
    "df['Duration_years'] = (df['End_date'] - df['Start_date'])\n",
    "df['Duration_years'] = (df.Duration_years / np.timedelta64(1,'Y')).astype(int)\n",
    "df\n"
   ]
  },
  {
   "cell_type": "code",
   "execution_count": null,
   "id": "69153d6b",
   "metadata": {},
   "outputs": [],
   "source": [
    "#Extracting phone numbers from notes\n",
    "\n",
    "df_temp['format_1'] = df.notes.str.extract(r'((?:[pP](?:(?:[nN]|\\W|\\s)(?:[nN]|\\W|\\d|\\s))).*(?:\\s|\\W|\\b))')\n",
    "df_temp['format_2'] = df.notes.str.extract(r'([pP].*[sS](?:[dD]|[tT]))')\n",
    "df_temp['format_2'] = df_temp.format_2.fillna(df_temp.format_1)\n",
    "\n",
    "#Stripping extra characters from phone number column\n",
    "df_temp['Phone_number']=df_temp.format_2.str.strip('Jan|Feb|Mar|Apr|May|Jun|Jul|Aug|Sep|Oct|Nov|Dec')\n",
    "df_temp['Phone_number']=df_temp.Phone_number.str.strip('PpnN#:;/SstTdDeE-\\s')\n",
    "\n",
    "#If phone number is not included then add 'None'\n",
    "df['Phone_number']= df_temp.Phone_number.fillna('None')\n",
    "\n",
    "\n",
    "pd.set_option('display.max_colwidth', None)\n",
    "df_shuffled=df.sample(frac=1).reset_index(drop=True)\n",
    "df_shuffled.head(10)\n"
   ]
  },
  {
   "cell_type": "code",
   "execution_count": null,
   "id": "90502943",
   "metadata": {},
   "outputs": [],
   "source": []
  }
 ],
 "metadata": {
  "kernelspec": {
   "display_name": "Python 3",
   "language": "python",
   "name": "python3"
  },
  "language_info": {
   "codemirror_mode": {
    "name": "ipython",
    "version": 3
   },
   "file_extension": ".py",
   "mimetype": "text/x-python",
   "name": "python",
   "nbconvert_exporter": "python",
   "pygments_lexer": "ipython3",
   "version": "3.8.10"
  },
  "toc": {
   "base_numbering": 1,
   "nav_menu": {},
   "number_sections": true,
   "sideBar": true,
   "skip_h1_title": false,
   "title_cell": "Table of Contents",
   "title_sidebar": "Contents",
   "toc_cell": false,
   "toc_position": {},
   "toc_section_display": true,
   "toc_window_display": false
  }
 },
 "nbformat": 4,
 "nbformat_minor": 5
}
