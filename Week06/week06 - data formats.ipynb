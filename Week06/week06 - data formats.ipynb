{
 "cells": [
  {
   "cell_type": "markdown",
   "metadata": {
    "id": "-vekSVDtTpam"
   },
   "source": [
    "# Agenda "
   ]
  },
  {
   "cell_type": "markdown",
   "metadata": {
    "id": "6CBuGuOET7aB"
   },
   "source": [
    "__Part - I__\n",
    "\n",
    "  - Structured, Semi-Structured and Unstructured Data\n",
    "\n",
    "  - File Formats\n",
    "    - CSV\n",
    "    - JSON\n",
    "    - Working with Zip files\n"
   ]
  },
  {
   "cell_type": "markdown",
   "metadata": {
    "id": "K00sshxWj_xF"
   },
   "source": [
    "__Part-II__\n",
    "\n",
    "  - Use of pandas for reading csv, tsv files\n",
    "  - Use of json library for json files\n",
    "  - Use of zipfile library for zip files\n",
    "  - working with Text files"
   ]
  },
  {
   "cell_type": "markdown",
   "metadata": {
    "id": "J6iPNB1SUNkw"
   },
   "source": [
    "__Part-III__\n",
    "\n",
    "LAB"
   ]
  },
  {
   "cell_type": "markdown",
   "metadata": {
    "id": "rkyA5adBlOby"
   },
   "source": [
    "# Part-I"
   ]
  },
  {
   "cell_type": "markdown",
   "metadata": {
    "id": "qoTUDc3QlV83"
   },
   "source": [
    "## Types of Data (Classifying data by its *nature*)\n",
    "\n",
    "\n",
    "__What is data?__"
   ]
  },
  {
   "cell_type": "markdown",
   "metadata": {
    "id": "qcH85bXmlgqL"
   },
   "source": [
    "__Structured Data__\n",
    "\n",
    "- Conforms a data model\n",
    "- Fields of data will be stored \n",
    "- How that data will be stored: data type (numeric, alphabetic, date, Boolean) \n",
    "- Any restrictions on the data input (number of characters, etc.).\n",
    "\n",
    "__Examples__\n",
    "\n",
    "- Databases\n"
   ]
  },
  {
   "cell_type": "markdown",
   "metadata": {
    "id": "2KvTLoOLtexY"
   },
   "source": [
    "<img src = \"https://database.guide/wp-content/uploads/2016/06/MySQL_Schema_Music_Example.png\" width = 550 />\n",
    "\n",
    "\n",
    "[Image Source](https://database.guide/what-is-a-database-schema/)"
   ]
  },
  {
   "cell_type": "markdown",
   "metadata": {
    "id": "md0NDRKOrqW1"
   },
   "source": [
    "__Semi-Structured Data__\n",
    "\n",
    "- There is a structure in the data in terms of tags, rows, columns, hierarchies, fields.\n",
    "\n",
    "- But not necessarily there are unified restrictions and pre-defined types for fields and tags.\n",
    "\n"
   ]
  },
  {
   "cell_type": "markdown",
   "metadata": {
    "id": "wfBkAXqSW7Xe"
   },
   "source": [
    "An Example of semi-structured data: https://json.reddit.com/r/dataisbeautiful/"
   ]
  },
  {
   "cell_type": "markdown",
   "metadata": {
    "id": "v7bw5-2tXV-a"
   },
   "source": [
    "__Unstructured Data__\n",
    "\n",
    "From Wikipedia: https://en.wikipedia.org/wiki/Unstructured_data\n",
    "\n",
    "- No pre-defined data model\n",
    "\n",
    "- Not organized in fields, tags, attributes, etc.\n",
    "\n",
    "__Examples__\n",
    "\n",
    "social media posts, images, texts."
   ]
  },
  {
   "cell_type": "markdown",
   "metadata": {
    "id": "S6P_AmDjCpAN"
   },
   "source": [
    "## File Formats (How do we record data)"
   ]
  },
  {
   "cell_type": "markdown",
   "metadata": {
    "id": "_U6ea5tpEaz-"
   },
   "source": [
    "__What is a file?__\n",
    "\n"
   ]
  },
  {
   "cell_type": "markdown",
   "metadata": {
    "id": "NKm5HoZOGFAR"
   },
   "source": [
    "- create a docx file and open it from sublime text"
   ]
  },
  {
   "cell_type": "markdown",
   "metadata": {
    "id": "KNM1oiNvEASu"
   },
   "source": [
    "__Why do we need file formats__\n",
    "\n",
    "\n",
    "- Share\n",
    "\n",
    "- Store - Preserve\n",
    "\n",
    "- Access"
   ]
  },
  {
   "cell_type": "markdown",
   "metadata": {
    "id": "BYF751nKFHZK"
   },
   "source": [
    "__Frequently used file formats in data science__\n"
   ]
  },
  {
   "cell_type": "markdown",
   "metadata": {
    "id": "LGl70-zTHKAn"
   },
   "source": [
    "### CSV Files (Comma Separated Values)\n",
    "\n"
   ]
  },
  {
   "cell_type": "markdown",
   "metadata": {
    "id": "y7c1OUhDIQqY"
   },
   "source": [
    "- Uses `.csv` extension.\n",
    "\n",
    "- As name suggested data is organized in columns and each column is separated with a column.\n",
    "\n",
    "- Very common format in data science.\n",
    "\n",
    "- Looks very similar to spreadsheet files however note that you cannot encode formulas and format. \n",
    "\n",
    "- Because there is no formating and formulas it is easier to work with this format for bigger file sizes.\n",
    "\n",
    "- If we use `tab` instead of `,` then the file format is called `tsv` (tab separated values)\n",
    "\n",
    "Data.csv https://github.com/jackiekazil/data-wrangling/blob/master/data/chp3/data-text.csv"
   ]
  },
  {
   "cell_type": "markdown",
   "metadata": {
    "id": "mkz-6puyNAyr"
   },
   "source": [
    "### JSON (JavaScript Object Notation )"
   ]
  },
  {
   "cell_type": "markdown",
   "metadata": {
    "id": "GJedC_MfNPym"
   },
   "source": [
    "- Uses `.json` extension.\n",
    "\n",
    "- It is an alternative to `.xml` files and it is more human readiable.\n",
    "\n",
    "- It requires less syntax.\n",
    "\n",
    "- [Check nested objects](https://www.digitalocean.com/community/tutorials/an-introduction-to-json#:~:text=JSON%20%E2%80%94%20short%20for%20JavaScript%20Object,like%20the%20name%20%E2%80%9CJason.%E2%80%9D)"
   ]
  },
  {
   "cell_type": "markdown",
   "metadata": {
    "id": "w9ukGHuXQdCz"
   },
   "source": [
    "# Part-II\n",
    "\n",
    "\n",
    "Let's download the file."
   ]
  },
  {
   "cell_type": "code",
   "execution_count": null,
   "metadata": {
    "colab": {
     "base_uri": "https://localhost:8080/"
    },
    "id": "qT82psS5Ug3g",
    "outputId": "b57f0180-b34b-4855-bd1d-edfd7ae51266"
   },
   "outputs": [],
   "source": [
    "from urllib import request\n",
    "\n",
    "def download_file(file_name, url):\n",
    "    res = request.urlopen(url)\n",
    "    with open(file_name,'wb') as file:\n",
    "        file.write(res.read())\n",
    "    \n",
    "download_file('data-text.json', 'https://raw.githubusercontent.com/jackiekazil/data-wrangling/master/data/chp3/data-text.json')\n",
    "download_file('data-text.csv' , 'https://raw.githubusercontent.com/jackiekazil/data-wrangling/master/data/chp3/data-text.csv')"
   ]
  },
  {
   "cell_type": "code",
   "execution_count": null,
   "metadata": {},
   "outputs": [],
   "source": [
    "!ls"
   ]
  },
  {
   "cell_type": "code",
   "execution_count": null,
   "metadata": {},
   "outputs": [],
   "source": [
    "!head -3 data-text.csv"
   ]
  },
  {
   "cell_type": "markdown",
   "metadata": {
    "id": "4vaMz2tzVKuD"
   },
   "source": [
    "### Read and Write Files in Python"
   ]
  },
  {
   "cell_type": "markdown",
   "metadata": {
    "id": "AK-rY3wkaObB"
   },
   "source": [
    "## CSV files"
   ]
  },
  {
   "cell_type": "code",
   "execution_count": null,
   "metadata": {
    "id": "n83SfsEpV6MQ"
   },
   "outputs": [],
   "source": [
    "import csv "
   ]
  },
  {
   "cell_type": "code",
   "execution_count": null,
   "metadata": {
    "colab": {
     "base_uri": "https://localhost:8080/"
    },
    "id": "dZ6bgwD88op-",
    "outputId": "8678b882-a4c6-40ef-ba8d-c7b6279f2ffe"
   },
   "outputs": [],
   "source": [
    "path = 'data-text.csv'\n",
    "\n",
    "## with open read a cvs file\n",
    "\n",
    "## note that csv has reader method\n",
    "\n",
    "with open(path, mode = 'r')as file:\n",
    "    i = 0\n",
    "    reader = csv.reader(file)\n",
    "    for row in reader:\n",
    "        if i == 1:\n",
    "            print(row[5])\n",
    "            break\n",
    "        i += 1"
   ]
  },
  {
   "cell_type": "code",
   "execution_count": null,
   "metadata": {},
   "outputs": [],
   "source": [
    "# better way - enumarate\n",
    "\n",
    "path = 'data-text.csv'\n",
    "\n",
    "with open(path, mode = 'r')as file:\n",
    "    reader = csv.reader(file)\n",
    "    for i, row in enumerate(reader):\n",
    "        if i == 1:\n",
    "            print(row[5])\n",
    "            break\n"
   ]
  },
  {
   "cell_type": "markdown",
   "metadata": {
    "id": "Ty7qz2aQce6W"
   },
   "source": [
    "Note that we could read this file in a dictionary form also."
   ]
  },
  {
   "cell_type": "code",
   "execution_count": null,
   "metadata": {
    "id": "c61QgUsNcn80"
   },
   "outputs": [],
   "source": [
    "## we could also use 'DictReader' method\n",
    "country_list = []\n",
    "with open(path) as f:\n",
    "    reader = csv.DictReader(f)\n",
    "    for row in reader:\n",
    "        country_list.append(row['Country'])\n"
   ]
  },
  {
   "cell_type": "code",
   "execution_count": null,
   "metadata": {
    "colab": {
     "base_uri": "https://localhost:8080/"
    },
    "id": "lOP7J9va_5AN",
    "outputId": "c76545a7-a22c-46d8-fead-ef8d7494ad04"
   },
   "outputs": [],
   "source": [
    "len(set(country_list))"
   ]
  },
  {
   "cell_type": "markdown",
   "metadata": {
    "id": "Aqwy9PTNlU1w"
   },
   "source": [
    "In some cases using pandas for reading `.csv` files will be the most convenient."
   ]
  },
  {
   "cell_type": "code",
   "execution_count": null,
   "metadata": {
    "id": "9hp4phy4WCQS"
   },
   "outputs": [],
   "source": [
    "import pandas as pd"
   ]
  },
  {
   "cell_type": "code",
   "execution_count": null,
   "metadata": {
    "colab": {
     "base_uri": "https://localhost:8080/",
     "height": 250
    },
    "id": "5aOghM8jW0lt",
    "outputId": "24036329-3379-4a01-d55f-393688ec060e"
   },
   "outputs": [],
   "source": [
    "## use pandas to read the same file\n",
    "df = pd.read_csv(path)\n",
    "\n",
    "df.head(4)"
   ]
  },
  {
   "cell_type": "markdown",
   "metadata": {
    "id": "Wq3gSHRUdYVl"
   },
   "source": [
    "In fact pandas.read_csv is very convenient to load data directly from internet also"
   ]
  },
  {
   "cell_type": "code",
   "execution_count": null,
   "metadata": {
    "colab": {
     "base_uri": "https://localhost:8080/",
     "height": 296
    },
    "id": "7eueZdlAdhtR",
    "outputId": "3a028212-4724-4c8c-9f0a-5f1219ee15bb"
   },
   "outputs": [],
   "source": [
    "## pandas can read files from web without downloading them first\n",
    "\n",
    "link = 'https://raw.githubusercontent.com/jackiekazil/data-wrangling/master/data/chp3/data-text.csv'\n",
    "df_form_link = pd.read_csv(link)\n",
    "\n",
    "df_form_link.head(5)"
   ]
  },
  {
   "cell_type": "markdown",
   "metadata": {
    "id": "r8noZj0YQuOE"
   },
   "source": [
    "## JSON files"
   ]
  },
  {
   "cell_type": "code",
   "execution_count": null,
   "metadata": {
    "id": "Jk1YaRc2Rnd-"
   },
   "outputs": [],
   "source": [
    "import json"
   ]
  },
  {
   "cell_type": "code",
   "execution_count": null,
   "metadata": {
    "colab": {
     "base_uri": "https://localhost:8080/"
    },
    "id": "yYQLqYrIcFr9",
    "outputId": "e398810a-9e06-47d0-b593-b1a97d6f606f",
    "scrolled": true
   },
   "outputs": [],
   "source": [
    "## in contrast to csv module json uses load method\n",
    "\n",
    "with open('data-text.json') as file:\n",
    "    json_file = json.load(file)\n",
    "    for row in json_file:\n",
    "        print(row)"
   ]
  },
  {
   "cell_type": "code",
   "execution_count": null,
   "metadata": {
    "colab": {
     "base_uri": "https://localhost:8080/"
    },
    "id": "VAUT806CcXGs",
    "outputId": "60f68f2d-bf2e-4c21-b080-0c1933dfa0c9"
   },
   "outputs": [],
   "source": [
    "json_file"
   ]
  },
  {
   "cell_type": "markdown",
   "metadata": {
    "id": "rSWh0gp6edbN"
   },
   "source": [
    "Again we can also use pandas to be able to read json files."
   ]
  },
  {
   "cell_type": "code",
   "execution_count": null,
   "metadata": {
    "colab": {
     "base_uri": "https://localhost:8080/",
     "height": 586
    },
    "id": "81L3SRFseNLB",
    "outputId": "16fd2a44-dc96-4d8d-e6b7-9dc496394356"
   },
   "outputs": [],
   "source": [
    "## not surprisingly pandas can read json too\n",
    "\n",
    "pd.read_json('data-text.json')"
   ]
  },
  {
   "cell_type": "markdown",
   "metadata": {
    "id": "Uq_3Pu0CfCAH"
   },
   "source": [
    "## Working with Zipped Files"
   ]
  },
  {
   "cell_type": "code",
   "execution_count": 4,
   "metadata": {
    "id": "ScXk4Ub4jZP3"
   },
   "outputs": [],
   "source": [
    "from zipfile import ZipFile"
   ]
  },
  {
   "cell_type": "markdown",
   "metadata": {
    "id": "QlvnhmEfln1V"
   },
   "source": [
    "__Load a zip file before continue__"
   ]
  },
  {
   "cell_type": "code",
   "execution_count": 5,
   "metadata": {
    "id": "gkXubEjkl8df"
   },
   "outputs": [
    {
     "ename": "NameError",
     "evalue": "name 'download_file' is not defined",
     "output_type": "error",
     "traceback": [
      "\u001b[0;31m---------------------------------------------------------------------------\u001b[0m",
      "\u001b[0;31mNameError\u001b[0m                                 Traceback (most recent call last)",
      "\u001b[0;32m<ipython-input-5-e62eb84287ca>\u001b[0m in \u001b[0;36m<module>\u001b[0;34m\u001b[0m\n\u001b[1;32m      2\u001b[0m \u001b[0mfile_name\u001b[0m \u001b[0;34m=\u001b[0m \u001b[0;34m'world_cup.zip'\u001b[0m\u001b[0;34m\u001b[0m\u001b[0;34m\u001b[0m\u001b[0m\n\u001b[1;32m      3\u001b[0m \u001b[0;34m\u001b[0m\u001b[0m\n\u001b[0;32m----> 4\u001b[0;31m \u001b[0mdownload_file\u001b[0m\u001b[0;34m(\u001b[0m\u001b[0mfile_name\u001b[0m\u001b[0;34m,\u001b[0m \u001b[0mfile_url\u001b[0m\u001b[0;34m)\u001b[0m\u001b[0;34m\u001b[0m\u001b[0;34m\u001b[0m\u001b[0m\n\u001b[0m",
      "\u001b[0;31mNameError\u001b[0m: name 'download_file' is not defined"
     ]
    }
   ],
   "source": [
    "file_url = 'https://github.com/msaricaumbc/DS601_Fall21/raw/main/Week06/data/world_cup.csv.zip'\n",
    "file_name = 'world_cup.zip'\n",
    "\n",
    "download_file(file_name, file_url)"
   ]
  },
  {
   "cell_type": "code",
   "execution_count": 2,
   "metadata": {
    "colab": {
     "base_uri": "https://localhost:8080/"
    },
    "id": "Nda5MDuujd7I",
    "outputId": "8bda96c3-7da8-4bf4-a83d-3139e656e0b8"
   },
   "outputs": [],
   "source": [
    "def unzip(file_name, path='./'):\n",
    "    # opening the zip file in READ mode \n",
    "    with ZipFile(file_name, 'r') as zip: \n",
    "        # printing all the contents of the zip file \n",
    "        zip.printdir() \n",
    "\n",
    "        # extracting all the files \n",
    "        print('Extracting all the files now...') \n",
    "        zip.extractall(path = path) \n",
    "        print('Done!') "
   ]
  },
  {
   "cell_type": "code",
   "execution_count": 3,
   "metadata": {},
   "outputs": [
    {
     "ename": "NameError",
     "evalue": "name 'file_name' is not defined",
     "output_type": "error",
     "traceback": [
      "\u001b[0;31m---------------------------------------------------------------------------\u001b[0m",
      "\u001b[0;31mNameError\u001b[0m                                 Traceback (most recent call last)",
      "\u001b[0;32m<ipython-input-3-12c2240bc39a>\u001b[0m in \u001b[0;36m<module>\u001b[0;34m\u001b[0m\n\u001b[0;32m----> 1\u001b[0;31m \u001b[0munzip\u001b[0m\u001b[0;34m(\u001b[0m\u001b[0mfile_name\u001b[0m\u001b[0;34m)\u001b[0m\u001b[0;34m\u001b[0m\u001b[0;34m\u001b[0m\u001b[0m\n\u001b[0m",
      "\u001b[0;31mNameError\u001b[0m: name 'file_name' is not defined"
     ]
    }
   ],
   "source": [
    "unzip(file_name)"
   ]
  },
  {
   "cell_type": "code",
   "execution_count": null,
   "metadata": {},
   "outputs": [],
   "source": [
    "!ls"
   ]
  },
  {
   "cell_type": "code",
   "execution_count": null,
   "metadata": {
    "colab": {
     "base_uri": "https://localhost:8080/",
     "height": 842
    },
    "id": "x6O-cuO6n8OM",
    "outputId": "09a55a21-f240-4da7-99d3-757d55d415ba"
   },
   "outputs": [],
   "source": [
    "pd.read_csv('world_cup.csv')"
   ]
  },
  {
   "cell_type": "markdown",
   "metadata": {
    "id": "lXKiMFb0k4VN"
   },
   "source": [
    "For more on extracting and writing zip files: https://www.geeksforgeeks.org/working-zip-files-python/"
   ]
  },
  {
   "cell_type": "markdown",
   "metadata": {
    "id": "41szkBbeRrTM"
   },
   "source": [
    "# Lab\n",
    "\n",
    "Please complete your lab"
   ]
  },
  {
   "cell_type": "markdown",
   "metadata": {
    "id": "8bSL42tOo-eK"
   },
   "source": [
    "# Homework"
   ]
  },
  {
   "cell_type": "markdown",
   "metadata": {
    "id": "4BXBt3YDpAHR"
   },
   "source": [
    "- You will be provided a zip file. Choose one of the csv files and apply the perform the same work"
   ]
  },
  {
   "cell_type": "code",
   "execution_count": null,
   "metadata": {
    "id": "oydPJpncpU4T"
   },
   "outputs": [],
   "source": []
  }
 ],
 "metadata": {
  "colab": {
   "name": "Instructor_Copy_Data Formats.ipynb",
   "provenance": []
  },
  "kernelspec": {
   "display_name": "Python 3",
   "language": "python",
   "name": "python3"
  },
  "language_info": {
   "codemirror_mode": {
    "name": "ipython",
    "version": 3
   },
   "file_extension": ".py",
   "mimetype": "text/x-python",
   "name": "python",
   "nbconvert_exporter": "python",
   "pygments_lexer": "ipython3",
   "version": "3.8.10"
  },
  "toc": {
   "base_numbering": 1,
   "nav_menu": {},
   "number_sections": true,
   "sideBar": true,
   "skip_h1_title": false,
   "title_cell": "Table of Contents",
   "title_sidebar": "Contents",
   "toc_cell": false,
   "toc_position": {},
   "toc_section_display": true,
   "toc_window_display": false
  }
 },
 "nbformat": 4,
 "nbformat_minor": 1
}
