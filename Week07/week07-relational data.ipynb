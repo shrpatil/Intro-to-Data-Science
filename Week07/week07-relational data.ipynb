{
 "cells": [
  {
   "cell_type": "markdown",
   "metadata": {
    "slideshow": {
     "slide_type": "slide"
    }
   },
   "source": [
    "![sql](img/sql-logo.jpg)\n",
    "\n",
    "# A beginner's guide to databases, SQL, & using them with `pandas`"
   ]
  },
  {
   "cell_type": "markdown",
   "metadata": {
    "slideshow": {
     "slide_type": "slide"
    }
   },
   "source": [
    "**Scenario:** You are a data analyst for the Homeland Security, trying to create reports on the active airports world wide. The data you need to access is in a SQL database. YOu need to be able to query for the data in a database!"
   ]
  },
  {
   "cell_type": "markdown",
   "metadata": {
    "slideshow": {
     "slide_type": "slide"
    }
   },
   "source": [
    "## Learning goals:\n",
    "- Goal 1: Summarize the use case for sql in the data science skill set\n",
    "- Goal 2: Define key sql terminology\n",
    "- Goal 3: Get information about DB schema and table structure\n",
    "- Goal 4: Use basic SQL commands:\n",
    "    - Construct SQL queries\n",
    "    - Use `JOIN` to merge tables along logical columns\n",
    "    - Grouping Data with SQL, inlcuding `HAVING`\n",
    "- Goal 5: Convert SQL to pandas"
   ]
  },
  {
   "cell_type": "markdown",
   "metadata": {
    "slideshow": {
     "slide_type": "slide"
    }
   },
   "source": [
    "## Goal 1: Summarize\n",
    "\n",
    "To date the data we've seen has looked like [this.](https://data.austintexas.gov/Health-and-Community-Services/Austin-Animal-Center-Intakes/wter-evkm)\n",
    "\n",
    "That is how we need data to look to run analysis and build models.<br>\n",
    "But it doesn't _live_ there in it's native state."
   ]
  },
  {
   "cell_type": "markdown",
   "metadata": {
    "slideshow": {
     "slide_type": "slide"
    }
   },
   "source": [
    "[Netflix has a great article](https://medium.com/netflix-techblog/notebook-innovation-591ee3221233) describing three different data roles at their company, their different needs, and their toolsets.\n",
    "\n",
    "![netflix](img/netflix-data-roles.jpeg)\n",
    "\n",
    "Examining that graphic, SQL shows up as one of the tools of the _Data Engineer_ "
   ]
  },
  {
   "cell_type": "markdown",
   "metadata": {
    "slideshow": {
     "slide_type": "slide"
    }
   },
   "source": [
    "Data Engineers provide the essential data architecture services that make data science possible.\n",
    "\n",
    "![hierarchy](img/ai-hierachy.png)\n",
    "\n",
    "[Source: Monica Rogati’s fantastic Medium post “The AI Hierarchy of Needs”\n",
    "](https://hackernoon.com/the-ai-hierarchy-of-needs-18f111fcc007)"
   ]
  },
  {
   "cell_type": "markdown",
   "metadata": {},
   "source": [
    "## What does it mean to **Engineer Data**?\n",
    "\n",
    "Let's start with a basic scenario:<br>\n",
    "You are HR. You have *no* current database. \n",
    "How would you set it up?\n",
    "\n",
    "Data needs considerations:\n",
    "- What you want to store\n",
    "- What \"views\" you anticipate wanting in the future\n",
    "\n",
    "Structure considerations:\n",
    "- Speed of retrieval\n",
    "- How much data you are accessing\n",
    "- How much you are storing"
   ]
  },
  {
   "cell_type": "markdown",
   "metadata": {
    "slideshow": {
     "slide_type": "slide"
    }
   },
   "source": [
    "![etl](img/etl.png)\n",
    "\n",
    "[img source: Jeff Hammerbacher’s slide from UC Berkeley CS 194 course ](https://bcourses.berkeley.edu/courses/1377158/pages/cs-194-16-introduction-to-data-science-fall-2015)"
   ]
  },
  {
   "cell_type": "markdown",
   "metadata": {
    "slideshow": {
     "slide_type": "slide"
    }
   },
   "source": [
    "### What is a Relational Database? \n",
    "\n",
    "![rdb](img/relational-dbms-model.png)\n",
    "[reference for image ](https://www.studytonight.com/dbms/database-model.php)"
   ]
  },
  {
   "cell_type": "markdown",
   "metadata": {
    "slideshow": {
     "slide_type": "slide"
    }
   },
   "source": [
    "### POPULAR RDBMS\n",
    "\n",
    "- SQLite\n",
    "- MySQL\n",
    "- PostgreSql\n",
    "- Oracle DB\n",
    "- SQL Server"
   ]
  },
  {
   "cell_type": "markdown",
   "metadata": {},
   "source": [
    "***\n",
    "### SQL\n",
    "\n",
    "[History of SQL](https://www.businessnewsdaily.com/5804-what-is-sql.html)\n",
    "\n",
    "> Future users of large data banks must be protected from having to know how the data is organized in the machine (the internal representation). A prompting service which supplies such information is not a satisfactory solution. Activities of users at terminals and most application programs should remain unaffected when the internal representation of data is changed and even when some aspects of the external representation are changed. Changes in data representation will often be needed as a result of changes in query, update, and report traffic and natural growth in the types of stored information.\n",
    ".\n",
    ".\n",
    ".<br>\n",
    "<br>\n",
    "In Section 1 a relational model of data is proposed as a basis for protecting users of formatted data systems from the potentially disruptive changes in data representation caused by growth in the data bank and changes in traffic.\n",
    "\n",
    "[The original SQL paper from the 1970s.](https://www.seas.upenn.edu/~zives/03f/cis550/codd.pdf)"
   ]
  },
  {
   "cell_type": "markdown",
   "metadata": {
    "slideshow": {
     "slide_type": "slide"
    }
   },
   "source": [
    "***\n",
    "## Goal 2: Database terminology\n",
    "\n",
    "### Relational Database Schema\n",
    "\n",
    "![schema](img/MySQL_Schema_Music_Example.png)\n",
    "\n",
    "[source of image](https://database.guide/what-is-a-database-schema/)"
   ]
  },
  {
   "cell_type": "markdown",
   "metadata": {
    "slideshow": {
     "slide_type": "slide"
    }
   },
   "source": [
    "***\n",
    "### SQLite\n",
    "\n",
    "<img src=\"img/SQLite-Python.jpg\" width=500>\n",
    "\n",
    "\"SQLite is a C library that provides a lightweight disk-based database that doesn’t require a separate server process and allows accessing the database using a nonstandard variant of the SQL query language. Some applications can use SQLite for internal data storage. It’s also possible to prototype an application using SQLite and then port the code to a larger database such as PostgreSQL or Oracle.\" - [sqlite documentation](https://docs.python.org/2/library/sqlite3.html)\n",
    "\n"
   ]
  },
  {
   "cell_type": "markdown",
   "metadata": {
    "slideshow": {
     "slide_type": "slide"
    }
   },
   "source": [
    "## But what about connecting to database servers?\n",
    "\n",
    "To connect to other database types there are many different libraries:\n",
    "- Oracle: [cx_Oracle](https://oracle.github.io/python-cx_Oracle/)\n",
    "- MySQL: [MySQL-python](https://github.com/farcepest/MySQLdb1)\n",
    "- PostgreSQL: [Psycopg2](http://initd.org/psycopg/docs/)\n",
    "- Microsoft SQL Server: [pymssql](http://www.pymssql.org/en/stable/)\n",
    "\n",
    "These all implement [PEP 249: DB API v2](https://www.python.org/dev/peps/pep-0249/)"
   ]
  },
  {
   "cell_type": "markdown",
   "metadata": {
    "slideshow": {
     "slide_type": "slide"
    }
   },
   "source": [
    "### The Structure of a SQL Query"
   ]
  },
  {
   "cell_type": "markdown",
   "metadata": {
    "slideshow": {
     "slide_type": "slide"
    }
   },
   "source": [
    "<img src='img/sql_statement.jpg'/>"
   ]
  },
  {
   "cell_type": "markdown",
   "metadata": {
    "slideshow": {
     "slide_type": "slide"
    }
   },
   "source": [
    "***\n",
    "## Goal 3: Get going with sqlite!"
   ]
  },
  {
   "cell_type": "code",
   "execution_count": 102,
   "metadata": {
    "slideshow": {
     "slide_type": "fragment"
    }
   },
   "outputs": [],
   "source": [
    "import sqlite3"
   ]
  },
  {
   "cell_type": "markdown",
   "metadata": {
    "slideshow": {
     "slide_type": "slide"
    }
   },
   "source": [
    "#### Load a DB object with `connect` and `cursor`"
   ]
  },
  {
   "cell_type": "code",
   "execution_count": 103,
   "metadata": {
    "slideshow": {
     "slide_type": "fragment"
    }
   },
   "outputs": [],
   "source": [
    "con = sqlite3.connect('data/flights.db')\n",
    "cursor = con.cursor()"
   ]
  },
  {
   "cell_type": "markdown",
   "metadata": {
    "slideshow": {
     "slide_type": "slide"
    }
   },
   "source": [
    "#### Use sqlite_master to find all the tables in the schema\n",
    "Get the schema of a database from a db in sqlite"
   ]
  },
  {
   "cell_type": "code",
   "execution_count": 104,
   "metadata": {},
   "outputs": [
    {
     "name": "stdout",
     "output_type": "stream",
     "text": [
      "[('airports',), ('airlines',), ('routes',)]\n"
     ]
    }
   ],
   "source": [
    "cursor.execute(\"SELECT name FROM sqlite_master WHERE type='table';\")\n",
    "print(cursor.fetchall())"
   ]
  },
  {
   "cell_type": "code",
   "execution_count": 105,
   "metadata": {},
   "outputs": [
    {
     "data": {
      "text/plain": [
       "(('name', None, None, None, None, None, None),)"
      ]
     },
     "execution_count": 105,
     "metadata": {},
     "output_type": "execute_result"
    }
   ],
   "source": [
    "cursor.description"
   ]
  },
  {
   "cell_type": "code",
   "execution_count": 106,
   "metadata": {},
   "outputs": [
    {
     "name": "stdout",
     "output_type": "stream",
     "text": [
      "[('airports', 'table'), ('ix_airports_index', 'index'), ('airlines', 'table'), ('ix_airlines_index', 'index'), ('routes', 'table'), ('ix_routes_index', 'index')]\n"
     ]
    }
   ],
   "source": [
    "cursor.execute(\"SELECT name, type FROM sqlite_master;\")\n",
    "print(cursor.fetchall())"
   ]
  },
  {
   "cell_type": "code",
   "execution_count": 107,
   "metadata": {},
   "outputs": [
    {
     "name": "stdout",
     "output_type": "stream",
     "text": [
      "('table', 'airports', 'airports', 2, 'CREATE TABLE airports (\\n[index] INTEGER,\\n  [id] TEXT,\\n  [name] TEXT,\\n  [city] TEXT,\\n  [country] TEXT,\\n  [code] TEXT,\\n  [icao] TEXT,\\n  [latitude] TEXT,\\n  [longitude] TEXT,\\n  [altitude] TEXT,\\n  [offset] TEXT,\\n  [dst] TEXT,\\n  [timezone] TEXT\\n)')\n",
      "('index', 'ix_airports_index', 'airports', 3, 'CREATE INDEX ix_airports_index ON airports ([index])')\n",
      "('table', 'airlines', 'airlines', 945, 'CREATE TABLE airlines (\\n[index] INTEGER,\\n  [id] TEXT,\\n  [name] TEXT,\\n  [alias] TEXT,\\n  [iata] TEXT,\\n  [icao] TEXT,\\n  [callsign] TEXT,\\n  [country] TEXT,\\n  [active] TEXT\\n)')\n",
      "('index', 'ix_airlines_index', 'airlines', 946, 'CREATE INDEX ix_airlines_index ON airlines ([index])')\n",
      "('table', 'routes', 'routes', 1393, 'CREATE TABLE routes (\\n[index] INTEGER,\\n  [airline] TEXT,\\n  [airline_id] TEXT,\\n  [source] TEXT,\\n  [source_id] TEXT,\\n  [dest] TEXT,\\n  [dest_id] TEXT,\\n  [codeshare] TEXT,\\n  [stops] TEXT,\\n  [equipment] TEXT\\n)')\n",
      "('index', 'ix_routes_index', 'routes', 1394, 'CREATE INDEX ix_routes_index ON routes ([index])')\n"
     ]
    }
   ],
   "source": [
    "cursor.execute(\"SELECT * FROM sqlite_master;\")\n",
    "results = cursor.fetchall()\n",
    "for res in results:\n",
    "    print(res)"
   ]
  },
  {
   "cell_type": "markdown",
   "metadata": {
    "slideshow": {
     "slide_type": "slide"
    }
   },
   "source": [
    "#### Get information about one table\n",
    "\n",
    "**A note about** `execute`<br>\n",
    "Each time you use it, you reset the value of cursor"
   ]
  },
  {
   "cell_type": "code",
   "execution_count": 108,
   "metadata": {},
   "outputs": [
    {
     "data": {
      "text/plain": [
       "(0,\n",
       " '1',\n",
       " 'Goroka',\n",
       " 'Goroka',\n",
       " 'Papua New Guinea',\n",
       " 'GKA',\n",
       " 'AYGA',\n",
       " '-6.081689',\n",
       " '145.391881',\n",
       " '5282',\n",
       " '10',\n",
       " 'U',\n",
       " 'Pacific/Port_Moresby')"
      ]
     },
     "execution_count": 108,
     "metadata": {},
     "output_type": "execute_result"
    }
   ],
   "source": [
    "cursor.execute(\"SELECT * FROM airports\").fetchone()"
   ]
  },
  {
   "cell_type": "code",
   "execution_count": 109,
   "metadata": {},
   "outputs": [
    {
     "data": {
      "text/plain": [
       "(1,\n",
       " '2',\n",
       " 'Madang',\n",
       " 'Madang',\n",
       " 'Papua New Guinea',\n",
       " 'MAG',\n",
       " 'AYMD',\n",
       " '-5.207083',\n",
       " '145.7887',\n",
       " '20',\n",
       " '10',\n",
       " 'U',\n",
       " 'Pacific/Port_Moresby')"
      ]
     },
     "execution_count": 109,
     "metadata": {},
     "output_type": "execute_result"
    }
   ],
   "source": [
    "cursor.fetchone()"
   ]
  },
  {
   "cell_type": "code",
   "execution_count": 110,
   "metadata": {},
   "outputs": [
    {
     "data": {
      "text/plain": [
       "[(2,\n",
       "  '3',\n",
       "  'Mount Hagen',\n",
       "  'Mount Hagen',\n",
       "  'Papua New Guinea',\n",
       "  'HGU',\n",
       "  'AYMH',\n",
       "  '-5.826789',\n",
       "  '144.295861',\n",
       "  '5388',\n",
       "  '10',\n",
       "  'U',\n",
       "  'Pacific/Port_Moresby'),\n",
       " (3,\n",
       "  '4',\n",
       "  'Nadzab',\n",
       "  'Nadzab',\n",
       "  'Papua New Guinea',\n",
       "  'LAE',\n",
       "  'AYNZ',\n",
       "  '-6.569828',\n",
       "  '146.726242',\n",
       "  '239',\n",
       "  '10',\n",
       "  'U',\n",
       "  'Pacific/Port_Moresby'),\n",
       " (4,\n",
       "  '5',\n",
       "  'Port Moresby Jacksons Intl',\n",
       "  'Port Moresby',\n",
       "  'Papua New Guinea',\n",
       "  'POM',\n",
       "  'AYPY',\n",
       "  '-9.443383',\n",
       "  '147.22005',\n",
       "  '146',\n",
       "  '10',\n",
       "  'U',\n",
       "  'Pacific/Port_Moresby'),\n",
       " (5,\n",
       "  '6',\n",
       "  'Wewak Intl',\n",
       "  'Wewak',\n",
       "  'Papua New Guinea',\n",
       "  'WWK',\n",
       "  'AYWK',\n",
       "  '-3.583828',\n",
       "  '143.669186',\n",
       "  '19',\n",
       "  '10',\n",
       "  'U',\n",
       "  'Pacific/Port_Moresby')]"
      ]
     },
     "execution_count": 110,
     "metadata": {},
     "output_type": "execute_result"
    }
   ],
   "source": [
    "cursor.fetchmany(4)"
   ]
  },
  {
   "cell_type": "markdown",
   "metadata": {
    "slideshow": {
     "slide_type": "slide"
    }
   },
   "source": [
    "#### Use description"
   ]
  },
  {
   "cell_type": "code",
   "execution_count": 111,
   "metadata": {
    "slideshow": {
     "slide_type": "fragment"
    }
   },
   "outputs": [
    {
     "data": {
      "text/plain": [
       "(('index', None, None, None, None, None, None),\n",
       " ('id', None, None, None, None, None, None),\n",
       " ('name', None, None, None, None, None, None),\n",
       " ('city', None, None, None, None, None, None),\n",
       " ('country', None, None, None, None, None, None),\n",
       " ('code', None, None, None, None, None, None),\n",
       " ('icao', None, None, None, None, None, None),\n",
       " ('latitude', None, None, None, None, None, None),\n",
       " ('longitude', None, None, None, None, None, None),\n",
       " ('altitude', None, None, None, None, None, None),\n",
       " ('offset', None, None, None, None, None, None),\n",
       " ('dst', None, None, None, None, None, None),\n",
       " ('timezone', None, None, None, None, None, None))"
      ]
     },
     "execution_count": 111,
     "metadata": {},
     "output_type": "execute_result"
    }
   ],
   "source": [
    "cursor.description"
   ]
  },
  {
   "cell_type": "markdown",
   "metadata": {
    "slideshow": {
     "slide_type": "slide"
    }
   },
   "source": [
    "#### Or use `Pragma`\n",
    "`Pragma` tool [link here](https://www.sqlite.org/pragma.html#pragma_table_info)\n",
    "\n",
    "**output**<br>\n",
    "`(column id, column name, data type, whether or not the column can be NULL, and the default value for the column)`"
   ]
  },
  {
   "cell_type": "code",
   "execution_count": 112,
   "metadata": {
    "slideshow": {
     "slide_type": "slide"
    }
   },
   "outputs": [
    {
     "data": {
      "text/plain": [
       "[(0, 'index', 'INTEGER', 0, None, 0),\n",
       " (1, 'id', 'TEXT', 0, None, 0),\n",
       " (2, 'name', 'TEXT', 0, None, 0),\n",
       " (3, 'city', 'TEXT', 0, None, 0),\n",
       " (4, 'country', 'TEXT', 0, None, 0),\n",
       " (5, 'code', 'TEXT', 0, None, 0),\n",
       " (6, 'icao', 'TEXT', 0, None, 0),\n",
       " (7, 'latitude', 'TEXT', 0, None, 0),\n",
       " (8, 'longitude', 'TEXT', 0, None, 0),\n",
       " (9, 'altitude', 'TEXT', 0, None, 0),\n",
       " (10, 'offset', 'TEXT', 0, None, 0),\n",
       " (11, 'dst', 'TEXT', 0, None, 0),\n",
       " (12, 'timezone', 'TEXT', 0, None, 0)]"
      ]
     },
     "execution_count": 112,
     "metadata": {},
     "output_type": "execute_result"
    }
   ],
   "source": [
    "cursor.execute(\"PRAGMA table_info(airports)\")\n",
    "info = cursor.fetchall()\n",
    "info"
   ]
  },
  {
   "cell_type": "markdown",
   "metadata": {
    "slideshow": {
     "slide_type": "slide"
    }
   },
   "source": [
    "#### Making fetch happen\n",
    "\n",
    "`.fetchall()` is how you get the query results out of the object.\n",
    "\n",
    "You can also `.fetchone()` or `.fetchmany()`"
   ]
  },
  {
   "cell_type": "markdown",
   "metadata": {
    "slideshow": {
     "slide_type": "slide"
    }
   },
   "source": [
    "**Task:** Get the descriptive data for airlines and routes tables"
   ]
  },
  {
   "cell_type": "code",
   "execution_count": 113,
   "metadata": {},
   "outputs": [
    {
     "data": {
      "text/plain": [
       "[(0, 'index', 'INTEGER', 0, None, 0),\n",
       " (1, 'id', 'TEXT', 0, None, 0),\n",
       " (2, 'name', 'TEXT', 0, None, 0),\n",
       " (3, 'alias', 'TEXT', 0, None, 0),\n",
       " (4, 'iata', 'TEXT', 0, None, 0),\n",
       " (5, 'icao', 'TEXT', 0, None, 0),\n",
       " (6, 'callsign', 'TEXT', 0, None, 0),\n",
       " (7, 'country', 'TEXT', 0, None, 0),\n",
       " (8, 'active', 'TEXT', 0, None, 0)]"
      ]
     },
     "execution_count": 113,
     "metadata": {},
     "output_type": "execute_result"
    }
   ],
   "source": [
    "cursor.execute(\"PRAGMA table_info(airlines)\")\n",
    "info = cursor.fetchall()\n",
    "info"
   ]
  },
  {
   "cell_type": "code",
   "execution_count": 114,
   "metadata": {},
   "outputs": [
    {
     "data": {
      "text/plain": [
       "[(0, 'index', 'INTEGER', 0, None, 0),\n",
       " (1, 'airline', 'TEXT', 0, None, 0),\n",
       " (2, 'airline_id', 'TEXT', 0, None, 0),\n",
       " (3, 'source', 'TEXT', 0, None, 0),\n",
       " (4, 'source_id', 'TEXT', 0, None, 0),\n",
       " (5, 'dest', 'TEXT', 0, None, 0),\n",
       " (6, 'dest_id', 'TEXT', 0, None, 0),\n",
       " (7, 'codeshare', 'TEXT', 0, None, 0),\n",
       " (8, 'stops', 'TEXT', 0, None, 0),\n",
       " (9, 'equipment', 'TEXT', 0, None, 0)]"
      ]
     },
     "execution_count": 114,
     "metadata": {},
     "output_type": "execute_result"
    }
   ],
   "source": [
    "cursor.execute(\"PRAGMA table_info(routes)\")\n",
    "info = cursor.fetchall()\n",
    "info"
   ]
  },
  {
   "cell_type": "markdown",
   "metadata": {
    "slideshow": {
     "slide_type": "slide"
    }
   },
   "source": [
    "***\n",
    "## Goal 4: Use basic SQL commands \n",
    "- Construct SQL queries\n",
    "- Use JOIN to merge tables along logical columns\n",
    "- Grouping Data with SQL"
   ]
  },
  {
   "cell_type": "markdown",
   "metadata": {
    "slideshow": {
     "slide_type": "slide"
    }
   },
   "source": [
    "### Construct SQL queries"
   ]
  },
  {
   "cell_type": "markdown",
   "metadata": {
    "slideshow": {
     "slide_type": "fragment"
    }
   },
   "source": [
    "**Select**"
   ]
  },
  {
   "cell_type": "markdown",
   "metadata": {
    "slideshow": {
     "slide_type": "fragment"
    }
   },
   "source": [
    "**From**"
   ]
  },
  {
   "cell_type": "markdown",
   "metadata": {
    "slideshow": {
     "slide_type": "fragment"
    }
   },
   "source": [
    "**Where**"
   ]
  },
  {
   "cell_type": "markdown",
   "metadata": {
    "slideshow": {
     "slide_type": "fragment"
    }
   },
   "source": [
    "**Order by**"
   ]
  },
  {
   "cell_type": "markdown",
   "metadata": {
    "slideshow": {
     "slide_type": "fragment"
    }
   },
   "source": [
    "**Limit**"
   ]
  },
  {
   "cell_type": "markdown",
   "metadata": {
    "slideshow": {
     "slide_type": "slide"
    }
   },
   "source": [
    "#### Options for each:"
   ]
  },
  {
   "cell_type": "markdown",
   "metadata": {
    "slideshow": {
     "slide_type": "fragment"
    }
   },
   "source": [
    "**Select**:  `distinct`, using `as` to rename columns, single number aggregates"
   ]
  },
  {
   "cell_type": "markdown",
   "metadata": {
    "slideshow": {
     "slide_type": "fragment"
    }
   },
   "source": [
    "**From:** also uses aliasing with `as`"
   ]
  },
  {
   "cell_type": "markdown",
   "metadata": {
    "slideshow": {
     "slide_type": "fragment"
    }
   },
   "source": [
    "**Where**: equals is only one `=`, `between`, `in`, wildcards `%`, `AND`, `OR`, `NOT`"
   ]
  },
  {
   "cell_type": "markdown",
   "metadata": {
    "slideshow": {
     "slide_type": "fragment"
    }
   },
   "source": [
    "**Order by**: `asc` and `desc`"
   ]
  },
  {
   "cell_type": "markdown",
   "metadata": {
    "slideshow": {
     "slide_type": "fragment"
    }
   },
   "source": [
    "**Limit**:  #"
   ]
  },
  {
   "cell_type": "markdown",
   "metadata": {
    "slideshow": {
     "slide_type": "slide"
    }
   },
   "source": [
    "**Task**: \n",
    "- Select only active airlines in the UK from the airlines table\n",
    "- Select the unique list of countries with airports"
   ]
  },
  {
   "cell_type": "code",
   "execution_count": 115,
   "metadata": {},
   "outputs": [
    {
     "data": {
      "text/plain": [
       "[(0, '1', 'Private flight', '\\\\N', '-', None, None, None, 'Y'),\n",
       " (1, '2', '135 Airways', '\\\\N', None, 'GNL', 'GENERAL', 'United States', 'N'),\n",
       " (2, '3', '1Time Airline', '\\\\N', '1T', 'RNX', 'NEXTIME', 'South Africa', 'Y'),\n",
       " (3,\n",
       "  '4',\n",
       "  '2 Sqn No 1 Elementary Flying Training School',\n",
       "  '\\\\N',\n",
       "  None,\n",
       "  'WYT',\n",
       "  None,\n",
       "  'United Kingdom',\n",
       "  'N'),\n",
       " (4, '5', '213 Flight Unit', '\\\\N', None, 'TFU', None, 'Russia', 'N')]"
      ]
     },
     "execution_count": 115,
     "metadata": {},
     "output_type": "execute_result"
    }
   ],
   "source": [
    "cursor.execute(\"\"\"\n",
    "SELECT *\n",
    "FROM airlines\n",
    "\"\"\")\n",
    "cursor.fetchmany(5)"
   ]
  },
  {
   "cell_type": "code",
   "execution_count": 116,
   "metadata": {},
   "outputs": [
    {
     "data": {
      "text/plain": [
       "[('Astraeus',),\n",
       " ('Air Southwest',),\n",
       " ('Aurigny Air Services',),\n",
       " ('Air Wales',),\n",
       " ('AD Aviation',)]"
      ]
     },
     "execution_count": 116,
     "metadata": {},
     "output_type": "execute_result"
    }
   ],
   "source": [
    "cursor.execute(\"\"\"\n",
    "SELECT name\n",
    "FROM airlines\n",
    "WHERE active = 'Y'\n",
    "  AND country = 'United Kingdom';\n",
    "\"\"\")\n",
    "cursor.fetchmany(5)"
   ]
  },
  {
   "cell_type": "markdown",
   "metadata": {
    "slideshow": {
     "slide_type": "slide"
    }
   },
   "source": [
    "### SQL Joins"
   ]
  },
  {
   "cell_type": "markdown",
   "metadata": {
    "slideshow": {
     "slide_type": "fragment"
    }
   },
   "source": [
    "SQL joins can be used to both **add** data to a table and **remove** data from a table. "
   ]
  },
  {
   "cell_type": "markdown",
   "metadata": {
    "slideshow": {
     "slide_type": "fragment"
    }
   },
   "source": [
    "<img src=\"img/venn.png\" width=550>"
   ]
  },
  {
   "cell_type": "markdown",
   "metadata": {
    "slideshow": {
     "slide_type": "slide"
    }
   },
   "source": [
    "**Task** Write a query that will join the latitude and longitude data from the airports table to the information on the routes table"
   ]
  },
  {
   "cell_type": "code",
   "execution_count": 139,
   "metadata": {},
   "outputs": [
    {
     "name": "stdout",
     "output_type": "stream",
     "text": [
      "('index', None, None, None, None, None, None)\n",
      "('airline', None, None, None, None, None, None)\n",
      "('airline_id', None, None, None, None, None, None)\n",
      "('source', None, None, None, None, None, None)\n",
      "('source_id', None, None, None, None, None, None)\n",
      "('dest', None, None, None, None, None, None)\n",
      "('dest_id', None, None, None, None, None, None)\n",
      "('codeshare', None, None, None, None, None, None)\n",
      "('stops', None, None, None, None, None, None)\n",
      "('equipment', None, None, None, None, None, None)\n",
      "('longitude', None, None, None, None, None, None)\n",
      "('latitude', None, None, None, None, None, None)\n"
     ]
    }
   ],
   "source": [
    "cursor.execute(\"\"\"\n",
    "SELECT routes. *, airports.longitude, airports.latitude FROM routes LEFT JOIN airports ON routes.dest=airports.code\n",
    "\"\"\")\n",
    "print(*cursor.description, sep='\\n')"
   ]
  },
  {
   "cell_type": "code",
   "execution_count": 119,
   "metadata": {
    "scrolled": false,
    "slideshow": {
     "slide_type": "skip"
    }
   },
   "outputs": [
    {
     "name": "stdout",
     "output_type": "stream",
     "text": [
      "('index', None, None, None, None, None, None)\n",
      "('id', None, None, None, None, None, None)\n",
      "('name', None, None, None, None, None, None)\n",
      "('city', None, None, None, None, None, None)\n",
      "('country', None, None, None, None, None, None)\n",
      "('code', None, None, None, None, None, None)\n",
      "('icao', None, None, None, None, None, None)\n",
      "('latitude', None, None, None, None, None, None)\n",
      "('longitude', None, None, None, None, None, None)\n",
      "('altitude', None, None, None, None, None, None)\n",
      "('offset', None, None, None, None, None, None)\n",
      "('dst', None, None, None, None, None, None)\n",
      "('timezone', None, None, None, None, None, None)\n"
     ]
    }
   ],
   "source": [
    "cursor.execute(\"\"\"\n",
    "SELECT * FROM airports\n",
    "\"\"\")\n",
    "print(*cursor.description, sep='\\n')"
   ]
  },
  {
   "cell_type": "code",
   "execution_count": 17,
   "metadata": {},
   "outputs": [
    {
     "name": "stdout",
     "output_type": "stream",
     "text": [
      "('index', None, None, None, None, None, None)\n",
      "('airline', None, None, None, None, None, None)\n",
      "('airline_id', None, None, None, None, None, None)\n",
      "('source', None, None, None, None, None, None)\n",
      "('source_id', None, None, None, None, None, None)\n",
      "('dest', None, None, None, None, None, None)\n",
      "('dest_id', None, None, None, None, None, None)\n",
      "('codeshare', None, None, None, None, None, None)\n",
      "('stops', None, None, None, None, None, None)\n",
      "('equipment', None, None, None, None, None, None)\n"
     ]
    }
   ],
   "source": [
    "cursor.execute(\"\"\"\n",
    "SELECT * FROM routes \n",
    "\"\"\")\n",
    "print(*cursor.description, sep='\\n')"
   ]
  },
  {
   "cell_type": "markdown",
   "metadata": {
    "slideshow": {
     "slide_type": "slide"
    }
   },
   "source": [
    "### Grouping statements\n",
    "\n",
    "Combines `select` and `group by` when you want aggregates by values"
   ]
  },
  {
   "cell_type": "markdown",
   "metadata": {
    "slideshow": {
     "slide_type": "fragment"
    }
   },
   "source": [
    "`select` `min(x)` ... `max()`, `sum()`, etc"
   ]
  },
  {
   "cell_type": "markdown",
   "metadata": {
    "slideshow": {
     "slide_type": "fragment"
    }
   },
   "source": [
    "`group by x`"
   ]
  },
  {
   "cell_type": "markdown",
   "metadata": {
    "slideshow": {
     "slide_type": "slide"
    }
   },
   "source": [
    "**Task**<br>\n",
    "- Which countries have the highest amount of active airlines?\n",
    "- Which countries have the highest amount of inactive airlines?\n",
    "- What about airports by timezones?"
   ]
  },
  {
   "cell_type": "code",
   "execution_count": 18,
   "metadata": {},
   "outputs": [
    {
     "name": "stdout",
     "output_type": "stream",
     "text": [
      "('index', None, None, None, None, None, None)\n",
      "('id', None, None, None, None, None, None)\n",
      "('name', None, None, None, None, None, None)\n",
      "('alias', None, None, None, None, None, None)\n",
      "('iata', None, None, None, None, None, None)\n",
      "('icao', None, None, None, None, None, None)\n",
      "('callsign', None, None, None, None, None, None)\n",
      "('country', None, None, None, None, None, None)\n",
      "('active', None, None, None, None, None, None)\n"
     ]
    }
   ],
   "source": [
    "cursor.execute(\"\"\"\n",
    "SELECT * FROM airlines \n",
    "\n",
    "\"\"\")\n",
    "print(*cursor.description, sep='\\n')"
   ]
  },
  {
   "cell_type": "code",
   "execution_count": 19,
   "metadata": {
    "slideshow": {
     "slide_type": "skip"
    }
   },
   "outputs": [
    {
     "name": "stdout",
     "output_type": "stream",
     "text": [
      "('United States', 141)\n",
      "('Russia', 72)\n",
      "('United Kingdom', 40)\n",
      "('Germany', 37)\n",
      "('Canada', 34)\n",
      "('Australia', 26)\n",
      "('China', 25)\n",
      "('Spain', 24)\n",
      "('Brazil', 23)\n",
      "('France', 22)\n",
      "('Japan', 19)\n",
      "('Italy', 18)\n",
      "('Indonesia', 17)\n",
      "('India', 17)\n",
      "('Turkey', 16)\n",
      "('Thailand', 16)\n",
      "('Sweden', 15)\n",
      "('Switzerland', 14)\n",
      "('Ukraine', 13)\n",
      "('Portugal', 13)\n",
      "('Mexico', 12)\n",
      "('Finland', 12)\n",
      "('Egypt', 12)\n",
      "('Austria', 12)\n",
      "('Peru', 11)\n",
      "('South Africa', 10)\n",
      "('Greece', 10)\n",
      "('Argentina', 10)\n",
      "('Netherlands', 9)\n",
      "('Iceland', 9)\n",
      "('Colombia', 9)\n",
      "('United Arab Emirates', 8)\n",
      "('Singapore', 8)\n",
      "('Romania', 8)\n",
      "('Poland', 8)\n",
      "('Philippines', 8)\n",
      "('Vietnam', 7)\n",
      "('Taiwan', 7)\n",
      "('Pakistan', 7)\n",
      "('Malaysia', 7)\n",
      "('Ireland', 7)\n",
      "('Iran', 7)\n",
      "('Ecuador', 7)\n",
      "('Denmark', 7)\n",
      "('South Korea', 6)\n",
      "('Norway', 6)\n",
      "('Nepal', 6)\n",
      "('Kazakhstan', 6)\n",
      "('Israel', 6)\n",
      "('Georgia', 6)\n",
      "('Chile', 6)\n",
      "('Burma', 6)\n",
      "('Belgium', 6)\n",
      "('Slovakia', 5)\n",
      "('Republic of Korea', 5)\n",
      "('Nigeria', 5)\n",
      "('Morocco', 5)\n",
      "('Lithuania', 5)\n",
      "('Dominican Republic', 5)\n",
      "('Czech Republic', 5)\n",
      "('Cambodia', 5)\n",
      "('Venezuela', 4)\n",
      "('Uruguay', 4)\n",
      "('Tunisia', 4)\n",
      "('Tanzania', 4)\n",
      "('New Zealand', 4)\n",
      "('Maldives', 4)\n",
      "('Latvia', 4)\n",
      "('Kyrgyzstan', 4)\n",
      "('Congo (Kinshasa)', 4)\n",
      "('Azerbaijan', 4)\n",
      "('Afghanistan', 4)\n",
      "('Zimbabwe', 3)\n",
      "('Zambia', 3)\n",
      "('Uganda', 3)\n",
      "('Sierra Leone', 3)\n",
      "('Serbia', 3)\n",
      "('Saudi Arabia', 3)\n",
      "('Netherlands Antilles', 3)\n",
      "('Myanmar', 3)\n",
      "('Mongolia', 3)\n",
      "('Mauritania', 3)\n",
      "('Libya', 3)\n",
      "('Lebanon', 3)\n",
      "('Kuwait', 3)\n",
      "('Kenya', 3)\n",
      "('Hungary', 3)\n",
      "('Hong Kong SAR of China', 3)\n",
      "('Haiti', 3)\n",
      "('Guinea', 3)\n",
      "('Estonia', 3)\n",
      "('Cyprus', 3)\n",
      "('Cameroon', 3)\n",
      "('Bulgaria', 3)\n",
      "('Bangladesh', 3)\n",
      "('\\\\N', 2)\n",
      "('Yemen', 2)\n",
      "('Uzbekistan', 2)\n",
      "('Tajikistan', 2)\n",
      "('Sudan', 2)\n",
      "('Sri Lanka', 2)\n",
      "('Russian Federation', 2)\n",
      "('Qatar', 2)\n",
      "('Paraguay', 2)\n",
      "('Papua New Guinea', 2)\n",
      "('Oman', 2)\n",
      "('Mozambique', 2)\n",
      "('Moldova', 2)\n",
      "('Mauritius', 2)\n",
      "('Malta', 2)\n",
      "('Malawi', 2)\n",
      "('Macedonia', 2)\n",
      "('Macao', 2)\n",
      "('Jordan', 2)\n",
      "('Ivory Coast', 2)\n",
      "('Iraq', 2)\n",
      "('Hong Kong', 2)\n",
      "('Ghana', 2)\n",
      "('Fiji', 2)\n",
      "('Eritrea', 2)\n",
      "('Djibouti', 2)\n",
      "('Cuba', 2)\n",
      "('Croatia', 2)\n",
      "('Costa Rica', 2)\n",
      "('Bosnia and Herzegovina', 2)\n",
      "('Bolivia', 2)\n",
      "('Belize', 2)\n",
      "('Belarus', 2)\n",
      "('Barbados', 2)\n",
      "('Bahamas', 2)\n",
      "('Armenia', 2)\n",
      "('Angola', 2)\n",
      "('Algeria', 2)\n",
      "('Albania', 2)\n",
      "(None, 2)\n",
      "('Vanuatu', 1)\n",
      "('Turkmenistan', 1)\n",
      "('Trinidad and Tobago', 1)\n",
      "('Togo', 1)\n",
      "('Syrian Arab Republic', 1)\n",
      "('Syria', 1)\n",
      "('Suriname', 1)\n",
      "('Solomon Islands', 1)\n",
      "('Slovenia', 1)\n",
      "('Seychelles', 1)\n",
      "('Senegal', 1)\n",
      "('Sao Tome and Principe', 1)\n",
      "('Samoa', 1)\n",
      "('Saint Vincent and the Grenadines', 1)\n",
      "('Rwanda', 1)\n",
      "('Reunion', 1)\n",
      "('Republic of the Congo', 1)\n",
      "('Puerto Rico', 1)\n",
      "('Panama', 1)\n",
      "('Palau', 1)\n",
      "('Niger', 1)\n",
      "('Nauru', 1)\n",
      "('Namibia', 1)\n",
      "('Montenegro', 1)\n",
      "('Marshall Islands', 1)\n",
      "('Madagascar', 1)\n",
      "('Luxembourg', 1)\n",
      "('Lao Peoples Democratic Republic', 1)\n",
      "('Kiribati', 1)\n",
      "('Jamaica', 1)\n",
      "('Honduras', 1)\n",
      "('Guatemala', 1)\n",
      "('Guadeloupe', 1)\n",
      "('Gabon', 1)\n",
      "('French Polynesia', 1)\n",
      "('French Guiana', 1)\n",
      "('Faroe Islands', 1)\n",
      "('Ethiopia', 1)\n",
      "('Equatorial Guinea', 1)\n",
      "(\"Democratic People's Republic of Korea\", 1)\n",
      "('DRAGON', 1)\n",
      "('Cook Islands', 1)\n",
      "('Comoros', 1)\n",
      "('Cayman Islands', 1)\n",
      "('Cape Verde', 1)\n",
      "('Canadian Territories', 1)\n",
      "('Burundi', 1)\n",
      "('Burkina Faso', 1)\n",
      "('Brunei', 1)\n",
      "('British Virgin Islands', 1)\n",
      "('Botswana', 1)\n",
      "('Bhutan', 1)\n",
      "('Benin', 1)\n",
      "('Bahrain', 1)\n",
      "('Aruba', 1)\n",
      "('Antigua and Barbuda', 1)\n",
      "('American Samoa', 1)\n",
      "('AVIANCA', 1)\n",
      "('ALASKA', 1)\n",
      "(' S.A.', 1)\n"
     ]
    }
   ],
   "source": [
    "# Which countries have the highest amount of active airlines?\n",
    "cursor.execute(\"\"\"\n",
    "SELECT country, count(*) as c\n",
    "FROM airlines\n",
    "WHERE active = 'Y'\n",
    "GROUP BY country\n",
    "ORDER BY c DESC;\n",
    "\n",
    "\"\"\")\n",
    "print(*cursor.fetchall(), sep='\\n')"
   ]
  },
  {
   "cell_type": "code",
   "execution_count": 20,
   "metadata": {
    "slideshow": {
     "slide_type": "skip"
    }
   },
   "outputs": [
    {
     "name": "stdout",
     "output_type": "stream",
     "text": [
      "('United States', 939)\n",
      "('Mexico', 427)\n",
      "('United Kingdom', 367)\n",
      "('Canada', 284)\n",
      "('Russia', 158)\n",
      "('Spain', 142)\n",
      "('France', 97)\n",
      "('Germany', 94)\n",
      "('South Africa', 81)\n",
      "('Nigeria', 80)\n",
      "('Ukraine', 76)\n",
      "('Kazakhstan', 73)\n",
      "('Italy', 72)\n",
      "('Australia', 67)\n",
      "('Sweden', 55)\n",
      "('Sudan', 47)\n",
      "('Switzerland', 46)\n",
      "('China', 45)\n",
      "('Netherlands', 43)\n",
      "('Austria', 38)\n",
      "('Egypt', 36)\n",
      "('Chile', 35)\n",
      "('Brazil', 35)\n",
      "('Angola', 35)\n",
      "('Colombia', 34)\n",
      "('Thailand', 32)\n",
      "('Portugal', 32)\n",
      "('Mauritania', 32)\n",
      "('Indonesia', 31)\n",
      "('Kyrgyzstan', 29)\n",
      "('Czech Republic', 27)\n",
      "('Japan', 25)\n",
      "('Dominican Republic', 25)\n",
      "('Denmark', 25)\n",
      "('Bulgaria', 25)\n",
      "('New Zealand', 24)\n",
      "('Iran', 24)\n",
      "('United Arab Emirates', 23)\n",
      "('Turkey', 23)\n",
      "('Sierra Leone', 23)\n",
      "('Norway', 23)\n",
      "('Libya', 23)\n",
      "('Venezuela', 22)\n",
      "('Pakistan', 22)\n",
      "('Uganda', 21)\n",
      "('Ireland', 21)\n",
      "('Belgium', 21)\n",
      "('Zambia', 20)\n",
      "('Kenya', 20)\n",
      "('Greece', 19)\n",
      "('Ecuador', 19)\n",
      "('Democratic Republic of the Congo', 19)\n",
      "('Moldova', 17)\n",
      "('Ghana', 17)\n",
      "('Israel', 16)\n",
      "('Peru', 15)\n",
      "('Ivory Coast', 15)\n",
      "('Hungary', 15)\n",
      "('Armenia', 15)\n",
      "('Slovakia', 14)\n",
      "('Haiti', 14)\n",
      "('Argentina', 14)\n",
      "('Philippines', 13)\n",
      "('Lithuania', 13)\n",
      "('Lebanon', 13)\n",
      "(None, 13)\n",
      "('Senegal', 12)\n",
      "('Poland', 12)\n",
      "('Georgia', 12)\n",
      "('Cambodia', 12)\n",
      "('Luxembourg', 11)\n",
      "('Iceland', 11)\n",
      "('Guinea', 11)\n",
      "('Serbia', 10)\n",
      "('Namibia', 10)\n",
      "('Gabon', 10)\n",
      "('Equatorial Guinea', 10)\n",
      "('Bangladesh', 10)\n",
      "('Uzbekistan', 9)\n",
      "('Uruguay', 9)\n",
      "('Romania', 9)\n",
      "('Mali', 9)\n",
      "('Latvia', 9)\n",
      "('India', 9)\n",
      "('Democratic Republic of Congo', 9)\n",
      "('Guinea-Bissau', 8)\n",
      "('Croatia', 8)\n",
      "('Chad', 8)\n",
      "('Barbados', 8)\n",
      "('Bahrain', 8)\n",
      "('Malaysia', 7)\n",
      "('Finland', 7)\n",
      "('Belarus', 7)\n",
      "('Tanzania', 6)\n",
      "('Swaziland', 6)\n",
      "('Sao Tome and Principe', 6)\n",
      "('Gambia', 6)\n",
      "('Djibouti', 6)\n",
      "('Costa Rica', 6)\n",
      "('Burkina Faso', 6)\n",
      "('Bolivia', 6)\n",
      "('Bahamas', 6)\n",
      "('Tajikistan', 5)\n",
      "('Suriname', 5)\n",
      "('Somali Republic', 5)\n",
      "('Slovenia', 5)\n",
      "('S', 5)\n",
      "('Rwanda', 5)\n",
      "('Panama', 5)\n",
      "('Netherland', 5)\n",
      "('Nepal', 5)\n",
      "('Mozambique', 5)\n",
      "('Mongolia', 5)\n",
      "('Jordan', 5)\n",
      "('Honduras', 5)\n",
      "('Guatemala', 5)\n",
      "('Estonia', 5)\n",
      "('El Salvador', 5)\n",
      "('Cyprus', 5)\n",
      "('Central African Republic', 5)\n",
      "('Benin', 5)\n",
      "('Zimbabwe', 4)\n",
      "('Turks and Caicos Islands', 4)\n",
      "('Tunisia', 4)\n",
      "('Syrian Arab Republic', 4)\n",
      "('Sri Lanka', 4)\n",
      "('Republic of the Congo', 4)\n",
      "('Oman', 4)\n",
      "('Nicaragua', 4)\n",
      "('Netherlands Antilles', 4)\n",
      "('Malta', 4)\n",
      "('Macedonia', 4)\n",
      "('Guyana', 4)\n",
      "('Ethiopia', 4)\n",
      "('Cameroon', 4)\n",
      "('Aruba', 4)\n",
      "('Algeria', 4)\n",
      "('Afghanistan', 4)\n",
      "('Togo', 3)\n",
      "('Singapore', 3)\n",
      "('Saudi Arabia', 3)\n",
      "('Republic of Korea', 3)\n",
      "('Papua New Guinea', 3)\n",
      "('Niger', 3)\n",
      "('Morocco', 3)\n",
      "('Maldives', 3)\n",
      "('Malawi', 3)\n",
      "('Liberia', 3)\n",
      "('Fiji', 3)\n",
      "('Cuba', 3)\n",
      "('Azerbaijan', 3)\n",
      "('Antigua and Barbuda', 3)\n",
      "('Turkmenistan', 2)\n",
      "('Tonga', 2)\n",
      "('Solomon Islands', 2)\n",
      "('Saint Lucia', 2)\n",
      "('Qatar', 2)\n",
      "('Palau', 2)\n",
      "('Madagascar', 2)\n",
      "('Lao Peoples Democratic Republic', 2)\n",
      "('Hong Kong SAR of China', 2)\n",
      "('Comoros', 2)\n",
      "('Cape Verde', 2)\n",
      "('Burundi', 2)\n",
      "('Bosnia and Herzegovina', 2)\n",
      "('Albania', 2)\n",
      "('\\\\N', 1)\n",
      "('Yemen', 1)\n",
      "('WATCHDOG', 1)\n",
      "('Vietnam', 1)\n",
      "('VELES', 1)\n",
      "('UNited Kingdom', 1)\n",
      "('UNIFORM OSCAR', 1)\n",
      "('Trinidad and Tobago', 1)\n",
      "('Taiwan', 1)\n",
      "('Saint Vincent and the Grenadines', 1)\n",
      "('Saint Kitts and Nevis', 1)\n",
      "('SWISSBIRD', 1)\n",
      "('SCHEFF', 1)\n",
      "('Russian Federation', 1)\n",
      "('Russia]]', 1)\n",
      "('RENTAXEL', 1)\n",
      "('Paraguay', 1)\n",
      "('ODINN', 1)\n",
      "('Nauru', 1)\n",
      "('Montserrat', 1)\n",
      "('Montenegro', 1)\n",
      "('Monaco', 1)\n",
      "('Mauritius', 1)\n",
      "('Macao', 1)\n",
      "('LAP', 1)\n",
      "('Kuwait', 1)\n",
      "('Kiribati', 1)\n",
      "('Jamaica', 1)\n",
      "('Hong Kong', 1)\n",
      "('Faroe Islands', 1)\n",
      "(\"Cote d'Ivoire\", 1)\n",
      "('Cook Islands', 1)\n",
      "('Congo (Brazzaville)', 1)\n",
      "('Cayman Islands', 1)\n",
      "('COMPANY AS', 1)\n",
      "('Bermuda', 1)\n",
      "('Belize', 1)\n",
      "('Air S', 1)\n",
      "('AZIMUT', 1)\n",
      "('AVIOQUINTANA', 1)\n",
      "('AVINOR', 1)\n",
      "('AVEMEX', 1)\n",
      "('AUSA', 1)\n",
      "('AURORA AIR', 1)\n",
      "('AUDI AIR', 1)\n",
      "('ATLANTIS CANADA', 1)\n",
      "('ATLANTIC NICARAGUA', 1)\n",
      "('ATCO', 1)\n",
      "('ASUR', 1)\n",
      "('ASTORIA', 1)\n",
      "('ASA PESADA', 1)\n",
      "('ARMSTRONG', 1)\n",
      "('ARIZAIR', 1)\n",
      "('AQUILINE', 1)\n",
      "('APPALACHIAN', 1)\n",
      "('ANTARES', 1)\n",
      "('ALNACIONAL', 1)\n",
      "('ALL STAR', 1)\n",
      "('ALDAWLYH AIR', 1)\n",
      "('ALCON', 1)\n",
      "('ALASKA PACIFIC', 1)\n",
      "('ALAMO', 1)\n",
      "('AIRWAVE', 1)\n",
      "('AIRPORT HELICOPTER', 1)\n",
      "('AIRPAC', 1)\n",
      "('AIRNAT', 1)\n",
      "('AIRMAN', 1)\n",
      "('AIRFLIGHT', 1)\n",
      "('AIREX', 1)\n",
      "('AIR-MAUR', 1)\n",
      "('AIR PRINT', 1)\n",
      "('AIR FREIGHTER', 1)\n",
      "('AIR CLASS', 1)\n",
      "('AEROWEE', 1)\n",
      "('AEROVARADERO', 1)\n",
      "('AEROSUN', 1)\n",
      "('AEROSOL', 1)\n",
      "('AEROPUMA', 1)\n",
      "('AEROPERLAS', 1)\n",
      "('AEROCESAR', 1)\n",
      "('AEROCENTER', 1)\n",
      "('ACTIVE AERO', 1)\n",
      "('ACOM', 1)\n",
      "(' Boonville Stage Line', 1)\n"
     ]
    }
   ],
   "source": [
    "# Which countries have the highest amount of inactive airports?\n",
    "cursor.execute(\"\"\"\n",
    "SELECT country, count(*) as c\n",
    "FROM airlines\n",
    "WHERE active = 'N'\n",
    "GROUP BY country\n",
    "ORDER BY c DESC;\n",
    "\"\"\")\n",
    "print(*cursor.fetchall(), sep='\\n')"
   ]
  },
  {
   "cell_type": "code",
   "execution_count": 21,
   "metadata": {
    "slideshow": {
     "slide_type": "skip"
    }
   },
   "outputs": [
    {
     "name": "stdout",
     "output_type": "stream",
     "text": [
      "('Putnam County Airport', 'America/New_York', 628)\n",
      "('Door County Cherryland Airport', 'America/Chicago', 373)\n",
      "('Bautzen', 'Europe/Berlin', 319)\n",
      "('Tyonek Airport', 'America/Anchorage', 258)\n",
      "('Calais Dunkerque', 'Europe/Paris', 232)\n",
      "('Eastern Oregon Regional Airport', 'America/Los_Angeles', 226)\n",
      "('Capital Intl', 'Asia/Chongqing', 222)\n",
      "('Belfast Intl', 'Europe/London', 193)\n",
      "('Sault Ste Marie', 'America/Toronto', 159)\n",
      "('Ahmedabad', 'Asia/Calcutta', 141)\n",
      "('Riverton Regional', 'America/Denver', 135)\n",
      "('Narita Intl', 'Asia/Tokyo', 131)\n",
      "('Aeropuerto de Rafaela', 'America/Cordoba', 104)\n",
      "('Alexander Bay', 'Africa/Johannesburg', 104)\n",
      "('Pulkovo', 'Europe/Moscow', 100)\n",
      "('Campo Delio Jardim De Mattos', 'America/Sao_Paulo', 97)\n",
      "('Amendola', 'Europe/Rome', 93)\n",
      "('Guantanamo Bay Ns', '\\\\N', 92)\n",
      "('Malmen', 'Europe/Stockholm', 86)\n",
      "('Whitsunday Airstrip', 'Australia/Brisbane', 81)\n",
      "('Abadan', 'Asia/Tehran', 81)\n",
      "('Tofino', 'America/Vancouver', 78)\n",
      "('Guvercinlik', 'Europe/Istanbul', 77)\n",
      "('Melilla', 'Europe/Madrid', 74)\n",
      "('El Eden', 'America/Bogota', 72)\n",
      "('Vigra', 'Europe/Oslo', 67)\n",
      "('Kugaaruk', 'America/Edmonton', 66)\n",
      "('Winnipeg St Andrews', 'America/Winnipeg', 65)\n",
      "('General Juan N Alvarez Intl', 'America/Mexico_City', 65)\n",
      "('Ninoy Aquino Intl', 'Asia/Manila', 63)\n",
      "('Alexion', 'Europe/Athens', 60)\n",
      "('Don Muang Intl', 'Asia/Bangkok', 58)\n",
      "('Oswaldo Guevara Mujica', 'America/Caracas', 58)\n",
      "('Goroka', 'Pacific/Port_Moresby', 57)\n",
      "('Auckland Intl', 'Pacific/Auckland', 54)\n",
      "('Eldoret Intl', 'Africa/Nairobi', 54)\n",
      "('Maitland Airport', 'Australia/Sydney', 52)\n",
      "('Conceicao Do Araguaia', 'America/Boa_Vista', 52)\n",
      "('Les Eplatures', 'Europe/Zurich', 50)\n",
      "('Enontekio', 'Europe/Helsinki', 50)\n",
      "('Sultan Syarif Kasim Ii', 'Asia/Jakarta', 49)\n",
      "('Bhagatanwala', 'Asia/Karachi', 46)\n",
      "('Ivato', 'Indian/Antananarivo', 45)\n",
      "('Bungle Bungle Airport', 'Australia/Perth', 45)\n",
      "('Bintulu', 'Asia/Kuala_Lumpur', 45)\n",
      "('Amapa', 'America/Fortaleza', 44)\n",
      "('Blida', 'Africa/Algiers', 44)\n",
      "('Ann', 'Asia/Rangoon', 43)\n",
      "('Huancabamba', 'America/Lima', 43)\n",
      "('Abha', 'Asia/Riyadh', 42)\n",
      "('Naha', 'Asia/Makassar', 42)\n",
      "('Ernest A Love Fld', 'America/Phoenix', 42)\n",
      "('Schiphol', 'Europe/Amsterdam', 41)\n",
      "('South Ari Atoll', 'Indian/Maldives', 38)\n",
      "('Chacalluta', 'America/Santiago', 37)\n",
      "('Clarence A Bain', 'America/Nassau', 37)\n",
      "('Bhairahawa', 'Asia/Katmandu', 36)\n",
      "('Babice', 'Europe/Warsaw', 35)\n",
      "('Deurne', 'Europe/Brussels', 35)\n",
      "('Chachoan', 'America/Guayaquil', 35)\n",
      "('Boryspil Intl', 'Europe/Kiev', 33)\n",
      "('Marshall Islands Intl', 'Pacific/Majuro', 32)\n",
      "('Shang Yi', 'Asia/Taipei', 32)\n",
      "('Bole Intl', 'Africa/Addis_Ababa', 31)\n",
      "('Wiener Neustadt East', 'Europe/Vienna', 30)\n",
      "('Gwangju', 'Asia/Seoul', 30)\n",
      "('Danang Intl', 'Asia/Saigon', 30)\n",
      "('Port Vila Bauerfield', 'Pacific/Efate', 29)\n",
      "('Balandino', 'Asia/Yekaterinburg', 29)\n",
      "('Gustavo Rizo', 'America/Havana', 29)\n",
      "('Buenos Aires', 'America/Costa_Rica', 29)\n",
      "('Aarhus', 'Europe/Copenhagen', 28)\n",
      "('Arusha', 'Africa/Dar_es_Salaam', 28)\n",
      "('Ceske Budejovice', 'Europe/Prague', 27)\n",
      "('Bermejo', 'America/La_Paz', 27)\n",
      "('Shearwater', 'America/Halifax', 27)\n",
      "('Nnamdi Azikiwe Intl', 'Africa/Lagos', 27)\n",
      "('Honiara International', 'Pacific/Guadalcanal', 26)\n",
      "('Alverca', 'Europe/Lisbon', 26)\n",
      "('Arad', 'Europe/Bucharest', 26)\n",
      "('Bocas Del Toro Intl', 'America/Panama', 26)\n",
      "('Tubuai', 'Pacific/Tahiti', 25)\n",
      "('Hilo Intl', 'Pacific/Honolulu', 25)\n",
      "('Mbanza Congo', 'Africa/Luanda', 25)\n",
      "('Francistown', 'Africa/Gaborone', 25)\n",
      "('Bratsk', 'Asia/Irkutsk', 24)\n",
      "('Cork', 'Europe/Dublin', 23)\n",
      "('Adelaide Intl', 'Australia/Adelaide', 23)\n",
      "('Johan A Pengel Intl', 'America/Paramaribo', 23)\n",
      "('Avalon', 'Australia/Hobart', 22)\n",
      "('Alice Springs', 'Australia/Darwin', 22)\n",
      "('Akureyri', 'Atlantic/Reykjavik', 22)\n",
      "('Herat', 'Asia/Kabul', 22)\n",
      "('Narsarsuaq', 'America/Godthab', 22)\n",
      "('Bu Attifel', 'Africa/Tripoli', 22)\n",
      "('Beira', 'Africa/Maputo', 22)\n",
      "('Inezgane', 'Africa/Casablanca', 22)\n",
      "('Yakutsk', 'Asia/Yakutsk', 21)\n",
      "('Almaty', 'Asia/Qyzylorda', 21)\n",
      "('Frans Kaisiepo', 'Asia/Jayapura', 21)\n",
      "('Rochambeau', 'America/Cayenne', 21)\n",
      "('Alexandria Intl', 'Africa/Cairo', 21)\n",
      "('Ben Gurion', 'Asia/Jerusalem', 20)\n",
      "('Novy', 'Asia/Vladivostok', 19)\n",
      "('Abu Dhabi Intl', 'Asia/Dubai', 19)\n",
      "('South Pole Station', 'Antarctica/South_Pole', 19)\n",
      "('Estevan', 'America/Regina', 18)\n",
      "('Windhoek Hosea Kutako International Airport ', 'Africa/Windhoek', 18)\n",
      "('Ndjili Intl', 'Africa/Kinshasa', 18)\n",
      "('Nadi Intl', 'Pacific/Fiji', 17)\n",
      "('Barnaul', 'Asia/Omsk', 17)\n",
      "('Provideniya Bay', 'Asia/Magadan', 16)\n",
      "('Abakan', 'Asia/Krasnoyarsk', 16)\n",
      "('Nuevo Casas Grandes', 'America/Mazatlan', 16)\n",
      "('J M Nkomo Intl', 'Africa/Harare', 16)\n",
      "('Bandaranaike Intl Colombo', 'Asia/Colombo', 15)\n",
      "('Culebra Airport', 'America/Puerto_Rico', 15)\n",
      "('Alta Floresta', 'America/Campo_Grande', 15)\n",
      "('Kisangani Simisini', 'Africa/Lubumbashi', 15)\n",
      "('Ferihegy', 'Europe/Budapest', 14)\n",
      "('Arroyo Barril Intl', 'America/Santo_Domingo', 14)\n",
      "('Cayes', 'America/Port-au-Prince', 14)\n",
      "('Linden', 'America/Guyana', 14)\n",
      "('Oyem', 'Africa/Libreville', 14)\n",
      "('Dongola', 'Africa/Khartoum', 14)\n",
      "('Dubrovnik', 'Europe/Zagreb', 13)\n",
      "('Kampong Chhnang', 'Asia/Phnom_Penh', 13)\n",
      "('Hong Kong Intl', 'Asia/Hong_Kong', 13)\n",
      "('Coxs Bazar', 'Asia/Dhaka', 13)\n",
      "('Habib Bourguiba Intl', 'Africa/Tunis', 13)\n",
      "('Kasompe', 'Africa/Lusaka', 13)\n",
      "('Bukhara', 'Asia/Samarkand', 12)\n",
      "('Angel S Adami', 'America/Montevideo', 12)\n",
      "('Philip S W Goldson Intl', 'America/Belize', 12)\n",
      "('Kone', 'Pacific/Noumea', 11)\n",
      "('Luang Phabang Intl', 'Asia/Vientiane', 11)\n",
      "('Chinggis Khaan Intl', 'Asia/Ulaanbaatar', 11)\n",
      "('Riyan', 'Asia/Aden', 11)\n",
      "('Goloson Intl', 'America/Tegucigalpa', 11)\n",
      "('Bluefields', 'America/Managua', 11)\n",
      "('Aioun El Atrouss', 'Africa/Nouakchott', 11)\n",
      "('Egal Intl', 'Africa/Mogadishu', 11)\n",
      "('St Denis Gillot', 'Indian/Reunion', 10)\n",
      "('Alphonse', 'Indian/Mahe', 10)\n",
      "('Fuerteventura', 'Atlantic/Canary', 10)\n",
      "('Santa Maria', 'Atlantic/Azores', 10)\n",
      "('Basrah Intl', 'Asia/Baghdad', 10)\n",
      "('Bananera', 'America/Guatemala', 10)\n",
      "('Tiko', 'Africa/Douala', 10)\n",
      "('Amari', 'Europe/Tallinn', 9)\n",
      "('Heydar Aliyev', 'Asia/Baku', 9)\n",
      "('St Anthony', 'America/St_Johns', 9)\n",
      "('Entebbe Intl', 'Africa/Kampala', 9)\n",
      "('Ziguinchor', 'Africa/Dakar', 9)\n",
      "('Bonriki Intl', 'Pacific/Tarawa', 8)\n",
      "('Aitutaki', 'Pacific/Rarotonga', 8)\n",
      "('Siauliai Intl', 'Europe/Vilnius', 8)\n",
      "('Gomel', 'Europe/Minsk', 8)\n",
      "('M R Stefanik', 'Europe/Bratislava', 8)\n",
      "('Mary Airport', 'Asia/Ashgabat', 8)\n",
      "('Cyril E King', 'America/St_Thomas', 8)\n",
      "('Flamingo', 'America/Curacao', 8)\n",
      "('Silvio Pettirossi Intl', 'America/Asuncion', 8)\n",
      "('Freetown Lungi', 'Africa/Freetown', 8)\n",
      "('Chileka Intl', 'Africa/Blantyre', 8)\n",
      "('Senou', 'Africa/Bamako', 8)\n",
      "('Burgas', 'Europe/Sofia', 7)\n",
      "('Luqa', 'Europe/Malta', 7)\n",
      "('Hobart', 'Australia/Melbourne', 7)\n",
      "('Amilcar Cabral Intl', 'Atlantic/Cape_Verde', 7)\n",
      "('Uralsk', 'Asia/Oral', 7)\n",
      "('Longyear', 'Arctic/Longyearbyen', 7)\n",
      "('Boscobel', 'America/Jamaica', 7)\n",
      "('Chevery Airport', 'America/Blanc-Sablon', 7)\n",
      "('Maradi', 'Africa/Niamey', 7)\n",
      "('Abeche', 'Africa/Ndjamena', 7)\n",
      "('Juba', 'Africa/Juba', 7)\n",
      "('Abidjan Felix Houphouet Boigny Intl', 'Africa/Abidjan', 7)\n",
      "('Fua Amotu Intl', 'Pacific/Tongatapu', 6)\n",
      "('Sembawang', 'Asia/Singapore', 6)\n",
      "('Pyongyang Intl', 'Asia/Pyongyang', 6)\n",
      "('Khasab', 'Asia/Muscat', 6)\n",
      "('Aleppo Intl', 'Asia/Damascus', 6)\n",
      "('Queen Alia Intl', 'Asia/Amman', 6)\n",
      "('Ensenada', 'America/Tijuana', 6)\n",
      "('Le Raizet', 'America/Guadeloupe', 6)\n",
      "('North Caicos', 'America/Grand_Turk', 6)\n",
      "('Fria', 'Africa/Conakry', 6)\n",
      "('Kotoka Intl', 'Africa/Accra', 6)\n",
      "('Cerklje', 'Europe/Ljubljana', 5)\n",
      "('Mount Pleasant', 'Atlantic/Stanley', 5)\n",
      "('Batumi', 'Asia/Tbilisi', 5)\n",
      "('Canouan', 'America/St_Vincent', 5)\n",
      "('Ciudad Obregon Intl', 'America/Hermosillo', 5)\n",
      "('Maya Maya', 'Africa/Brazzaville', 5)\n",
      "('Nuku Hiva', 'Pacific/Marquesas', 4)\n",
      "('Faleolo Intl', 'Pacific/Apia', 4)\n",
      "('Prince Said Ibrahim', 'Indian/Comoro', 4)\n",
      "('Mostar', 'Europe/Sarajevo', 4)\n",
      "('Beograd', 'Europe/Belgrade', 4)\n",
      "('Erebuni', 'Asia/Yerevan', 4)\n",
      "('Larnaca', 'Asia/Nicosia', 4)\n",
      "('Macau Intl', 'Asia/Macau', 4)\n",
      "('Dushanbe', 'Asia/Dushanbe', 4)\n",
      "('Manas', 'Asia/Bishkek', 4)\n",
      "('Le Lamentin', 'America/Martinique', 4)\n",
      "('Goma', 'Africa/Kigali', 4)\n",
      "('Assab Intl', 'Africa/Asmera', 4)\n",
      "('Chuuk Intl', 'Pacific/Truk', 3)\n",
      "('Rota Intl', 'Pacific/Saipan', 3)\n",
      "('Babelthuap', 'Pacific/Palau', 3)\n",
      "('Pago Pago Intl', 'Pacific/Pago_Pago', 3)\n",
      "('Seymour', 'Pacific/Galapagos', 3)\n",
      "('Liepaja Intl', 'Europe/Riga', 3)\n",
      "('Balti Intl', 'Europe/Chisinau', 3)\n",
      "('Vagar', 'Atlantic/Faeroe', 3)\n",
      "('Doha Intl', 'Asia/Qatar', 3)\n",
      "('Khovd Airport', 'Asia/Hovd', 3)\n",
      "('Suai', 'Asia/Dili', 3)\n",
      "('George F L Charles', 'America/St_Lucia', 3)\n",
      "('Robert L Bradshaw', 'America/St_Kitts', 3)\n",
      "('Cruzeiro do Sul', 'America/Rio_Branco', 3)\n",
      "('Point Salines Intl', 'America/Grenada', 3)\n",
      "('Canefield', 'America/Dominica', 3)\n",
      "('Fairmont Hot Springs', 'America/Coral_Harbour', 3)\n",
      "('Gerrard Smith Intl', 'America/Cayman', 3)\n",
      "('Monrovia Spriggs Payne', 'Africa/Monrovia', 3)\n",
      "('Moshoeshoe I Intl', 'Africa/Maseru', 3)\n",
      "('Hassan I Airport', 'Africa/El_Aaiun', 3)\n",
      "('Ambouli International Airport', 'Africa/Djibouti', 3)\n",
      "('Bangui M Poko', 'Africa/Bangui', 3)\n",
      "('Wallis', 'Pacific/Wallis', 2)\n",
      "('Andersen Afb', 'Pacific/Guam', 2)\n",
      "('Chatham Islands', 'Pacific/Chatham', 2)\n",
      "('Sir Seewoosagur Ramgoolam Intl', 'Indian/Mauritius', 2)\n",
      "('Ohrid', 'Europe/Skopje', 2)\n",
      "('Podgorica', 'Europe/Podgorica', 2)\n",
      "('Alderney', 'Europe/Guernsey', 2)\n",
      "('Ascension Aux Af', 'Atlantic/St_Helena', 2)\n",
      "('Grytviken', 'Atlantic/South_Georgia', 2)\n",
      "('Bermuda Intl', 'Atlantic/Bermuda', 2)\n",
      "('Kuwait Intl', 'Asia/Kuwait', 2)\n",
      "('Jerusalem', 'Asia/Gaza', 2)\n",
      "('Brunei Intl', 'Asia/Brunei', 2)\n",
      "('Rafic Hariri Intl', 'Asia/Beirut', 2)\n",
      "('Bahrain Intl', 'Asia/Bahrain', 2)\n",
      "('Terrance B Lettsome Intl', 'America/Tortola', 2)\n",
      "('Thule Air Base', 'America/Thule', 2)\n",
      "('Neerlerit Inaat Airport', 'America/Scoresbysund', 2)\n",
      "('Crown Point', 'America/Port_of_Spain', 2)\n",
      "('John A. Osborne Airport', 'America/Montserrat', 2)\n",
      "('Miquelon', 'America/Miquelon', 2)\n",
      "('El Salvador Intl', 'America/El_Salvador', 2)\n",
      "('Dawson Creek', 'America/Dawson_Creek', 2)\n",
      "('Summit Camp', 'America/Danmarkshavn', 2)\n",
      "('V C Bird Intl', 'America/Antigua', 2)\n",
      "('Principe', 'Africa/Sao_Tome', 2)\n",
      "('Ouagadougou', 'Africa/Ouagadougou', 2)\n",
      "('Bata', 'Africa/Malabo', 2)\n",
      "('Niamtougou International', 'Africa/Lome', 2)\n",
      "('Cufar', 'Africa/Bissau', 2)\n",
      "('Wake Island Afld', 'Pacific/Wake', 1)\n",
      "('Pohnpei Intl', 'Pacific/Ponape', 1)\n",
      "('Norfolk Island Intl', 'Pacific/Norfolk', 1)\n",
      "('Niue International Airport', 'Pacific/Niue', 1)\n",
      "('Nauru Intl', 'Pacific/Nauru', 1)\n",
      "('Midway Atoll', 'Pacific/Midway', 1)\n",
      "('Kosrae', 'Pacific/Kosrae', 1)\n",
      "('Johnston Atoll', 'Pacific/Johnston', 1)\n",
      "('Totegegie', 'Pacific/Gambier', 1)\n",
      "('Funafuti International', 'Pacific/Funafuti', 1)\n",
      "('Canton', 'Pacific/Enderbury', 1)\n",
      "('Mataveri Intl', 'Pacific/Easter', 1)\n",
      "('Dzaoudzi Pamandzi', 'Indian/Mayotte', 1)\n",
      "('Cocos Keeling Island Airport', 'Indian/Cocos', 1)\n",
      "('Christmas Island', 'Indian/Christmas', 1)\n",
      "('Diego Garcia Nsf', 'Indian/Chagos', 1)\n",
      "('Balzers Heliport', 'Europe/Vaduz', 1)\n",
      "('Tirana Rinas', 'Europe/Tirane', 1)\n",
      "('Monaco', 'Europe/Monaco', 1)\n",
      "('Mariehamn', 'Europe/Mariehamn', 1)\n",
      "('Luxembourg', 'Europe/Luxembourg', 1)\n",
      "('Khrabrovo', 'Europe/Kaliningrad', 1)\n",
      "('Jersey', 'Europe/Jersey', 1)\n",
      "('Isle Of Man', 'Europe/Isle_of_Man', 1)\n",
      "('Gibraltar', 'Europe/Gibraltar', 1)\n",
      "('Paro', 'Asia/Thimphu', 1)\n",
      "('Grantley Adams Intl', 'America/Barbados', 1)\n",
      "('Reina Beatrix Intl', 'America/Aruba', 1)\n",
      "('Wallblake', 'America/Anguilla', 1)\n",
      "('Cadjehoun', 'Africa/Porto-Novo', 1)\n",
      "('Matsapha', 'Africa/Mbabane', 1)\n",
      "('Bujumbura Intl', 'Africa/Bujumbura', 1)\n",
      "('Banjul Intl', 'Africa/Banjul', 1)\n"
     ]
    }
   ],
   "source": [
    "# What about airports by timezones?\n",
    "# grouping the airports by timezone \n",
    "cursor.execute(\"\"\"\n",
    "SELECT name, timezone, count(*) as c\n",
    "FROM airports\n",
    "GROUP BY timezone\n",
    "ORDER BY c DESC;\n",
    "\"\"\")\n",
    "print(*cursor.fetchall(), sep='\\n')"
   ]
  },
  {
   "cell_type": "code",
   "execution_count": 22,
   "metadata": {},
   "outputs": [],
   "source": [
    "# It's always a good idea to close our connections when we're done\n",
    "cursor.close()\n",
    "con.close()"
   ]
  },
  {
   "cell_type": "markdown",
   "metadata": {
    "slideshow": {
     "slide_type": "slide"
    }
   },
   "source": [
    "## Goal 5: Transfering from sqlite to pandas"
   ]
  },
  {
   "cell_type": "code",
   "execution_count": 141,
   "metadata": {
    "slideshow": {
     "slide_type": "fragment"
    }
   },
   "outputs": [
    {
     "data": {
      "text/html": [
       "<div>\n",
       "<style scoped>\n",
       "    .dataframe tbody tr th:only-of-type {\n",
       "        vertical-align: middle;\n",
       "    }\n",
       "\n",
       "    .dataframe tbody tr th {\n",
       "        vertical-align: top;\n",
       "    }\n",
       "\n",
       "    .dataframe thead th {\n",
       "        text-align: right;\n",
       "    }\n",
       "</style>\n",
       "<table border=\"1\" class=\"dataframe\">\n",
       "  <thead>\n",
       "    <tr style=\"text-align: right;\">\n",
       "      <th></th>\n",
       "      <th>index</th>\n",
       "      <th>id</th>\n",
       "      <th>name</th>\n",
       "      <th>city</th>\n",
       "      <th>country</th>\n",
       "      <th>code</th>\n",
       "      <th>icao</th>\n",
       "      <th>latitude</th>\n",
       "      <th>longitude</th>\n",
       "      <th>altitude</th>\n",
       "      <th>offset</th>\n",
       "      <th>dst</th>\n",
       "      <th>timezone</th>\n",
       "    </tr>\n",
       "  </thead>\n",
       "  <tbody>\n",
       "    <tr>\n",
       "      <th>0</th>\n",
       "      <td>0</td>\n",
       "      <td>1</td>\n",
       "      <td>Goroka</td>\n",
       "      <td>Goroka</td>\n",
       "      <td>Papua New Guinea</td>\n",
       "      <td>GKA</td>\n",
       "      <td>AYGA</td>\n",
       "      <td>-6.081689</td>\n",
       "      <td>145.391881</td>\n",
       "      <td>5282</td>\n",
       "      <td>10</td>\n",
       "      <td>U</td>\n",
       "      <td>Pacific/Port_Moresby</td>\n",
       "    </tr>\n",
       "    <tr>\n",
       "      <th>1</th>\n",
       "      <td>1</td>\n",
       "      <td>2</td>\n",
       "      <td>Madang</td>\n",
       "      <td>Madang</td>\n",
       "      <td>Papua New Guinea</td>\n",
       "      <td>MAG</td>\n",
       "      <td>AYMD</td>\n",
       "      <td>-5.207083</td>\n",
       "      <td>145.7887</td>\n",
       "      <td>20</td>\n",
       "      <td>10</td>\n",
       "      <td>U</td>\n",
       "      <td>Pacific/Port_Moresby</td>\n",
       "    </tr>\n",
       "    <tr>\n",
       "      <th>2</th>\n",
       "      <td>2</td>\n",
       "      <td>3</td>\n",
       "      <td>Mount Hagen</td>\n",
       "      <td>Mount Hagen</td>\n",
       "      <td>Papua New Guinea</td>\n",
       "      <td>HGU</td>\n",
       "      <td>AYMH</td>\n",
       "      <td>-5.826789</td>\n",
       "      <td>144.295861</td>\n",
       "      <td>5388</td>\n",
       "      <td>10</td>\n",
       "      <td>U</td>\n",
       "      <td>Pacific/Port_Moresby</td>\n",
       "    </tr>\n",
       "    <tr>\n",
       "      <th>3</th>\n",
       "      <td>3</td>\n",
       "      <td>4</td>\n",
       "      <td>Nadzab</td>\n",
       "      <td>Nadzab</td>\n",
       "      <td>Papua New Guinea</td>\n",
       "      <td>LAE</td>\n",
       "      <td>AYNZ</td>\n",
       "      <td>-6.569828</td>\n",
       "      <td>146.726242</td>\n",
       "      <td>239</td>\n",
       "      <td>10</td>\n",
       "      <td>U</td>\n",
       "      <td>Pacific/Port_Moresby</td>\n",
       "    </tr>\n",
       "    <tr>\n",
       "      <th>4</th>\n",
       "      <td>4</td>\n",
       "      <td>5</td>\n",
       "      <td>Port Moresby Jacksons Intl</td>\n",
       "      <td>Port Moresby</td>\n",
       "      <td>Papua New Guinea</td>\n",
       "      <td>POM</td>\n",
       "      <td>AYPY</td>\n",
       "      <td>-9.443383</td>\n",
       "      <td>147.22005</td>\n",
       "      <td>146</td>\n",
       "      <td>10</td>\n",
       "      <td>U</td>\n",
       "      <td>Pacific/Port_Moresby</td>\n",
       "    </tr>\n",
       "  </tbody>\n",
       "</table>\n",
       "</div>"
      ],
      "text/plain": [
       "   index id                        name          city           country code  \\\n",
       "0      0  1                      Goroka        Goroka  Papua New Guinea  GKA   \n",
       "1      1  2                      Madang        Madang  Papua New Guinea  MAG   \n",
       "2      2  3                 Mount Hagen   Mount Hagen  Papua New Guinea  HGU   \n",
       "3      3  4                      Nadzab        Nadzab  Papua New Guinea  LAE   \n",
       "4      4  5  Port Moresby Jacksons Intl  Port Moresby  Papua New Guinea  POM   \n",
       "\n",
       "   icao   latitude   longitude altitude offset dst              timezone  \n",
       "0  AYGA  -6.081689  145.391881     5282     10   U  Pacific/Port_Moresby  \n",
       "1  AYMD  -5.207083    145.7887       20     10   U  Pacific/Port_Moresby  \n",
       "2  AYMH  -5.826789  144.295861     5388     10   U  Pacific/Port_Moresby  \n",
       "3  AYNZ  -6.569828  146.726242      239     10   U  Pacific/Port_Moresby  \n",
       "4  AYPY  -9.443383   147.22005      146     10   U  Pacific/Port_Moresby  "
      ]
     },
     "execution_count": 141,
     "metadata": {},
     "output_type": "execute_result"
    }
   ],
   "source": [
    "import pandas as pd\n",
    "\n",
    "pd_con = sqlite3.connect(\"data/flights.db\")\n",
    "df = pd.read_sql_query(\"select * from airports limit 5;\", pd_con)\n",
    "df"
   ]
  },
  {
   "cell_type": "markdown",
   "metadata": {
    "slideshow": {
     "slide_type": "slide"
    }
   },
   "source": [
    "**Task**: \n",
    "Convert one of the earlier queries in the lesson to a pandas data frame"
   ]
  },
  {
   "cell_type": "code",
   "execution_count": 142,
   "metadata": {},
   "outputs": [
    {
     "data": {
      "text/html": [
       "<div>\n",
       "<style scoped>\n",
       "    .dataframe tbody tr th:only-of-type {\n",
       "        vertical-align: middle;\n",
       "    }\n",
       "\n",
       "    .dataframe tbody tr th {\n",
       "        vertical-align: top;\n",
       "    }\n",
       "\n",
       "    .dataframe thead th {\n",
       "        text-align: right;\n",
       "    }\n",
       "</style>\n",
       "<table border=\"1\" class=\"dataframe\">\n",
       "  <thead>\n",
       "    <tr style=\"text-align: right;\">\n",
       "      <th></th>\n",
       "      <th>country</th>\n",
       "      <th>name</th>\n",
       "      <th>active_airlines</th>\n",
       "    </tr>\n",
       "  </thead>\n",
       "  <tbody>\n",
       "    <tr>\n",
       "      <th>0</th>\n",
       "      <td>United States</td>\n",
       "      <td>Mercer County Airport</td>\n",
       "      <td>45222</td>\n",
       "    </tr>\n",
       "    <tr>\n",
       "      <th>1</th>\n",
       "      <td>Germany</td>\n",
       "      <td>Aachen HBF</td>\n",
       "      <td>7735</td>\n",
       "    </tr>\n",
       "    <tr>\n",
       "      <th>2</th>\n",
       "      <td>Canada</td>\n",
       "      <td>Albian Aerodrome</td>\n",
       "      <td>7259</td>\n",
       "    </tr>\n",
       "    <tr>\n",
       "      <th>3</th>\n",
       "      <td>Russia</td>\n",
       "      <td>Angasolka</td>\n",
       "      <td>6545</td>\n",
       "    </tr>\n",
       "    <tr>\n",
       "      <th>4</th>\n",
       "      <td>China</td>\n",
       "      <td>All Airports</td>\n",
       "      <td>6545</td>\n",
       "    </tr>\n",
       "    <tr>\n",
       "      <th>...</th>\n",
       "      <td>...</td>\n",
       "      <td>...</td>\n",
       "      <td>...</td>\n",
       "    </tr>\n",
       "    <tr>\n",
       "      <th>123</th>\n",
       "      <td>Azerbaijan</td>\n",
       "      <td>Heydar Aliyev</td>\n",
       "      <td>119</td>\n",
       "    </tr>\n",
       "    <tr>\n",
       "      <th>124</th>\n",
       "      <td>Angola</td>\n",
       "      <td>Catoca Airport</td>\n",
       "      <td>119</td>\n",
       "    </tr>\n",
       "    <tr>\n",
       "      <th>125</th>\n",
       "      <td>American Samoa</td>\n",
       "      <td>Ofu Airport</td>\n",
       "      <td>119</td>\n",
       "    </tr>\n",
       "    <tr>\n",
       "      <th>126</th>\n",
       "      <td>Algeria</td>\n",
       "      <td>El Merk</td>\n",
       "      <td>119</td>\n",
       "    </tr>\n",
       "    <tr>\n",
       "      <th>127</th>\n",
       "      <td>Afghanistan</td>\n",
       "      <td>FOB Sharana</td>\n",
       "      <td>119</td>\n",
       "    </tr>\n",
       "  </tbody>\n",
       "</table>\n",
       "<p>128 rows × 3 columns</p>\n",
       "</div>"
      ],
      "text/plain": [
       "            country                   name  active_airlines\n",
       "0     United States  Mercer County Airport            45222\n",
       "1           Germany             Aachen HBF             7735\n",
       "2            Canada       Albian Aerodrome             7259\n",
       "3            Russia              Angasolka             6545\n",
       "4             China           All Airports             6545\n",
       "..              ...                    ...              ...\n",
       "123      Azerbaijan          Heydar Aliyev              119\n",
       "124          Angola         Catoca Airport              119\n",
       "125  American Samoa            Ofu Airport              119\n",
       "126         Algeria                El Merk              119\n",
       "127     Afghanistan            FOB Sharana              119\n",
       "\n",
       "[128 rows x 3 columns]"
      ]
     },
     "execution_count": 142,
     "metadata": {},
     "output_type": "execute_result"
    }
   ],
   "source": [
    "# Which countries have the highest amount of active airports?\n",
    "sql = '''\n",
    "SELECT a1.country, a1.name, count(active) as active_airlines\n",
    "FROM airports as a1 JOIN airlines as a2 ON a1.icao = a2.icao\n",
    "WHERE active = 'Y'\n",
    "GROUP BY a1.country\n",
    "ORDER BY active_airlines DESC;\n",
    "\n",
    "'''\n",
    "pd.read_sql_query(sql, pd_con)"
   ]
  },
  {
   "cell_type": "code",
   "execution_count": 25,
   "metadata": {},
   "outputs": [],
   "source": [
    "pd_con.close()"
   ]
  },
  {
   "cell_type": "markdown",
   "metadata": {
    "slideshow": {
     "slide_type": "slide"
    }
   },
   "source": [
    "## Integration\n",
    "\n",
    "The [Chinook database](https://github.com/lerocha/chinook-database) is a sample database, representing a digital media store.\n",
    "\n",
    "You need to create a query that can rank tracks in term of popularity.\n",
    "\n",
    "The name of the database is `Chinook_Sqlite.sqlite`"
   ]
  },
  {
   "cell_type": "markdown",
   "metadata": {
    "slideshow": {
     "slide_type": "slide"
    }
   },
   "source": [
    "Database information:<br>\n",
    "- How many tables are in the database?\n",
    "- What's the primary key of each table?\n",
    "- What foreign keys join the tables together?\n",
    "- If you had to draw a schema of how the tables are connected, what would it look like?"
   ]
  },
  {
   "cell_type": "markdown",
   "metadata": {
    "slideshow": {
     "slide_type": "slide"
    }
   },
   "source": [
    "To answer the question:<br>\n",
    "- What are the max and min dates in the Invoice table?\n",
    "- What tables would you need to answer \"what is your most popular track?\"\n",
    "- What values from each table?"
   ]
  },
  {
   "cell_type": "code",
   "execution_count": 143,
   "metadata": {
    "slideshow": {
     "slide_type": "skip"
    }
   },
   "outputs": [],
   "source": [
    "conn = sqlite3.connect('data/Chinook_Sqlite.sqlite')\n",
    "cur = conn.cursor()\n",
    "import pandas as pd"
   ]
  },
  {
   "cell_type": "code",
   "execution_count": 144,
   "metadata": {},
   "outputs": [
    {
     "data": {
      "text/html": [
       "<div>\n",
       "<style scoped>\n",
       "    .dataframe tbody tr th:only-of-type {\n",
       "        vertical-align: middle;\n",
       "    }\n",
       "\n",
       "    .dataframe tbody tr th {\n",
       "        vertical-align: top;\n",
       "    }\n",
       "\n",
       "    .dataframe thead th {\n",
       "        text-align: right;\n",
       "    }\n",
       "</style>\n",
       "<table border=\"1\" class=\"dataframe\">\n",
       "  <thead>\n",
       "    <tr style=\"text-align: right;\">\n",
       "      <th></th>\n",
       "      <th>count(tbl_name)</th>\n",
       "    </tr>\n",
       "  </thead>\n",
       "  <tbody>\n",
       "    <tr>\n",
       "      <th>0</th>\n",
       "      <td>11</td>\n",
       "    </tr>\n",
       "  </tbody>\n",
       "</table>\n",
       "</div>"
      ],
      "text/plain": [
       "   count(tbl_name)\n",
       "0               11"
      ]
     },
     "execution_count": 144,
     "metadata": {},
     "output_type": "execute_result"
    }
   ],
   "source": [
    "# How many tables are in the database?\n",
    "\n",
    "# your code here\n",
    "\n",
    "sql = '''\n",
    "SELECT count(tbl_name) FROM sqlite_master AS tables \n",
    "WHERE type='table';\n",
    "\n",
    "'''\n",
    "table_name=pd.read_sql_query(sql, conn)\n",
    "table_name"
   ]
  },
  {
   "cell_type": "code",
   "execution_count": 126,
   "metadata": {},
   "outputs": [
    {
     "name": "stdout",
     "output_type": "stream",
     "text": [
      "      name\n",
      "0  AlbumId\n",
      "       name\n",
      "0  ArtistId\n",
      "         name\n",
      "0  CustomerId\n",
      "         name\n",
      "0  EmployeeId\n",
      "      name\n",
      "0  GenreId\n",
      "        name\n",
      "0  InvoiceId\n",
      "            name\n",
      "0  InvoiceLineId\n",
      "          name\n",
      "0  MediaTypeId\n",
      "         name\n",
      "0  PlaylistId\n",
      "         name\n",
      "0  PlaylistId\n",
      "      name\n",
      "0  TrackId\n"
     ]
    }
   ],
   "source": [
    "# What's the primary key of each table?\n",
    "\n",
    "# your code here\n",
    "\n",
    "sql = '''SELECT l.name FROM pragma_table_info('Album') as l WHERE l.pk = 1;'''\n",
    "print(pd.read_sql_query(sql, conn))\n",
    "\n",
    "sql = '''SELECT l.name FROM pragma_table_info('Artist') as l WHERE l.pk = 1;'''\n",
    "print(pd.read_sql_query(sql, conn))\n",
    "\n",
    "sql = '''SELECT l.name FROM pragma_table_info('Customer') as l WHERE l.pk = 1;'''\n",
    "print(pd.read_sql_query(sql, conn))\n",
    "\n",
    "sql = '''SELECT l.name FROM pragma_table_info('Employee') as l WHERE l.pk = 1;'''\n",
    "print(pd.read_sql_query(sql, conn))\n",
    "\n",
    "sql = '''SELECT l.name FROM pragma_table_info('Genre') as l WHERE l.pk = 1;'''\n",
    "print(pd.read_sql_query(sql, conn))\n",
    "\n",
    "sql = '''SELECT l.name FROM pragma_table_info('Invoice') as l WHERE l.pk = 1;'''\n",
    "print(pd.read_sql_query(sql, conn))\n",
    "\n",
    "sql = '''SELECT l.name FROM pragma_table_info('InvoiceLine') as l WHERE l.pk = 1;'''\n",
    "print(pd.read_sql_query(sql, conn))\n",
    "\n",
    "sql = '''SELECT l.name FROM pragma_table_info('MediaType') as l WHERE l.pk = 1;'''\n",
    "print(pd.read_sql_query(sql, conn))\n",
    "\n",
    "sql = '''SELECT l.name FROM pragma_table_info('Playlist') as l WHERE l.pk = 1;'''\n",
    "print(pd.read_sql_query(sql, conn))\n",
    "\n",
    "sql = '''SELECT l.name FROM pragma_table_info('PlaylistTrack') as l WHERE l.pk = 1;'''\n",
    "print(pd.read_sql_query(sql, conn))\n",
    "\n",
    "sql = '''SELECT l.name FROM pragma_table_info('Track') as l WHERE l.pk = 1;'''\n",
    "print(pd.read_sql_query(sql, conn))"
   ]
  },
  {
   "cell_type": "markdown",
   "metadata": {},
   "source": [
    "Foreign keys for playlistTrack table is TrackID and PlyalistID"
   ]
  },
  {
   "cell_type": "code",
   "execution_count": 145,
   "metadata": {},
   "outputs": [
    {
     "data": {
      "text/html": [
       "<div>\n",
       "<style scoped>\n",
       "    .dataframe tbody tr th:only-of-type {\n",
       "        vertical-align: middle;\n",
       "    }\n",
       "\n",
       "    .dataframe tbody tr th {\n",
       "        vertical-align: top;\n",
       "    }\n",
       "\n",
       "    .dataframe thead th {\n",
       "        text-align: right;\n",
       "    }\n",
       "</style>\n",
       "<table border=\"1\" class=\"dataframe\">\n",
       "  <thead>\n",
       "    <tr style=\"text-align: right;\">\n",
       "      <th></th>\n",
       "      <th>id</th>\n",
       "      <th>seq</th>\n",
       "      <th>table</th>\n",
       "      <th>from</th>\n",
       "      <th>to</th>\n",
       "      <th>on_update</th>\n",
       "      <th>on_delete</th>\n",
       "      <th>match</th>\n",
       "    </tr>\n",
       "  </thead>\n",
       "  <tbody>\n",
       "    <tr>\n",
       "      <th>0</th>\n",
       "      <td>0</td>\n",
       "      <td>0</td>\n",
       "      <td>Artist</td>\n",
       "      <td>ArtistId</td>\n",
       "      <td>ArtistId</td>\n",
       "      <td>NO ACTION</td>\n",
       "      <td>NO ACTION</td>\n",
       "      <td>NONE</td>\n",
       "    </tr>\n",
       "  </tbody>\n",
       "</table>\n",
       "</div>"
      ],
      "text/plain": [
       "   id  seq   table      from        to  on_update  on_delete match\n",
       "0   0    0  Artist  ArtistId  ArtistId  NO ACTION  NO ACTION  NONE"
      ]
     },
     "execution_count": 145,
     "metadata": {},
     "output_type": "execute_result"
    }
   ],
   "source": [
    "sql = '''\n",
    "SELECT * FROM pragma_foreign_key_list('Album')\n",
    "'''\n",
    "pd.read_sql_query(sql, conn)"
   ]
  },
  {
   "cell_type": "code",
   "execution_count": 146,
   "metadata": {},
   "outputs": [
    {
     "data": {
      "text/html": [
       "<div>\n",
       "<style scoped>\n",
       "    .dataframe tbody tr th:only-of-type {\n",
       "        vertical-align: middle;\n",
       "    }\n",
       "\n",
       "    .dataframe tbody tr th {\n",
       "        vertical-align: top;\n",
       "    }\n",
       "\n",
       "    .dataframe thead th {\n",
       "        text-align: right;\n",
       "    }\n",
       "</style>\n",
       "<table border=\"1\" class=\"dataframe\">\n",
       "  <thead>\n",
       "    <tr style=\"text-align: right;\">\n",
       "      <th></th>\n",
       "      <th>id</th>\n",
       "      <th>seq</th>\n",
       "      <th>table</th>\n",
       "      <th>from</th>\n",
       "      <th>to</th>\n",
       "      <th>on_update</th>\n",
       "      <th>on_delete</th>\n",
       "      <th>match</th>\n",
       "    </tr>\n",
       "  </thead>\n",
       "  <tbody>\n",
       "  </tbody>\n",
       "</table>\n",
       "</div>"
      ],
      "text/plain": [
       "Empty DataFrame\n",
       "Columns: [id, seq, table, from, to, on_update, on_delete, match]\n",
       "Index: []"
      ]
     },
     "execution_count": 146,
     "metadata": {},
     "output_type": "execute_result"
    }
   ],
   "source": [
    "sql = '''\n",
    "SELECT * FROM pragma_foreign_key_list('Artist')\n",
    "'''\n",
    "pd.read_sql_query(sql, conn)"
   ]
  },
  {
   "cell_type": "code",
   "execution_count": 147,
   "metadata": {},
   "outputs": [
    {
     "data": {
      "text/html": [
       "<div>\n",
       "<style scoped>\n",
       "    .dataframe tbody tr th:only-of-type {\n",
       "        vertical-align: middle;\n",
       "    }\n",
       "\n",
       "    .dataframe tbody tr th {\n",
       "        vertical-align: top;\n",
       "    }\n",
       "\n",
       "    .dataframe thead th {\n",
       "        text-align: right;\n",
       "    }\n",
       "</style>\n",
       "<table border=\"1\" class=\"dataframe\">\n",
       "  <thead>\n",
       "    <tr style=\"text-align: right;\">\n",
       "      <th></th>\n",
       "      <th>id</th>\n",
       "      <th>seq</th>\n",
       "      <th>table</th>\n",
       "      <th>from</th>\n",
       "      <th>to</th>\n",
       "      <th>on_update</th>\n",
       "      <th>on_delete</th>\n",
       "      <th>match</th>\n",
       "    </tr>\n",
       "  </thead>\n",
       "  <tbody>\n",
       "    <tr>\n",
       "      <th>0</th>\n",
       "      <td>0</td>\n",
       "      <td>0</td>\n",
       "      <td>Employee</td>\n",
       "      <td>SupportRepId</td>\n",
       "      <td>EmployeeId</td>\n",
       "      <td>NO ACTION</td>\n",
       "      <td>NO ACTION</td>\n",
       "      <td>NONE</td>\n",
       "    </tr>\n",
       "  </tbody>\n",
       "</table>\n",
       "</div>"
      ],
      "text/plain": [
       "   id  seq     table          from          to  on_update  on_delete match\n",
       "0   0    0  Employee  SupportRepId  EmployeeId  NO ACTION  NO ACTION  NONE"
      ]
     },
     "execution_count": 147,
     "metadata": {},
     "output_type": "execute_result"
    }
   ],
   "source": [
    "sql = '''\n",
    "SELECT * FROM pragma_foreign_key_list('Customer')\n",
    "'''\n",
    "pd.read_sql_query(sql, conn)"
   ]
  },
  {
   "cell_type": "code",
   "execution_count": 148,
   "metadata": {},
   "outputs": [
    {
     "data": {
      "text/html": [
       "<div>\n",
       "<style scoped>\n",
       "    .dataframe tbody tr th:only-of-type {\n",
       "        vertical-align: middle;\n",
       "    }\n",
       "\n",
       "    .dataframe tbody tr th {\n",
       "        vertical-align: top;\n",
       "    }\n",
       "\n",
       "    .dataframe thead th {\n",
       "        text-align: right;\n",
       "    }\n",
       "</style>\n",
       "<table border=\"1\" class=\"dataframe\">\n",
       "  <thead>\n",
       "    <tr style=\"text-align: right;\">\n",
       "      <th></th>\n",
       "      <th>id</th>\n",
       "      <th>seq</th>\n",
       "      <th>table</th>\n",
       "      <th>from</th>\n",
       "      <th>to</th>\n",
       "      <th>on_update</th>\n",
       "      <th>on_delete</th>\n",
       "      <th>match</th>\n",
       "    </tr>\n",
       "  </thead>\n",
       "  <tbody>\n",
       "    <tr>\n",
       "      <th>0</th>\n",
       "      <td>0</td>\n",
       "      <td>0</td>\n",
       "      <td>Employee</td>\n",
       "      <td>ReportsTo</td>\n",
       "      <td>EmployeeId</td>\n",
       "      <td>NO ACTION</td>\n",
       "      <td>NO ACTION</td>\n",
       "      <td>NONE</td>\n",
       "    </tr>\n",
       "  </tbody>\n",
       "</table>\n",
       "</div>"
      ],
      "text/plain": [
       "   id  seq     table       from          to  on_update  on_delete match\n",
       "0   0    0  Employee  ReportsTo  EmployeeId  NO ACTION  NO ACTION  NONE"
      ]
     },
     "execution_count": 148,
     "metadata": {},
     "output_type": "execute_result"
    }
   ],
   "source": [
    "sql = '''\n",
    "SELECT * FROM pragma_foreign_key_list('Employee')\n",
    "'''\n",
    "pd.read_sql_query(sql, conn)"
   ]
  },
  {
   "cell_type": "code",
   "execution_count": 149,
   "metadata": {},
   "outputs": [
    {
     "data": {
      "text/html": [
       "<div>\n",
       "<style scoped>\n",
       "    .dataframe tbody tr th:only-of-type {\n",
       "        vertical-align: middle;\n",
       "    }\n",
       "\n",
       "    .dataframe tbody tr th {\n",
       "        vertical-align: top;\n",
       "    }\n",
       "\n",
       "    .dataframe thead th {\n",
       "        text-align: right;\n",
       "    }\n",
       "</style>\n",
       "<table border=\"1\" class=\"dataframe\">\n",
       "  <thead>\n",
       "    <tr style=\"text-align: right;\">\n",
       "      <th></th>\n",
       "      <th>id</th>\n",
       "      <th>seq</th>\n",
       "      <th>table</th>\n",
       "      <th>from</th>\n",
       "      <th>to</th>\n",
       "      <th>on_update</th>\n",
       "      <th>on_delete</th>\n",
       "      <th>match</th>\n",
       "    </tr>\n",
       "  </thead>\n",
       "  <tbody>\n",
       "  </tbody>\n",
       "</table>\n",
       "</div>"
      ],
      "text/plain": [
       "Empty DataFrame\n",
       "Columns: [id, seq, table, from, to, on_update, on_delete, match]\n",
       "Index: []"
      ]
     },
     "execution_count": 149,
     "metadata": {},
     "output_type": "execute_result"
    }
   ],
   "source": [
    "sql = '''\n",
    "SELECT * FROM pragma_foreign_key_list('Genre')\n",
    "'''\n",
    "pd.read_sql_query(sql, conn)"
   ]
  },
  {
   "cell_type": "code",
   "execution_count": 150,
   "metadata": {},
   "outputs": [
    {
     "data": {
      "text/html": [
       "<div>\n",
       "<style scoped>\n",
       "    .dataframe tbody tr th:only-of-type {\n",
       "        vertical-align: middle;\n",
       "    }\n",
       "\n",
       "    .dataframe tbody tr th {\n",
       "        vertical-align: top;\n",
       "    }\n",
       "\n",
       "    .dataframe thead th {\n",
       "        text-align: right;\n",
       "    }\n",
       "</style>\n",
       "<table border=\"1\" class=\"dataframe\">\n",
       "  <thead>\n",
       "    <tr style=\"text-align: right;\">\n",
       "      <th></th>\n",
       "      <th>id</th>\n",
       "      <th>seq</th>\n",
       "      <th>table</th>\n",
       "      <th>from</th>\n",
       "      <th>to</th>\n",
       "      <th>on_update</th>\n",
       "      <th>on_delete</th>\n",
       "      <th>match</th>\n",
       "    </tr>\n",
       "  </thead>\n",
       "  <tbody>\n",
       "    <tr>\n",
       "      <th>0</th>\n",
       "      <td>0</td>\n",
       "      <td>0</td>\n",
       "      <td>Customer</td>\n",
       "      <td>CustomerId</td>\n",
       "      <td>CustomerId</td>\n",
       "      <td>NO ACTION</td>\n",
       "      <td>NO ACTION</td>\n",
       "      <td>NONE</td>\n",
       "    </tr>\n",
       "  </tbody>\n",
       "</table>\n",
       "</div>"
      ],
      "text/plain": [
       "   id  seq     table        from          to  on_update  on_delete match\n",
       "0   0    0  Customer  CustomerId  CustomerId  NO ACTION  NO ACTION  NONE"
      ]
     },
     "execution_count": 150,
     "metadata": {},
     "output_type": "execute_result"
    }
   ],
   "source": [
    "sql = '''\n",
    "SELECT * FROM pragma_foreign_key_list('Invoice')\n",
    "'''\n",
    "pd.read_sql_query(sql, conn)"
   ]
  },
  {
   "cell_type": "code",
   "execution_count": 153,
   "metadata": {},
   "outputs": [
    {
     "data": {
      "text/html": [
       "<div>\n",
       "<style scoped>\n",
       "    .dataframe tbody tr th:only-of-type {\n",
       "        vertical-align: middle;\n",
       "    }\n",
       "\n",
       "    .dataframe tbody tr th {\n",
       "        vertical-align: top;\n",
       "    }\n",
       "\n",
       "    .dataframe thead th {\n",
       "        text-align: right;\n",
       "    }\n",
       "</style>\n",
       "<table border=\"1\" class=\"dataframe\">\n",
       "  <thead>\n",
       "    <tr style=\"text-align: right;\">\n",
       "      <th></th>\n",
       "      <th>id</th>\n",
       "      <th>seq</th>\n",
       "      <th>table</th>\n",
       "      <th>from</th>\n",
       "      <th>to</th>\n",
       "      <th>on_update</th>\n",
       "      <th>on_delete</th>\n",
       "      <th>match</th>\n",
       "    </tr>\n",
       "  </thead>\n",
       "  <tbody>\n",
       "    <tr>\n",
       "      <th>0</th>\n",
       "      <td>0</td>\n",
       "      <td>0</td>\n",
       "      <td>Track</td>\n",
       "      <td>TrackId</td>\n",
       "      <td>TrackId</td>\n",
       "      <td>NO ACTION</td>\n",
       "      <td>NO ACTION</td>\n",
       "      <td>NONE</td>\n",
       "    </tr>\n",
       "    <tr>\n",
       "      <th>1</th>\n",
       "      <td>1</td>\n",
       "      <td>0</td>\n",
       "      <td>Invoice</td>\n",
       "      <td>InvoiceId</td>\n",
       "      <td>InvoiceId</td>\n",
       "      <td>NO ACTION</td>\n",
       "      <td>NO ACTION</td>\n",
       "      <td>NONE</td>\n",
       "    </tr>\n",
       "  </tbody>\n",
       "</table>\n",
       "</div>"
      ],
      "text/plain": [
       "   id  seq    table       from         to  on_update  on_delete match\n",
       "0   0    0    Track    TrackId    TrackId  NO ACTION  NO ACTION  NONE\n",
       "1   1    0  Invoice  InvoiceId  InvoiceId  NO ACTION  NO ACTION  NONE"
      ]
     },
     "execution_count": 153,
     "metadata": {},
     "output_type": "execute_result"
    }
   ],
   "source": [
    "sql = '''\n",
    "SELECT * FROM pragma_foreign_key_list('InvoiceLine')\n",
    "'''\n",
    "pd.read_sql_query(sql, conn)"
   ]
  },
  {
   "cell_type": "code",
   "execution_count": 154,
   "metadata": {},
   "outputs": [
    {
     "data": {
      "text/html": [
       "<div>\n",
       "<style scoped>\n",
       "    .dataframe tbody tr th:only-of-type {\n",
       "        vertical-align: middle;\n",
       "    }\n",
       "\n",
       "    .dataframe tbody tr th {\n",
       "        vertical-align: top;\n",
       "    }\n",
       "\n",
       "    .dataframe thead th {\n",
       "        text-align: right;\n",
       "    }\n",
       "</style>\n",
       "<table border=\"1\" class=\"dataframe\">\n",
       "  <thead>\n",
       "    <tr style=\"text-align: right;\">\n",
       "      <th></th>\n",
       "      <th>id</th>\n",
       "      <th>seq</th>\n",
       "      <th>table</th>\n",
       "      <th>from</th>\n",
       "      <th>to</th>\n",
       "      <th>on_update</th>\n",
       "      <th>on_delete</th>\n",
       "      <th>match</th>\n",
       "    </tr>\n",
       "  </thead>\n",
       "  <tbody>\n",
       "  </tbody>\n",
       "</table>\n",
       "</div>"
      ],
      "text/plain": [
       "Empty DataFrame\n",
       "Columns: [id, seq, table, from, to, on_update, on_delete, match]\n",
       "Index: []"
      ]
     },
     "execution_count": 154,
     "metadata": {},
     "output_type": "execute_result"
    }
   ],
   "source": [
    "sql = '''\n",
    "SELECT * FROM pragma_foreign_key_list('MediaType')\n",
    "'''\n",
    "pd.read_sql_query(sql, conn)"
   ]
  },
  {
   "cell_type": "code",
   "execution_count": 155,
   "metadata": {},
   "outputs": [
    {
     "data": {
      "text/html": [
       "<div>\n",
       "<style scoped>\n",
       "    .dataframe tbody tr th:only-of-type {\n",
       "        vertical-align: middle;\n",
       "    }\n",
       "\n",
       "    .dataframe tbody tr th {\n",
       "        vertical-align: top;\n",
       "    }\n",
       "\n",
       "    .dataframe thead th {\n",
       "        text-align: right;\n",
       "    }\n",
       "</style>\n",
       "<table border=\"1\" class=\"dataframe\">\n",
       "  <thead>\n",
       "    <tr style=\"text-align: right;\">\n",
       "      <th></th>\n",
       "      <th>id</th>\n",
       "      <th>seq</th>\n",
       "      <th>table</th>\n",
       "      <th>from</th>\n",
       "      <th>to</th>\n",
       "      <th>on_update</th>\n",
       "      <th>on_delete</th>\n",
       "      <th>match</th>\n",
       "    </tr>\n",
       "  </thead>\n",
       "  <tbody>\n",
       "  </tbody>\n",
       "</table>\n",
       "</div>"
      ],
      "text/plain": [
       "Empty DataFrame\n",
       "Columns: [id, seq, table, from, to, on_update, on_delete, match]\n",
       "Index: []"
      ]
     },
     "execution_count": 155,
     "metadata": {},
     "output_type": "execute_result"
    }
   ],
   "source": [
    "sql = '''\n",
    "SELECT * FROM pragma_foreign_key_list('Playlist')\n",
    "'''\n",
    "pd.read_sql_query(sql, conn)"
   ]
  },
  {
   "cell_type": "code",
   "execution_count": 151,
   "metadata": {},
   "outputs": [
    {
     "data": {
      "text/html": [
       "<div>\n",
       "<style scoped>\n",
       "    .dataframe tbody tr th:only-of-type {\n",
       "        vertical-align: middle;\n",
       "    }\n",
       "\n",
       "    .dataframe tbody tr th {\n",
       "        vertical-align: top;\n",
       "    }\n",
       "\n",
       "    .dataframe thead th {\n",
       "        text-align: right;\n",
       "    }\n",
       "</style>\n",
       "<table border=\"1\" class=\"dataframe\">\n",
       "  <thead>\n",
       "    <tr style=\"text-align: right;\">\n",
       "      <th></th>\n",
       "      <th>id</th>\n",
       "      <th>seq</th>\n",
       "      <th>table</th>\n",
       "      <th>from</th>\n",
       "      <th>to</th>\n",
       "      <th>on_update</th>\n",
       "      <th>on_delete</th>\n",
       "      <th>match</th>\n",
       "    </tr>\n",
       "  </thead>\n",
       "  <tbody>\n",
       "    <tr>\n",
       "      <th>0</th>\n",
       "      <td>0</td>\n",
       "      <td>0</td>\n",
       "      <td>Track</td>\n",
       "      <td>TrackId</td>\n",
       "      <td>TrackId</td>\n",
       "      <td>NO ACTION</td>\n",
       "      <td>NO ACTION</td>\n",
       "      <td>NONE</td>\n",
       "    </tr>\n",
       "    <tr>\n",
       "      <th>1</th>\n",
       "      <td>1</td>\n",
       "      <td>0</td>\n",
       "      <td>Playlist</td>\n",
       "      <td>PlaylistId</td>\n",
       "      <td>PlaylistId</td>\n",
       "      <td>NO ACTION</td>\n",
       "      <td>NO ACTION</td>\n",
       "      <td>NONE</td>\n",
       "    </tr>\n",
       "  </tbody>\n",
       "</table>\n",
       "</div>"
      ],
      "text/plain": [
       "   id  seq     table        from          to  on_update  on_delete match\n",
       "0   0    0     Track     TrackId     TrackId  NO ACTION  NO ACTION  NONE\n",
       "1   1    0  Playlist  PlaylistId  PlaylistId  NO ACTION  NO ACTION  NONE"
      ]
     },
     "execution_count": 151,
     "metadata": {},
     "output_type": "execute_result"
    }
   ],
   "source": [
    "sql = '''\n",
    "SELECT * FROM pragma_foreign_key_list('playlistTrack')\n",
    "'''\n",
    "pd.read_sql_query(sql, conn)\n",
    "\n"
   ]
  },
  {
   "cell_type": "code",
   "execution_count": 152,
   "metadata": {},
   "outputs": [
    {
     "data": {
      "text/html": [
       "<div>\n",
       "<style scoped>\n",
       "    .dataframe tbody tr th:only-of-type {\n",
       "        vertical-align: middle;\n",
       "    }\n",
       "\n",
       "    .dataframe tbody tr th {\n",
       "        vertical-align: top;\n",
       "    }\n",
       "\n",
       "    .dataframe thead th {\n",
       "        text-align: right;\n",
       "    }\n",
       "</style>\n",
       "<table border=\"1\" class=\"dataframe\">\n",
       "  <thead>\n",
       "    <tr style=\"text-align: right;\">\n",
       "      <th></th>\n",
       "      <th>id</th>\n",
       "      <th>seq</th>\n",
       "      <th>table</th>\n",
       "      <th>from</th>\n",
       "      <th>to</th>\n",
       "      <th>on_update</th>\n",
       "      <th>on_delete</th>\n",
       "      <th>match</th>\n",
       "    </tr>\n",
       "  </thead>\n",
       "  <tbody>\n",
       "    <tr>\n",
       "      <th>0</th>\n",
       "      <td>0</td>\n",
       "      <td>0</td>\n",
       "      <td>MediaType</td>\n",
       "      <td>MediaTypeId</td>\n",
       "      <td>MediaTypeId</td>\n",
       "      <td>NO ACTION</td>\n",
       "      <td>NO ACTION</td>\n",
       "      <td>NONE</td>\n",
       "    </tr>\n",
       "    <tr>\n",
       "      <th>1</th>\n",
       "      <td>1</td>\n",
       "      <td>0</td>\n",
       "      <td>Genre</td>\n",
       "      <td>GenreId</td>\n",
       "      <td>GenreId</td>\n",
       "      <td>NO ACTION</td>\n",
       "      <td>NO ACTION</td>\n",
       "      <td>NONE</td>\n",
       "    </tr>\n",
       "    <tr>\n",
       "      <th>2</th>\n",
       "      <td>2</td>\n",
       "      <td>0</td>\n",
       "      <td>Album</td>\n",
       "      <td>AlbumId</td>\n",
       "      <td>AlbumId</td>\n",
       "      <td>NO ACTION</td>\n",
       "      <td>NO ACTION</td>\n",
       "      <td>NONE</td>\n",
       "    </tr>\n",
       "  </tbody>\n",
       "</table>\n",
       "</div>"
      ],
      "text/plain": [
       "   id  seq      table         from           to  on_update  on_delete match\n",
       "0   0    0  MediaType  MediaTypeId  MediaTypeId  NO ACTION  NO ACTION  NONE\n",
       "1   1    0      Genre      GenreId      GenreId  NO ACTION  NO ACTION  NONE\n",
       "2   2    0      Album      AlbumId      AlbumId  NO ACTION  NO ACTION  NONE"
      ]
     },
     "execution_count": 152,
     "metadata": {},
     "output_type": "execute_result"
    }
   ],
   "source": [
    "sql = '''\n",
    "SELECT * FROM pragma_foreign_key_list('Track')\n",
    "'''\n",
    "pd.read_sql_query(sql, conn)"
   ]
  },
  {
   "cell_type": "code",
   "execution_count": 128,
   "metadata": {},
   "outputs": [
    {
     "data": {
      "text/html": [
       "<div>\n",
       "<style scoped>\n",
       "    .dataframe tbody tr th:only-of-type {\n",
       "        vertical-align: middle;\n",
       "    }\n",
       "\n",
       "    .dataframe tbody tr th {\n",
       "        vertical-align: top;\n",
       "    }\n",
       "\n",
       "    .dataframe thead th {\n",
       "        text-align: right;\n",
       "    }\n",
       "</style>\n",
       "<table border=\"1\" class=\"dataframe\">\n",
       "  <thead>\n",
       "    <tr style=\"text-align: right;\">\n",
       "      <th></th>\n",
       "      <th>MAX(InvoiceDate)</th>\n",
       "      <th>MIN(InvoiceDate)</th>\n",
       "    </tr>\n",
       "  </thead>\n",
       "  <tbody>\n",
       "    <tr>\n",
       "      <th>0</th>\n",
       "      <td>2013-12-22 00:00:00</td>\n",
       "      <td>2009-01-01 00:00:00</td>\n",
       "    </tr>\n",
       "  </tbody>\n",
       "</table>\n",
       "</div>"
      ],
      "text/plain": [
       "      MAX(InvoiceDate)     MIN(InvoiceDate)\n",
       "0  2013-12-22 00:00:00  2009-01-01 00:00:00"
      ]
     },
     "execution_count": 128,
     "metadata": {},
     "output_type": "execute_result"
    }
   ],
   "source": [
    "# What are the max and min dates in the Invoice table?\n",
    "sql = '''\n",
    "SELECT MAX(InvoiceDate), MIN(InvoiceDate) FROM Invoice\n",
    "\n",
    "'''\n",
    "pd.read_sql_query(sql, conn)"
   ]
  },
  {
   "cell_type": "markdown",
   "metadata": {},
   "source": [
    "#### What tables would you need to answer \"what is your most popular track?\"\n",
    "\n",
    "1. PlaylistTrack\n",
    "2. Track"
   ]
  },
  {
   "cell_type": "markdown",
   "metadata": {},
   "source": [
    "####  What values from each table?\n",
    "1. PlaylistTrack\n",
    "    - playlistID\n",
    "    - trackID\n",
    "2. Track\n",
    "    - TrackID\n",
    "    - Name\n",
    "    "
   ]
  },
  {
   "cell_type": "code",
   "execution_count": 167,
   "metadata": {},
   "outputs": [
    {
     "data": {
      "text/html": [
       "<div>\n",
       "<style scoped>\n",
       "    .dataframe tbody tr th:only-of-type {\n",
       "        vertical-align: middle;\n",
       "    }\n",
       "\n",
       "    .dataframe tbody tr th {\n",
       "        vertical-align: top;\n",
       "    }\n",
       "\n",
       "    .dataframe thead th {\n",
       "        text-align: right;\n",
       "    }\n",
       "</style>\n",
       "<table border=\"1\" class=\"dataframe\">\n",
       "  <thead>\n",
       "    <tr style=\"text-align: right;\">\n",
       "      <th></th>\n",
       "      <th>count</th>\n",
       "      <th>TrackId</th>\n",
       "      <th>Name</th>\n",
       "    </tr>\n",
       "  </thead>\n",
       "  <tbody>\n",
       "    <tr>\n",
       "      <th>0</th>\n",
       "      <td>5</td>\n",
       "      <td>3403</td>\n",
       "      <td>Intoitus: Adorate Deum</td>\n",
       "    </tr>\n",
       "    <tr>\n",
       "      <th>1</th>\n",
       "      <td>5</td>\n",
       "      <td>3404</td>\n",
       "      <td>Miserere mei, Deus</td>\n",
       "    </tr>\n",
       "    <tr>\n",
       "      <th>2</th>\n",
       "      <td>5</td>\n",
       "      <td>3408</td>\n",
       "      <td>Aria Mit 30 Veränderungen, BWV 988 \"Goldberg V...</td>\n",
       "    </tr>\n",
       "    <tr>\n",
       "      <th>3</th>\n",
       "      <td>5</td>\n",
       "      <td>3409</td>\n",
       "      <td>Suite for Solo Cello No. 1 in G Major, BWV 100...</td>\n",
       "    </tr>\n",
       "    <tr>\n",
       "      <th>4</th>\n",
       "      <td>5</td>\n",
       "      <td>3410</td>\n",
       "      <td>The Messiah: Behold, I Tell You a Mystery... T...</td>\n",
       "    </tr>\n",
       "    <tr>\n",
       "      <th>5</th>\n",
       "      <td>5</td>\n",
       "      <td>3411</td>\n",
       "      <td>Solomon HWV 67: The Arrival of the Queen of Sheba</td>\n",
       "    </tr>\n",
       "    <tr>\n",
       "      <th>6</th>\n",
       "      <td>5</td>\n",
       "      <td>3415</td>\n",
       "      <td>Symphony No.5 in C Minor: I. Allegro con brio</td>\n",
       "    </tr>\n",
       "    <tr>\n",
       "      <th>7</th>\n",
       "      <td>5</td>\n",
       "      <td>3416</td>\n",
       "      <td>Ave Maria</td>\n",
       "    </tr>\n",
       "    <tr>\n",
       "      <th>8</th>\n",
       "      <td>5</td>\n",
       "      <td>3417</td>\n",
       "      <td>Nabucco: Chorus, \"Va, Pensiero, Sull'ali Dorate\"</td>\n",
       "    </tr>\n",
       "    <tr>\n",
       "      <th>9</th>\n",
       "      <td>5</td>\n",
       "      <td>3418</td>\n",
       "      <td>Die Walküre: The Ride of the Valkyries</td>\n",
       "    </tr>\n",
       "  </tbody>\n",
       "</table>\n",
       "</div>"
      ],
      "text/plain": [
       "   count  TrackId                                               Name\n",
       "0      5     3403                             Intoitus: Adorate Deum\n",
       "1      5     3404                                 Miserere mei, Deus\n",
       "2      5     3408  Aria Mit 30 Veränderungen, BWV 988 \"Goldberg V...\n",
       "3      5     3409  Suite for Solo Cello No. 1 in G Major, BWV 100...\n",
       "4      5     3410  The Messiah: Behold, I Tell You a Mystery... T...\n",
       "5      5     3411  Solomon HWV 67: The Arrival of the Queen of Sheba\n",
       "6      5     3415      Symphony No.5 in C Minor: I. Allegro con brio\n",
       "7      5     3416                                          Ave Maria\n",
       "8      5     3417   Nabucco: Chorus, \"Va, Pensiero, Sull'ali Dorate\"\n",
       "9      5     3418             Die Walküre: The Ride of the Valkyries"
      ]
     },
     "execution_count": 167,
     "metadata": {},
     "output_type": "execute_result"
    }
   ],
   "source": [
    "# Put it all together:\n",
    "# You need to create a query that can rank tracks in term of popularity.\n",
    "\n",
    "sql = '''\n",
    "\n",
    "SELECT count(DISTINCT p.playlistid) as count, p.trackid, t.name from playlisttrack as p\n",
    "\n",
    "JOIN track as t\n",
    "\n",
    "ON t.trackid = p.trackid\n",
    "\n",
    "GROUP BY p.trackid\n",
    "ORDER BY count DESC LIMIT 10\n",
    "\n",
    "'''\n",
    "pd.read_sql_query(sql, conn)"
   ]
  },
  {
   "cell_type": "code",
   "execution_count": 169,
   "metadata": {},
   "outputs": [
    {
     "data": {
      "text/html": [
       "<div>\n",
       "<style scoped>\n",
       "    .dataframe tbody tr th:only-of-type {\n",
       "        vertical-align: middle;\n",
       "    }\n",
       "\n",
       "    .dataframe tbody tr th {\n",
       "        vertical-align: top;\n",
       "    }\n",
       "\n",
       "    .dataframe thead th {\n",
       "        text-align: right;\n",
       "    }\n",
       "</style>\n",
       "<table border=\"1\" class=\"dataframe\">\n",
       "  <thead>\n",
       "    <tr style=\"text-align: right;\">\n",
       "      <th></th>\n",
       "      <th>Name</th>\n",
       "      <th>count</th>\n",
       "      <th>TrackId</th>\n",
       "      <th>Name</th>\n",
       "    </tr>\n",
       "  </thead>\n",
       "  <tbody>\n",
       "    <tr>\n",
       "      <th>0</th>\n",
       "      <td>Alberto Turco &amp; Nova Schola Gregoriana</td>\n",
       "      <td>5</td>\n",
       "      <td>3403</td>\n",
       "      <td>Intoitus: Adorate Deum</td>\n",
       "    </tr>\n",
       "    <tr>\n",
       "      <th>1</th>\n",
       "      <td>Richard Marlow &amp; The Choir of Trinity College,...</td>\n",
       "      <td>5</td>\n",
       "      <td>3404</td>\n",
       "      <td>Miserere mei, Deus</td>\n",
       "    </tr>\n",
       "    <tr>\n",
       "      <th>2</th>\n",
       "      <td>Wilhelm Kempff</td>\n",
       "      <td>5</td>\n",
       "      <td>3408</td>\n",
       "      <td>Aria Mit 30 Veränderungen, BWV 988 \"Goldberg V...</td>\n",
       "    </tr>\n",
       "    <tr>\n",
       "      <th>3</th>\n",
       "      <td>Yo-Yo Ma</td>\n",
       "      <td>5</td>\n",
       "      <td>3409</td>\n",
       "      <td>Suite for Solo Cello No. 1 in G Major, BWV 100...</td>\n",
       "    </tr>\n",
       "    <tr>\n",
       "      <th>4</th>\n",
       "      <td>Scholars Baroque Ensemble</td>\n",
       "      <td>5</td>\n",
       "      <td>3410</td>\n",
       "      <td>The Messiah: Behold, I Tell You a Mystery... T...</td>\n",
       "    </tr>\n",
       "    <tr>\n",
       "      <th>5</th>\n",
       "      <td>Academy of St. Martin in the Fields &amp; Sir Nevi...</td>\n",
       "      <td>5</td>\n",
       "      <td>3411</td>\n",
       "      <td>Solomon HWV 67: The Arrival of the Queen of Sheba</td>\n",
       "    </tr>\n",
       "    <tr>\n",
       "      <th>6</th>\n",
       "      <td>Orchestre Révolutionnaire et Romantique &amp; John...</td>\n",
       "      <td>5</td>\n",
       "      <td>3415</td>\n",
       "      <td>Symphony No.5 in C Minor: I. Allegro con brio</td>\n",
       "    </tr>\n",
       "    <tr>\n",
       "      <th>7</th>\n",
       "      <td>Britten Sinfonia, Ivor Bolton &amp; Lesley Garrett</td>\n",
       "      <td>5</td>\n",
       "      <td>3416</td>\n",
       "      <td>Ave Maria</td>\n",
       "    </tr>\n",
       "    <tr>\n",
       "      <th>8</th>\n",
       "      <td>Chicago Symphony Chorus, Chicago Symphony Orch...</td>\n",
       "      <td>5</td>\n",
       "      <td>3417</td>\n",
       "      <td>Nabucco: Chorus, \"Va, Pensiero, Sull'ali Dorate\"</td>\n",
       "    </tr>\n",
       "    <tr>\n",
       "      <th>9</th>\n",
       "      <td>Sir Georg Solti &amp; Wiener Philharmoniker</td>\n",
       "      <td>5</td>\n",
       "      <td>3418</td>\n",
       "      <td>Die Walküre: The Ride of the Valkyries</td>\n",
       "    </tr>\n",
       "  </tbody>\n",
       "</table>\n",
       "</div>"
      ],
      "text/plain": [
       "                                                Name  count  TrackId  \\\n",
       "0             Alberto Turco & Nova Schola Gregoriana      5     3403   \n",
       "1  Richard Marlow & The Choir of Trinity College,...      5     3404   \n",
       "2                                     Wilhelm Kempff      5     3408   \n",
       "3                                           Yo-Yo Ma      5     3409   \n",
       "4                          Scholars Baroque Ensemble      5     3410   \n",
       "5  Academy of St. Martin in the Fields & Sir Nevi...      5     3411   \n",
       "6  Orchestre Révolutionnaire et Romantique & John...      5     3415   \n",
       "7     Britten Sinfonia, Ivor Bolton & Lesley Garrett      5     3416   \n",
       "8  Chicago Symphony Chorus, Chicago Symphony Orch...      5     3417   \n",
       "9            Sir Georg Solti & Wiener Philharmoniker      5     3418   \n",
       "\n",
       "                                                Name  \n",
       "0                             Intoitus: Adorate Deum  \n",
       "1                                 Miserere mei, Deus  \n",
       "2  Aria Mit 30 Veränderungen, BWV 988 \"Goldberg V...  \n",
       "3  Suite for Solo Cello No. 1 in G Major, BWV 100...  \n",
       "4  The Messiah: Behold, I Tell You a Mystery... T...  \n",
       "5  Solomon HWV 67: The Arrival of the Queen of Sheba  \n",
       "6      Symphony No.5 in C Minor: I. Allegro con brio  \n",
       "7                                          Ave Maria  \n",
       "8   Nabucco: Chorus, \"Va, Pensiero, Sull'ali Dorate\"  \n",
       "9             Die Walküre: The Ride of the Valkyries  "
      ]
     },
     "execution_count": 169,
     "metadata": {},
     "output_type": "execute_result"
    }
   ],
   "source": [
    "# Advanced: get the artist who sang the song!\n",
    "sql = '''\n",
    "\n",
    "SELECT a2.name, count(DISTINCT p.playlistid) as count, p.trackid, t.name from playlisttrack as p\n",
    "\n",
    "JOIN track as t\n",
    "\n",
    "ON t.trackid = p.trackid\n",
    "\n",
    "JOIN Album as a1\n",
    "ON t.albumid = a1.albumid\n",
    "\n",
    "JOIN Artist as a2\n",
    "ON a2.artistid = a1.artistid\n",
    "\n",
    "GROUP BY p.trackid\n",
    "ORDER BY count DESC LIMIT 10\n",
    "\n",
    "'''\n",
    "pd.read_sql_query(sql, conn)"
   ]
  },
  {
   "cell_type": "markdown",
   "metadata": {
    "slideshow": {
     "slide_type": "slide"
    }
   },
   "source": [
    "#### GROUP BY"
   ]
  },
  {
   "cell_type": "markdown",
   "metadata": {
    "slideshow": {
     "slide_type": "slide"
    }
   },
   "source": [
    "- Group columns by similar values\n",
    "- SELECT COUNT(id), city from students GROUP BY city"
   ]
  },
  {
   "cell_type": "markdown",
   "metadata": {
    "slideshow": {
     "slide_type": "slide"
    }
   },
   "source": [
    "#### HAVING"
   ]
  },
  {
   "cell_type": "markdown",
   "metadata": {
    "slideshow": {
     "slide_type": "slide"
    }
   },
   "source": [
    "- Use to apply filter AFTER a `GROUP BY` based on aggregate criteria \n",
    "- `WHERE` is applied for conditions prior to the `GROUP BY`, `HAVING` is applied afterwards\n",
    "\n",
    "For example, if we had a table of student names and the courses they were taking, we could ask a question such as which classes have 3 or more students with the name Matt?\n",
    "\n",
    "Such a query would look something like this:\n",
    "\n",
    "```SQL\n",
    "SELECT\n",
    "  class,\n",
    "  COUNT(student_name) AS number_of_alexes\n",
    "FROM student_courses\n",
    "WHERE student_name = \"Alex\"\n",
    "GROUP BY 1\n",
    "HAVING COUNT(student_name) >= 2;\n",
    "```"
   ]
  },
  {
   "cell_type": "code",
   "execution_count": 171,
   "metadata": {
    "slideshow": {
     "slide_type": "slide"
    }
   },
   "outputs": [],
   "source": [
    "conn = sqlite3.connect('data/tutorial.db')\n",
    "c = conn.cursor()\n",
    "\n",
    "import pandas as pd"
   ]
  },
  {
   "cell_type": "code",
   "execution_count": 172,
   "metadata": {},
   "outputs": [
    {
     "data": {
      "text/html": [
       "<div>\n",
       "<style scoped>\n",
       "    .dataframe tbody tr th:only-of-type {\n",
       "        vertical-align: middle;\n",
       "    }\n",
       "\n",
       "    .dataframe tbody tr th {\n",
       "        vertical-align: top;\n",
       "    }\n",
       "\n",
       "    .dataframe thead th {\n",
       "        text-align: right;\n",
       "    }\n",
       "</style>\n",
       "<table border=\"1\" class=\"dataframe\">\n",
       "  <thead>\n",
       "    <tr style=\"text-align: right;\">\n",
       "      <th></th>\n",
       "      <th>tbl_name</th>\n",
       "    </tr>\n",
       "  </thead>\n",
       "  <tbody>\n",
       "    <tr>\n",
       "      <th>0</th>\n",
       "      <td>responses</td>\n",
       "    </tr>\n",
       "  </tbody>\n",
       "</table>\n",
       "</div>"
      ],
      "text/plain": [
       "    tbl_name\n",
       "0  responses"
      ]
     },
     "execution_count": 172,
     "metadata": {},
     "output_type": "execute_result"
    }
   ],
   "source": [
    "sql = '''\n",
    "SELECT tbl_name FROM sqlite_master AS tables \n",
    "WHERE type='table';\n",
    "\n",
    "'''\n",
    "table_name=pd.read_sql_query(sql, conn)\n",
    "table_name"
   ]
  },
  {
   "cell_type": "code",
   "execution_count": 173,
   "metadata": {
    "scrolled": true,
    "slideshow": {
     "slide_type": "slide"
    }
   },
   "outputs": [],
   "source": [
    "columns = [x[0] for x in c.execute('select name from responses').description]"
   ]
  },
  {
   "cell_type": "code",
   "execution_count": 174,
   "metadata": {
    "scrolled": true,
    "slideshow": {
     "slide_type": "slide"
    }
   },
   "outputs": [
    {
     "data": {
      "text/html": [
       "<div>\n",
       "<style scoped>\n",
       "    .dataframe tbody tr th:only-of-type {\n",
       "        vertical-align: middle;\n",
       "    }\n",
       "\n",
       "    .dataframe tbody tr th {\n",
       "        vertical-align: top;\n",
       "    }\n",
       "\n",
       "    .dataframe thead th {\n",
       "        text-align: right;\n",
       "    }\n",
       "</style>\n",
       "<table border=\"1\" class=\"dataframe\">\n",
       "  <thead>\n",
       "    <tr style=\"text-align: right;\">\n",
       "      <th></th>\n",
       "      <th>submitted_ts</th>\n",
       "      <th>name</th>\n",
       "      <th>birthday</th>\n",
       "      <th>hometown</th>\n",
       "      <th>fav_food_1</th>\n",
       "      <th>fav_food_2</th>\n",
       "      <th>time_in_dc</th>\n",
       "      <th>siblings_count</th>\n",
       "    </tr>\n",
       "  </thead>\n",
       "  <tbody>\n",
       "    <tr>\n",
       "      <th>0</th>\n",
       "      <td>12/11/2019 12:57:49</td>\n",
       "      <td>Stephen</td>\n",
       "      <td>12/8</td>\n",
       "      <td>Arlington, TX</td>\n",
       "      <td>pizza</td>\n",
       "      <td>beef stroganoff</td>\n",
       "      <td>0.0</td>\n",
       "      <td>2</td>\n",
       "    </tr>\n",
       "    <tr>\n",
       "      <th>1</th>\n",
       "      <td>12/11/2019 13:04:35</td>\n",
       "      <td>Donna C</td>\n",
       "      <td>9/29</td>\n",
       "      <td>Phoenix, AZ</td>\n",
       "      <td>shrimp</td>\n",
       "      <td>sushi</td>\n",
       "      <td>0.2</td>\n",
       "      <td>1</td>\n",
       "    </tr>\n",
       "    <tr>\n",
       "      <th>2</th>\n",
       "      <td>12/11/2019 13:05:08</td>\n",
       "      <td>Muoyo</td>\n",
       "      <td>6/22</td>\n",
       "      <td>Brooklyn, NY</td>\n",
       "      <td>Nigerian</td>\n",
       "      <td>Thai</td>\n",
       "      <td>0.0</td>\n",
       "      <td>1</td>\n",
       "    </tr>\n",
       "    <tr>\n",
       "      <th>3</th>\n",
       "      <td>12/11/2019 13:06:13</td>\n",
       "      <td>Vyjayanthi</td>\n",
       "      <td>7/24</td>\n",
       "      <td>Fairfax, VA</td>\n",
       "      <td>Pasta</td>\n",
       "      <td>Noodles</td>\n",
       "      <td>11.0</td>\n",
       "      <td>3</td>\n",
       "    </tr>\n",
       "    <tr>\n",
       "      <th>4</th>\n",
       "      <td>12/11/2019 13:21:20</td>\n",
       "      <td>Anesu Masube</td>\n",
       "      <td>3/28</td>\n",
       "      <td>Kwekwe, Zimbabwe</td>\n",
       "      <td>Pork Ribs</td>\n",
       "      <td>Sadza</td>\n",
       "      <td>3.0</td>\n",
       "      <td>5</td>\n",
       "    </tr>\n",
       "  </tbody>\n",
       "</table>\n",
       "</div>"
      ],
      "text/plain": [
       "          submitted_ts          name birthday          hometown fav_food_1  \\\n",
       "0  12/11/2019 12:57:49       Stephen     12/8     Arlington, TX      pizza   \n",
       "1  12/11/2019 13:04:35       Donna C     9/29       Phoenix, AZ     shrimp   \n",
       "2  12/11/2019 13:05:08         Muoyo     6/22      Brooklyn, NY   Nigerian   \n",
       "3  12/11/2019 13:06:13    Vyjayanthi     7/24       Fairfax, VA      Pasta   \n",
       "4  12/11/2019 13:21:20  Anesu Masube     3/28  Kwekwe, Zimbabwe  Pork Ribs   \n",
       "\n",
       "        fav_food_2  time_in_dc  siblings_count  \n",
       "0  beef stroganoff         0.0               2  \n",
       "1            sushi         0.2               1  \n",
       "2             Thai         0.0               1  \n",
       "3          Noodles        11.0               3  \n",
       "4            Sadza         3.0               5  "
      ]
     },
     "execution_count": 174,
     "metadata": {},
     "output_type": "execute_result"
    }
   ],
   "source": [
    "pd_con = sqlite3.connect('data/tutorial.db')\n",
    "df = pd.read_sql_query(\"select * from responses limit 5;\", pd_con)\n",
    "df"
   ]
  },
  {
   "cell_type": "markdown",
   "metadata": {
    "slideshow": {
     "slide_type": "slide"
    }
   },
   "source": [
    "### Questions\n",
    "1. What are the names of all of the students?\n",
    "2. Which student has the most siblings?\n",
    "3. How many students are only children?\n",
    "4. Which 3 students have lived in NYC the shortest amount of time?\n",
    "5. How many students are native New Yorkers?\n",
    "6. Do any two students have the same favorite food?\n"
   ]
  },
  {
   "cell_type": "markdown",
   "metadata": {
    "slideshow": {
     "slide_type": "notes"
    }
   },
   "source": [
    "1. What are the names of all of the students."
   ]
  },
  {
   "cell_type": "code",
   "execution_count": 175,
   "metadata": {},
   "outputs": [
    {
     "data": {
      "text/html": [
       "<div>\n",
       "<style scoped>\n",
       "    .dataframe tbody tr th:only-of-type {\n",
       "        vertical-align: middle;\n",
       "    }\n",
       "\n",
       "    .dataframe tbody tr th {\n",
       "        vertical-align: top;\n",
       "    }\n",
       "\n",
       "    .dataframe thead th {\n",
       "        text-align: right;\n",
       "    }\n",
       "</style>\n",
       "<table border=\"1\" class=\"dataframe\">\n",
       "  <thead>\n",
       "    <tr style=\"text-align: right;\">\n",
       "      <th></th>\n",
       "      <th>name</th>\n",
       "    </tr>\n",
       "  </thead>\n",
       "  <tbody>\n",
       "    <tr>\n",
       "      <th>0</th>\n",
       "      <td>Stephen</td>\n",
       "    </tr>\n",
       "    <tr>\n",
       "      <th>1</th>\n",
       "      <td>Donna C</td>\n",
       "    </tr>\n",
       "    <tr>\n",
       "      <th>2</th>\n",
       "      <td>Muoyo</td>\n",
       "    </tr>\n",
       "    <tr>\n",
       "      <th>3</th>\n",
       "      <td>Vyjayanthi</td>\n",
       "    </tr>\n",
       "    <tr>\n",
       "      <th>4</th>\n",
       "      <td>Anesu Masube</td>\n",
       "    </tr>\n",
       "    <tr>\n",
       "      <th>5</th>\n",
       "      <td>Michael Pallante</td>\n",
       "    </tr>\n",
       "    <tr>\n",
       "      <th>6</th>\n",
       "      <td>Stuart Murphy</td>\n",
       "    </tr>\n",
       "    <tr>\n",
       "      <th>7</th>\n",
       "      <td>Darian Madere</td>\n",
       "    </tr>\n",
       "    <tr>\n",
       "      <th>8</th>\n",
       "      <td>Alex</td>\n",
       "    </tr>\n",
       "    <tr>\n",
       "      <th>9</th>\n",
       "      <td>Justin Fleury</td>\n",
       "    </tr>\n",
       "    <tr>\n",
       "      <th>10</th>\n",
       "      <td>Nate Lu</td>\n",
       "    </tr>\n",
       "    <tr>\n",
       "      <th>11</th>\n",
       "      <td>Nick</td>\n",
       "    </tr>\n",
       "    <tr>\n",
       "      <th>12</th>\n",
       "      <td>Jeff Lin</td>\n",
       "    </tr>\n",
       "    <tr>\n",
       "      <th>13</th>\n",
       "      <td>Chuck</td>\n",
       "    </tr>\n",
       "    <tr>\n",
       "      <th>14</th>\n",
       "      <td>Jill Carrie</td>\n",
       "    </tr>\n",
       "    <tr>\n",
       "      <th>15</th>\n",
       "      <td>Alex</td>\n",
       "    </tr>\n",
       "    <tr>\n",
       "      <th>16</th>\n",
       "      <td>Nimu</td>\n",
       "    </tr>\n",
       "  </tbody>\n",
       "</table>\n",
       "</div>"
      ],
      "text/plain": [
       "                name\n",
       "0            Stephen\n",
       "1            Donna C\n",
       "2              Muoyo\n",
       "3         Vyjayanthi\n",
       "4       Anesu Masube\n",
       "5   Michael Pallante\n",
       "6      Stuart Murphy\n",
       "7      Darian Madere\n",
       "8               Alex\n",
       "9      Justin Fleury\n",
       "10           Nate Lu\n",
       "11              Nick\n",
       "12          Jeff Lin\n",
       "13             Chuck\n",
       "14       Jill Carrie\n",
       "15              Alex\n",
       "16              Nimu"
      ]
     },
     "execution_count": 175,
     "metadata": {},
     "output_type": "execute_result"
    }
   ],
   "source": [
    "sql = '''\n",
    "SELECT name FROM responses \n",
    "'''\n",
    "pd.read_sql_query(sql, conn)"
   ]
  },
  {
   "cell_type": "markdown",
   "metadata": {
    "slideshow": {
     "slide_type": "notes"
    }
   },
   "source": [
    "2. Which student has the most siblings?"
   ]
  },
  {
   "cell_type": "code",
   "execution_count": 176,
   "metadata": {
    "slideshow": {
     "slide_type": "notes"
    }
   },
   "outputs": [
    {
     "data": {
      "text/html": [
       "<div>\n",
       "<style scoped>\n",
       "    .dataframe tbody tr th:only-of-type {\n",
       "        vertical-align: middle;\n",
       "    }\n",
       "\n",
       "    .dataframe tbody tr th {\n",
       "        vertical-align: top;\n",
       "    }\n",
       "\n",
       "    .dataframe thead th {\n",
       "        text-align: right;\n",
       "    }\n",
       "</style>\n",
       "<table border=\"1\" class=\"dataframe\">\n",
       "  <thead>\n",
       "    <tr style=\"text-align: right;\">\n",
       "      <th></th>\n",
       "      <th>submitted_ts</th>\n",
       "      <th>name</th>\n",
       "      <th>birthday</th>\n",
       "      <th>hometown</th>\n",
       "      <th>MAX(siblings_count)</th>\n",
       "    </tr>\n",
       "  </thead>\n",
       "  <tbody>\n",
       "    <tr>\n",
       "      <th>0</th>\n",
       "      <td>12/11/2019 13:58:12</td>\n",
       "      <td>Nick</td>\n",
       "      <td>11/1</td>\n",
       "      <td>Colorado Springs, CO</td>\n",
       "      <td>12</td>\n",
       "    </tr>\n",
       "  </tbody>\n",
       "</table>\n",
       "</div>"
      ],
      "text/plain": [
       "          submitted_ts  name birthday              hometown  \\\n",
       "0  12/11/2019 13:58:12  Nick     11/1  Colorado Springs, CO   \n",
       "\n",
       "   MAX(siblings_count)  \n",
       "0                   12  "
      ]
     },
     "execution_count": 176,
     "metadata": {},
     "output_type": "execute_result"
    }
   ],
   "source": [
    "sql = '''\n",
    "SELECT submitted_ts,name,birthday,hometown,MAX(siblings_count) FROM responses AS Most_Siblings\n",
    "'''\n",
    "pd.read_sql_query(sql, conn)"
   ]
  },
  {
   "cell_type": "markdown",
   "metadata": {
    "slideshow": {
     "slide_type": "notes"
    }
   },
   "source": [
    "3. How many students are only children?"
   ]
  },
  {
   "cell_type": "code",
   "execution_count": 177,
   "metadata": {
    "slideshow": {
     "slide_type": "notes"
    }
   },
   "outputs": [
    {
     "data": {
      "text/html": [
       "<div>\n",
       "<style scoped>\n",
       "    .dataframe tbody tr th:only-of-type {\n",
       "        vertical-align: middle;\n",
       "    }\n",
       "\n",
       "    .dataframe tbody tr th {\n",
       "        vertical-align: top;\n",
       "    }\n",
       "\n",
       "    .dataframe thead th {\n",
       "        text-align: right;\n",
       "    }\n",
       "</style>\n",
       "<table border=\"1\" class=\"dataframe\">\n",
       "  <thead>\n",
       "    <tr style=\"text-align: right;\">\n",
       "      <th></th>\n",
       "      <th>submitted_ts</th>\n",
       "      <th>name</th>\n",
       "      <th>birthday</th>\n",
       "      <th>hometown</th>\n",
       "      <th>fav_food_1</th>\n",
       "      <th>fav_food_2</th>\n",
       "      <th>time_in_dc</th>\n",
       "      <th>siblings_count</th>\n",
       "    </tr>\n",
       "  </thead>\n",
       "  <tbody>\n",
       "  </tbody>\n",
       "</table>\n",
       "</div>"
      ],
      "text/plain": [
       "Empty DataFrame\n",
       "Columns: [submitted_ts, name, birthday, hometown, fav_food_1, fav_food_2, time_in_dc, siblings_count]\n",
       "Index: []"
      ]
     },
     "execution_count": 177,
     "metadata": {},
     "output_type": "execute_result"
    }
   ],
   "source": [
    "sql = '''\n",
    "SELECT * FROM responses WHERE siblings_count=0\n",
    "'''\n",
    "pd.read_sql_query(sql, conn)"
   ]
  },
  {
   "cell_type": "markdown",
   "metadata": {
    "slideshow": {
     "slide_type": "notes"
    }
   },
   "source": [
    "4. Which 3 students have lived in NYC the shortest amount of time? (How long has each lived in NYC?)\n",
    "    "
   ]
  },
  {
   "cell_type": "code",
   "execution_count": 178,
   "metadata": {
    "slideshow": {
     "slide_type": "notes"
    }
   },
   "outputs": [
    {
     "data": {
      "text/html": [
       "<div>\n",
       "<style scoped>\n",
       "    .dataframe tbody tr th:only-of-type {\n",
       "        vertical-align: middle;\n",
       "    }\n",
       "\n",
       "    .dataframe tbody tr th {\n",
       "        vertical-align: top;\n",
       "    }\n",
       "\n",
       "    .dataframe thead th {\n",
       "        text-align: right;\n",
       "    }\n",
       "</style>\n",
       "<table border=\"1\" class=\"dataframe\">\n",
       "  <thead>\n",
       "    <tr style=\"text-align: right;\">\n",
       "      <th></th>\n",
       "      <th>submitted_ts</th>\n",
       "      <th>name</th>\n",
       "      <th>birthday</th>\n",
       "      <th>hometown</th>\n",
       "      <th>fav_food_1</th>\n",
       "      <th>fav_food_2</th>\n",
       "      <th>time_in_dc</th>\n",
       "      <th>siblings_count</th>\n",
       "    </tr>\n",
       "  </thead>\n",
       "  <tbody>\n",
       "    <tr>\n",
       "      <th>0</th>\n",
       "      <td>12/11/2019 13:04:35</td>\n",
       "      <td>Donna C</td>\n",
       "      <td>9/29</td>\n",
       "      <td>Phoenix, AZ</td>\n",
       "      <td>shrimp</td>\n",
       "      <td>sushi</td>\n",
       "      <td>0.2</td>\n",
       "      <td>1</td>\n",
       "    </tr>\n",
       "    <tr>\n",
       "      <th>1</th>\n",
       "      <td>12/11/2019 13:38:17</td>\n",
       "      <td>Michael Pallante</td>\n",
       "      <td>8/5</td>\n",
       "      <td>Voorhees, NJ</td>\n",
       "      <td>Pizza</td>\n",
       "      <td>Pasta</td>\n",
       "      <td>1.0</td>\n",
       "      <td>2</td>\n",
       "    </tr>\n",
       "    <tr>\n",
       "      <th>2</th>\n",
       "      <td>12/11/2019 13:48:58</td>\n",
       "      <td>Darian Madere</td>\n",
       "      <td>8/7</td>\n",
       "      <td>Baton Ruuge, LA</td>\n",
       "      <td>tater tots</td>\n",
       "      <td>sushi</td>\n",
       "      <td>1.0</td>\n",
       "      <td>3</td>\n",
       "    </tr>\n",
       "  </tbody>\n",
       "</table>\n",
       "</div>"
      ],
      "text/plain": [
       "          submitted_ts              name birthday         hometown  \\\n",
       "0  12/11/2019 13:04:35           Donna C     9/29      Phoenix, AZ   \n",
       "1  12/11/2019 13:38:17  Michael Pallante      8/5     Voorhees, NJ   \n",
       "2  12/11/2019 13:48:58     Darian Madere      8/7  Baton Ruuge, LA   \n",
       "\n",
       "   fav_food_1 fav_food_2  time_in_dc  siblings_count  \n",
       "0      shrimp      sushi         0.2               1  \n",
       "1       Pizza      Pasta         1.0               2  \n",
       "2  tater tots      sushi         1.0               3  "
      ]
     },
     "execution_count": 178,
     "metadata": {},
     "output_type": "execute_result"
    }
   ],
   "source": [
    "#Which 3 students have lived in DC the shortest amount of time? (How long has each lived in DC?)\n",
    "sql = '''\n",
    "SELECT * FROM responses WHERE time_in_dc != 0.0\n",
    "ORDER BY time_in_dc\n",
    "LIMIT 3;\n",
    "'''\n",
    "pd.read_sql_query(sql, conn)"
   ]
  },
  {
   "cell_type": "markdown",
   "metadata": {
    "slideshow": {
     "slide_type": "notes"
    }
   },
   "source": [
    "5. How many students are native New Yorkers?"
   ]
  },
  {
   "cell_type": "code",
   "execution_count": 179,
   "metadata": {
    "slideshow": {
     "slide_type": "notes"
    }
   },
   "outputs": [
    {
     "data": {
      "text/html": [
       "<div>\n",
       "<style scoped>\n",
       "    .dataframe tbody tr th:only-of-type {\n",
       "        vertical-align: middle;\n",
       "    }\n",
       "\n",
       "    .dataframe tbody tr th {\n",
       "        vertical-align: top;\n",
       "    }\n",
       "\n",
       "    .dataframe thead th {\n",
       "        text-align: right;\n",
       "    }\n",
       "</style>\n",
       "<table border=\"1\" class=\"dataframe\">\n",
       "  <thead>\n",
       "    <tr style=\"text-align: right;\">\n",
       "      <th></th>\n",
       "      <th>submitted_ts</th>\n",
       "      <th>name</th>\n",
       "      <th>birthday</th>\n",
       "      <th>hometown</th>\n",
       "      <th>fav_food_1</th>\n",
       "      <th>fav_food_2</th>\n",
       "      <th>time_in_dc</th>\n",
       "      <th>siblings_count</th>\n",
       "    </tr>\n",
       "  </thead>\n",
       "  <tbody>\n",
       "    <tr>\n",
       "      <th>0</th>\n",
       "      <td>12/11/2019 13:05:08</td>\n",
       "      <td>Muoyo</td>\n",
       "      <td>6/22</td>\n",
       "      <td>Brooklyn, NY</td>\n",
       "      <td>Nigerian</td>\n",
       "      <td>Thai</td>\n",
       "      <td>0.0</td>\n",
       "      <td>1</td>\n",
       "    </tr>\n",
       "    <tr>\n",
       "      <th>1</th>\n",
       "      <td>12/11/2019 14:11:11</td>\n",
       "      <td>Nimu</td>\n",
       "      <td>1/19</td>\n",
       "      <td>Nyack, NY</td>\n",
       "      <td>Saag</td>\n",
       "      <td>Zucchini</td>\n",
       "      <td>1.5</td>\n",
       "      <td>1</td>\n",
       "    </tr>\n",
       "  </tbody>\n",
       "</table>\n",
       "</div>"
      ],
      "text/plain": [
       "          submitted_ts   name birthday      hometown fav_food_1 fav_food_2  \\\n",
       "0  12/11/2019 13:05:08  Muoyo     6/22  Brooklyn, NY   Nigerian       Thai   \n",
       "1  12/11/2019 14:11:11   Nimu     1/19     Nyack, NY       Saag   Zucchini   \n",
       "\n",
       "   time_in_dc  siblings_count  \n",
       "0         0.0               1  \n",
       "1         1.5               1  "
      ]
     },
     "execution_count": 179,
     "metadata": {},
     "output_type": "execute_result"
    }
   ],
   "source": [
    "sql = '''\n",
    "SELECT * FROM responses WHERE hometown LIKE '%NY'\n",
    "'''\n",
    "pd.read_sql_query(sql, conn)"
   ]
  },
  {
   "cell_type": "markdown",
   "metadata": {
    "slideshow": {
     "slide_type": "notes"
    }
   },
   "source": [
    "6. Do any two students have the same favorite food?\n",
    "\n",
    "This problem employs the `Having` clause.  Be sure to review the difference between the where and having clause here. (Where filters apply before the group by clause and conditions following the having clause are filters applied after the group by on the resulting aggregate [statistics].) A useful example in doing so, could be to modify the question to something with an additional filtering criterion such as 'do any native new yorkers have the same favorite food?' This would force students to use a where clause prior to the group by to filter the results. Alternatively, see the question below for an alternative but related problem on favorite foods."
   ]
  },
  {
   "cell_type": "code",
   "execution_count": 186,
   "metadata": {
    "slideshow": {
     "slide_type": "notes"
    }
   },
   "outputs": [
    {
     "data": {
      "text/html": [
       "<div>\n",
       "<style scoped>\n",
       "    .dataframe tbody tr th:only-of-type {\n",
       "        vertical-align: middle;\n",
       "    }\n",
       "\n",
       "    .dataframe tbody tr th {\n",
       "        vertical-align: top;\n",
       "    }\n",
       "\n",
       "    .dataframe thead th {\n",
       "        text-align: right;\n",
       "    }\n",
       "</style>\n",
       "<table border=\"1\" class=\"dataframe\">\n",
       "  <thead>\n",
       "    <tr style=\"text-align: right;\">\n",
       "      <th></th>\n",
       "      <th>submitted_ts</th>\n",
       "      <th>name</th>\n",
       "      <th>birthday</th>\n",
       "      <th>hometown</th>\n",
       "      <th>fav_food_1</th>\n",
       "      <th>fav_food_2</th>\n",
       "      <th>time_in_dc</th>\n",
       "      <th>siblings_count</th>\n",
       "    </tr>\n",
       "  </thead>\n",
       "  <tbody>\n",
       "    <tr>\n",
       "      <th>0</th>\n",
       "      <td>12/11/2019 13:49:07</td>\n",
       "      <td>Alex</td>\n",
       "      <td>2/21</td>\n",
       "      <td>Alexandria, VA</td>\n",
       "      <td>Ice cream</td>\n",
       "      <td>Carrot cake</td>\n",
       "      <td>3.0</td>\n",
       "      <td>1</td>\n",
       "    </tr>\n",
       "    <tr>\n",
       "      <th>1</th>\n",
       "      <td>12/11/2019 13:21:20</td>\n",
       "      <td>Anesu Masube</td>\n",
       "      <td>3/28</td>\n",
       "      <td>Kwekwe, Zimbabwe</td>\n",
       "      <td>Pork Ribs</td>\n",
       "      <td>Sadza</td>\n",
       "      <td>3.0</td>\n",
       "      <td>5</td>\n",
       "    </tr>\n",
       "    <tr>\n",
       "      <th>2</th>\n",
       "      <td>12/11/2019 14:07:10</td>\n",
       "      <td>Chuck</td>\n",
       "      <td>3/12</td>\n",
       "      <td>Los Angeles, CA</td>\n",
       "      <td>Crab cakes</td>\n",
       "      <td>Lobster</td>\n",
       "      <td>1.0</td>\n",
       "      <td>3</td>\n",
       "    </tr>\n",
       "    <tr>\n",
       "      <th>3</th>\n",
       "      <td>12/11/2019 13:48:58</td>\n",
       "      <td>Darian Madere</td>\n",
       "      <td>8/7</td>\n",
       "      <td>Baton Ruuge, LA</td>\n",
       "      <td>tater tots</td>\n",
       "      <td>sushi</td>\n",
       "      <td>1.0</td>\n",
       "      <td>3</td>\n",
       "    </tr>\n",
       "    <tr>\n",
       "      <th>4</th>\n",
       "      <td>12/11/2019 13:04:35</td>\n",
       "      <td>Donna C</td>\n",
       "      <td>9/29</td>\n",
       "      <td>Phoenix, AZ</td>\n",
       "      <td>shrimp</td>\n",
       "      <td>sushi</td>\n",
       "      <td>0.2</td>\n",
       "      <td>1</td>\n",
       "    </tr>\n",
       "    <tr>\n",
       "      <th>5</th>\n",
       "      <td>12/11/2019 14:00:48</td>\n",
       "      <td>Jeff Lin</td>\n",
       "      <td>4/30</td>\n",
       "      <td>Los Angeles, CA</td>\n",
       "      <td>Dark Chocolate</td>\n",
       "      <td>Coffee</td>\n",
       "      <td>7.0</td>\n",
       "      <td>2</td>\n",
       "    </tr>\n",
       "    <tr>\n",
       "      <th>6</th>\n",
       "      <td>12/11/2019 14:07:13</td>\n",
       "      <td>Jill Carrie</td>\n",
       "      <td>11/13</td>\n",
       "      <td>Victoria, BC</td>\n",
       "      <td>Thai</td>\n",
       "      <td>Sushi</td>\n",
       "      <td>10.0</td>\n",
       "      <td>1</td>\n",
       "    </tr>\n",
       "    <tr>\n",
       "      <th>7</th>\n",
       "      <td>12/11/2019 13:52:47</td>\n",
       "      <td>Justin Fleury</td>\n",
       "      <td>5/5</td>\n",
       "      <td>Washington, DC</td>\n",
       "      <td>lasagna</td>\n",
       "      <td>brownies</td>\n",
       "      <td>1.0</td>\n",
       "      <td>1</td>\n",
       "    </tr>\n",
       "    <tr>\n",
       "      <th>8</th>\n",
       "      <td>12/11/2019 13:38:17</td>\n",
       "      <td>Michael Pallante</td>\n",
       "      <td>8/5</td>\n",
       "      <td>Voorhees, NJ</td>\n",
       "      <td>Pizza</td>\n",
       "      <td>Pasta</td>\n",
       "      <td>1.0</td>\n",
       "      <td>2</td>\n",
       "    </tr>\n",
       "    <tr>\n",
       "      <th>9</th>\n",
       "      <td>12/11/2019 13:05:08</td>\n",
       "      <td>Muoyo</td>\n",
       "      <td>6/22</td>\n",
       "      <td>Brooklyn, NY</td>\n",
       "      <td>Nigerian</td>\n",
       "      <td>Thai</td>\n",
       "      <td>0.0</td>\n",
       "      <td>1</td>\n",
       "    </tr>\n",
       "    <tr>\n",
       "      <th>10</th>\n",
       "      <td>12/11/2019 13:54:24</td>\n",
       "      <td>Nate Lu</td>\n",
       "      <td>11/23</td>\n",
       "      <td>Washington, DC</td>\n",
       "      <td>Sushi</td>\n",
       "      <td>Grey</td>\n",
       "      <td>3.0</td>\n",
       "      <td>3</td>\n",
       "    </tr>\n",
       "    <tr>\n",
       "      <th>11</th>\n",
       "      <td>12/11/2019 13:58:12</td>\n",
       "      <td>Nick</td>\n",
       "      <td>11/1</td>\n",
       "      <td>Colorado Springs, CO</td>\n",
       "      <td>Bacon</td>\n",
       "      <td>Steak</td>\n",
       "      <td>6.0</td>\n",
       "      <td>12</td>\n",
       "    </tr>\n",
       "    <tr>\n",
       "      <th>12</th>\n",
       "      <td>12/11/2019 14:11:11</td>\n",
       "      <td>Nimu</td>\n",
       "      <td>1/19</td>\n",
       "      <td>Nyack, NY</td>\n",
       "      <td>Saag</td>\n",
       "      <td>Zucchini</td>\n",
       "      <td>1.5</td>\n",
       "      <td>1</td>\n",
       "    </tr>\n",
       "    <tr>\n",
       "      <th>13</th>\n",
       "      <td>12/11/2019 12:57:49</td>\n",
       "      <td>Stephen</td>\n",
       "      <td>12/8</td>\n",
       "      <td>Arlington, TX</td>\n",
       "      <td>pizza</td>\n",
       "      <td>beef stroganoff</td>\n",
       "      <td>0.0</td>\n",
       "      <td>2</td>\n",
       "    </tr>\n",
       "    <tr>\n",
       "      <th>14</th>\n",
       "      <td>12/11/2019 13:43:36</td>\n",
       "      <td>Stuart Murphy</td>\n",
       "      <td>1/5</td>\n",
       "      <td>London, England</td>\n",
       "      <td>Bread</td>\n",
       "      <td>Indian</td>\n",
       "      <td>10.0</td>\n",
       "      <td>1</td>\n",
       "    </tr>\n",
       "    <tr>\n",
       "      <th>15</th>\n",
       "      <td>12/11/2019 13:06:13</td>\n",
       "      <td>Vyjayanthi</td>\n",
       "      <td>7/24</td>\n",
       "      <td>Fairfax, VA</td>\n",
       "      <td>Pasta</td>\n",
       "      <td>Noodles</td>\n",
       "      <td>11.0</td>\n",
       "      <td>3</td>\n",
       "    </tr>\n",
       "  </tbody>\n",
       "</table>\n",
       "</div>"
      ],
      "text/plain": [
       "           submitted_ts              name birthday              hometown  \\\n",
       "0   12/11/2019 13:49:07              Alex     2/21        Alexandria, VA   \n",
       "1   12/11/2019 13:21:20      Anesu Masube     3/28      Kwekwe, Zimbabwe   \n",
       "2   12/11/2019 14:07:10             Chuck     3/12       Los Angeles, CA   \n",
       "3   12/11/2019 13:48:58     Darian Madere      8/7       Baton Ruuge, LA   \n",
       "4   12/11/2019 13:04:35           Donna C     9/29           Phoenix, AZ   \n",
       "5   12/11/2019 14:00:48          Jeff Lin     4/30       Los Angeles, CA   \n",
       "6   12/11/2019 14:07:13       Jill Carrie    11/13          Victoria, BC   \n",
       "7   12/11/2019 13:52:47     Justin Fleury      5/5        Washington, DC   \n",
       "8   12/11/2019 13:38:17  Michael Pallante      8/5          Voorhees, NJ   \n",
       "9   12/11/2019 13:05:08             Muoyo     6/22          Brooklyn, NY   \n",
       "10  12/11/2019 13:54:24           Nate Lu    11/23        Washington, DC   \n",
       "11  12/11/2019 13:58:12              Nick     11/1  Colorado Springs, CO   \n",
       "12  12/11/2019 14:11:11              Nimu     1/19             Nyack, NY   \n",
       "13  12/11/2019 12:57:49           Stephen     12/8         Arlington, TX   \n",
       "14  12/11/2019 13:43:36     Stuart Murphy      1/5       London, England   \n",
       "15  12/11/2019 13:06:13        Vyjayanthi     7/24           Fairfax, VA   \n",
       "\n",
       "        fav_food_1       fav_food_2  time_in_dc  siblings_count  \n",
       "0        Ice cream      Carrot cake         3.0               1  \n",
       "1        Pork Ribs            Sadza         3.0               5  \n",
       "2       Crab cakes          Lobster         1.0               3  \n",
       "3       tater tots            sushi         1.0               3  \n",
       "4           shrimp            sushi         0.2               1  \n",
       "5   Dark Chocolate           Coffee         7.0               2  \n",
       "6             Thai            Sushi        10.0               1  \n",
       "7          lasagna         brownies         1.0               1  \n",
       "8            Pizza            Pasta         1.0               2  \n",
       "9         Nigerian             Thai         0.0               1  \n",
       "10           Sushi             Grey         3.0               3  \n",
       "11           Bacon            Steak         6.0              12  \n",
       "12            Saag         Zucchini         1.5               1  \n",
       "13           pizza  beef stroganoff         0.0               2  \n",
       "14           Bread           Indian        10.0               1  \n",
       "15           Pasta          Noodles        11.0               3  "
      ]
     },
     "execution_count": 186,
     "metadata": {},
     "output_type": "execute_result"
    }
   ],
   "source": [
    "sql = '''\n",
    "\n",
    "SELECT * FROM responses \n",
    "GROUP BY name\n",
    "\n",
    "'''\n",
    "pd.read_sql_query(sql, conn)"
   ]
  },
  {
   "cell_type": "markdown",
   "metadata": {
    "slideshow": {
     "slide_type": "notes"
    }
   },
   "source": [
    "## More Questions"
   ]
  },
  {
   "cell_type": "markdown",
   "metadata": {
    "slideshow": {
     "slide_type": "notes"
    }
   },
   "source": [
    "What are the favorite foods of this classroom?"
   ]
  },
  {
   "cell_type": "code",
   "execution_count": 185,
   "metadata": {
    "slideshow": {
     "slide_type": "notes"
    }
   },
   "outputs": [
    {
     "data": {
      "text/html": [
       "<div>\n",
       "<style scoped>\n",
       "    .dataframe tbody tr th:only-of-type {\n",
       "        vertical-align: middle;\n",
       "    }\n",
       "\n",
       "    .dataframe tbody tr th {\n",
       "        vertical-align: top;\n",
       "    }\n",
       "\n",
       "    .dataframe thead th {\n",
       "        text-align: right;\n",
       "    }\n",
       "</style>\n",
       "<table border=\"1\" class=\"dataframe\">\n",
       "  <thead>\n",
       "    <tr style=\"text-align: right;\">\n",
       "      <th></th>\n",
       "      <th>Food</th>\n",
       "    </tr>\n",
       "  </thead>\n",
       "  <tbody>\n",
       "    <tr>\n",
       "      <th>0</th>\n",
       "      <td>A single poached egg on a bed of arugula</td>\n",
       "    </tr>\n",
       "    <tr>\n",
       "      <th>1</th>\n",
       "      <td>Bacon</td>\n",
       "    </tr>\n",
       "    <tr>\n",
       "      <th>2</th>\n",
       "      <td>Bread</td>\n",
       "    </tr>\n",
       "    <tr>\n",
       "      <th>3</th>\n",
       "      <td>Buffalo Wings</td>\n",
       "    </tr>\n",
       "    <tr>\n",
       "      <th>4</th>\n",
       "      <td>Carrot cake</td>\n",
       "    </tr>\n",
       "    <tr>\n",
       "      <th>5</th>\n",
       "      <td>Coffee</td>\n",
       "    </tr>\n",
       "    <tr>\n",
       "      <th>6</th>\n",
       "      <td>Crab cakes</td>\n",
       "    </tr>\n",
       "    <tr>\n",
       "      <th>7</th>\n",
       "      <td>Dark Chocolate</td>\n",
       "    </tr>\n",
       "    <tr>\n",
       "      <th>8</th>\n",
       "      <td>Grey</td>\n",
       "    </tr>\n",
       "    <tr>\n",
       "      <th>9</th>\n",
       "      <td>Ice cream</td>\n",
       "    </tr>\n",
       "    <tr>\n",
       "      <th>10</th>\n",
       "      <td>Indian</td>\n",
       "    </tr>\n",
       "    <tr>\n",
       "      <th>11</th>\n",
       "      <td>Lobster</td>\n",
       "    </tr>\n",
       "    <tr>\n",
       "      <th>12</th>\n",
       "      <td>Nigerian</td>\n",
       "    </tr>\n",
       "    <tr>\n",
       "      <th>13</th>\n",
       "      <td>Noodles</td>\n",
       "    </tr>\n",
       "    <tr>\n",
       "      <th>14</th>\n",
       "      <td>Pasta</td>\n",
       "    </tr>\n",
       "    <tr>\n",
       "      <th>15</th>\n",
       "      <td>Pizza</td>\n",
       "    </tr>\n",
       "    <tr>\n",
       "      <th>16</th>\n",
       "      <td>Pork Ribs</td>\n",
       "    </tr>\n",
       "    <tr>\n",
       "      <th>17</th>\n",
       "      <td>Saag</td>\n",
       "    </tr>\n",
       "    <tr>\n",
       "      <th>18</th>\n",
       "      <td>Sadza</td>\n",
       "    </tr>\n",
       "    <tr>\n",
       "      <th>19</th>\n",
       "      <td>Steak</td>\n",
       "    </tr>\n",
       "    <tr>\n",
       "      <th>20</th>\n",
       "      <td>Sushi</td>\n",
       "    </tr>\n",
       "    <tr>\n",
       "      <th>21</th>\n",
       "      <td>Thai</td>\n",
       "    </tr>\n",
       "    <tr>\n",
       "      <th>22</th>\n",
       "      <td>Zucchini</td>\n",
       "    </tr>\n",
       "    <tr>\n",
       "      <th>23</th>\n",
       "      <td>beef stroganoff</td>\n",
       "    </tr>\n",
       "    <tr>\n",
       "      <th>24</th>\n",
       "      <td>brownies</td>\n",
       "    </tr>\n",
       "    <tr>\n",
       "      <th>25</th>\n",
       "      <td>lasagna</td>\n",
       "    </tr>\n",
       "    <tr>\n",
       "      <th>26</th>\n",
       "      <td>pizza</td>\n",
       "    </tr>\n",
       "    <tr>\n",
       "      <th>27</th>\n",
       "      <td>shrimp</td>\n",
       "    </tr>\n",
       "    <tr>\n",
       "      <th>28</th>\n",
       "      <td>sushi</td>\n",
       "    </tr>\n",
       "    <tr>\n",
       "      <th>29</th>\n",
       "      <td>tater tots</td>\n",
       "    </tr>\n",
       "  </tbody>\n",
       "</table>\n",
       "</div>"
      ],
      "text/plain": [
       "                                        Food\n",
       "0   A single poached egg on a bed of arugula\n",
       "1                                      Bacon\n",
       "2                                      Bread\n",
       "3                              Buffalo Wings\n",
       "4                                Carrot cake\n",
       "5                                     Coffee\n",
       "6                                 Crab cakes\n",
       "7                             Dark Chocolate\n",
       "8                                       Grey\n",
       "9                                  Ice cream\n",
       "10                                    Indian\n",
       "11                                   Lobster\n",
       "12                                  Nigerian\n",
       "13                                   Noodles\n",
       "14                                     Pasta\n",
       "15                                     Pizza\n",
       "16                                 Pork Ribs\n",
       "17                                      Saag\n",
       "18                                     Sadza\n",
       "19                                     Steak\n",
       "20                                     Sushi\n",
       "21                                      Thai\n",
       "22                                  Zucchini\n",
       "23                           beef stroganoff\n",
       "24                                  brownies\n",
       "25                                   lasagna\n",
       "26                                     pizza\n",
       "27                                    shrimp\n",
       "28                                     sushi\n",
       "29                                tater tots"
      ]
     },
     "execution_count": 185,
     "metadata": {},
     "output_type": "execute_result"
    }
   ],
   "source": [
    "sql = '''\n",
    " \n",
    " SELECT derivedtable.Food\n",
    "FROM\n",
    "(\n",
    "   SELECT  fav_food_1 as Food FROM responses UNION SELECT fav_food_2 as Food FROM responses\n",
    ") derivedtable\n",
    "\n",
    "'''\n",
    "pd.read_sql_query(sql, conn)"
   ]
  },
  {
   "cell_type": "markdown",
   "metadata": {
    "slideshow": {
     "slide_type": "notes"
    }
   },
   "source": [
    "Which student was born closest to the cohort's graduation date (5/29/20)?"
   ]
  },
  {
   "cell_type": "code",
   "execution_count": 192,
   "metadata": {
    "slideshow": {
     "slide_type": "notes"
    }
   },
   "outputs": [
    {
     "data": {
      "text/html": [
       "<div>\n",
       "<style scoped>\n",
       "    .dataframe tbody tr th:only-of-type {\n",
       "        vertical-align: middle;\n",
       "    }\n",
       "\n",
       "    .dataframe tbody tr th {\n",
       "        vertical-align: top;\n",
       "    }\n",
       "\n",
       "    .dataframe thead th {\n",
       "        text-align: right;\n",
       "    }\n",
       "</style>\n",
       "<table border=\"1\" class=\"dataframe\">\n",
       "  <thead>\n",
       "    <tr style=\"text-align: right;\">\n",
       "      <th></th>\n",
       "      <th>submitted_ts</th>\n",
       "      <th>name</th>\n",
       "      <th>birthday</th>\n",
       "      <th>hometown</th>\n",
       "      <th>fav_food_1</th>\n",
       "      <th>fav_food_2</th>\n",
       "      <th>time_in_dc</th>\n",
       "      <th>siblings_count</th>\n",
       "    </tr>\n",
       "  </thead>\n",
       "  <tbody>\n",
       "    <tr>\n",
       "      <th>0</th>\n",
       "      <td>12/11/2019 13:52:47</td>\n",
       "      <td>Justin Fleury</td>\n",
       "      <td>5/5</td>\n",
       "      <td>Washington, DC</td>\n",
       "      <td>lasagna</td>\n",
       "      <td>brownies</td>\n",
       "      <td>1.0</td>\n",
       "      <td>1</td>\n",
       "    </tr>\n",
       "  </tbody>\n",
       "</table>\n",
       "</div>"
      ],
      "text/plain": [
       "          submitted_ts           name birthday        hometown fav_food_1  \\\n",
       "0  12/11/2019 13:52:47  Justin Fleury      5/5  Washington, DC    lasagna   \n",
       "\n",
       "  fav_food_2  time_in_dc  siblings_count  \n",
       "0   brownies         1.0               1  "
      ]
     },
     "execution_count": 192,
     "metadata": {},
     "output_type": "execute_result"
    }
   ],
   "source": [
    "sql = '''\n",
    "SELECT * FROM responses WHERE birthday LIKE'5%'\n",
    "'''\n",
    "pd.read_sql_query(sql, conn)"
   ]
  },
  {
   "cell_type": "code",
   "execution_count": null,
   "metadata": {},
   "outputs": [],
   "source": []
  }
 ],
 "metadata": {
  "kernelspec": {
   "display_name": "Python 3",
   "language": "python",
   "name": "python3"
  },
  "language_info": {
   "codemirror_mode": {
    "name": "ipython",
    "version": 3
   },
   "file_extension": ".py",
   "mimetype": "text/x-python",
   "name": "python",
   "nbconvert_exporter": "python",
   "pygments_lexer": "ipython3",
   "version": "3.8.10"
  },
  "toc": {
   "base_numbering": 1,
   "nav_menu": {},
   "number_sections": false,
   "sideBar": true,
   "skip_h1_title": false,
   "title_cell": "Table of Contents",
   "title_sidebar": "Contents",
   "toc_cell": false,
   "toc_position": {
    "height": "calc(100% - 180px)",
    "left": "10px",
    "top": "150px",
    "width": "301.009px"
   },
   "toc_section_display": true,
   "toc_window_display": true
  }
 },
 "nbformat": 4,
 "nbformat_minor": 4
}
