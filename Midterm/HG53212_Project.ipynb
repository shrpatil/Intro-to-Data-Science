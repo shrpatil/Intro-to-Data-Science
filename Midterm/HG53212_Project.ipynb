{
 "cells": [
  {
   "attachments": {},
   "cell_type": "markdown",
   "id": "22840638",
   "metadata": {},
   "source": [
    "## Midterm Project\n",
    "\n",
    "# Analysis of Breweries\n",
    "\n",
    "\n",
    "__Data Source__\n",
    "         \n",
    "   https://raw.githubusercontent.com/openbrewerydb/openbrewerydb/master/breweries.csv\n",
    "   \n",
    "   Data file size: 1.5 MB\n",
    " \n",
    "This is the open-source dataset for the Open Brewery DB API which is served by a REST API built with Ruby on Rails. Retrieved from https://github.com/openbrewerydb/openbrewerydb\n",
    "\n",
    "This dataset represents the data about breweries in the United states, Ireland and United Kingdom. It has 7984 rows and 16 columns. Some of the columns are brewery id, name, brewery type, street address, city, state, country, website URL. I am interested in this data because I like Exploring beers. It has a huge diversity of beer styles, taste profiles and in the future as a business opportunity I would like to invest in this industry.\n",
    "\n",
    "__Introduction__\n",
    "\n",
    "Beer is an alcoholic beverage produced by extracting raw materials with water, boiling with hops, and fermenting it. Beer brewing procedure has a cultural history behind it. In the 21st century the brewing industry has become large-scale with the use of technology. Brewery industry has grown so much that it has a significant contribution to the economic growth of the nation. America’s beer industry supports more than two million jobs, provides more than 102 billion dollor in wages and benefits, and contributes more than 331 billion dollor to the U.S. economy. These stats made me choose this dataset for the analysis. In this project I will try to get a generalized idea of how the brewery industry is distributed over the USA based on the given data.\n",
    "\n",
    "There are distinct beer industry market segments.\n",
    "\n",
    "- Large-  A brewery that produces Approximately 2 million barrels of beer per year.\n",
    "\n",
    "- Regional-  A brewery with an annual beer production of between 15,000 and 2,000,000 barrels.\n",
    "\n",
    "- Microbrewery- A brewery that produces less than 15,000 barrels of beer per year and sells 75 percent or more of its beer off-site.\n",
    "\n",
    "- Brewpub-  A restaurant-brewer that sells 25 percent or more of its beer on-site and operates significant food services.\n",
    "\n",
    "- Taproom-  A professional brewery that sells 25 percent or more of its beer on-site and does not operate significant food services.The beer is brewed primarily for sale in the taproom, and is often dispensed directly from the brewery’s storage tanks.\n",
    "\n",
    "- Contract-  A business that hires another brewery to produce its beer.\n",
    "\n",
    "- Proprietary-  A licensed tenant brewery that physically takes possession of a shared brewery while brewing.\n",
    "\n",
    "- Nano-  A brewery which produces at least 1,000 barrels per year.(1/3 to 1/10th the size of a microbrewery)\n",
    "\n",
    "__Objectives__\n",
    "\n",
    "- To discover which type of brewery is popular\n",
    "- To discover which location in the USA has potential for the brewery industry.\n",
    "- To understand the overall industry insights."
   ]
  },
  {
   "cell_type": "code",
   "execution_count": null,
   "id": "6c1eb789",
   "metadata": {},
   "outputs": [],
   "source": [
    "import requests\n",
    "from io import StringIO \n",
    "import pandas as pd\n",
    "pd.options.mode.chained_assignment = None\n",
    "import matplotlib.pyplot as plt\n",
    "import numpy as np\n"
   ]
  },
  {
   "cell_type": "code",
   "execution_count": null,
   "id": "bee345b4",
   "metadata": {},
   "outputs": [],
   "source": [
    "# Converting .csv file into pandas dataframe and adding index column.\n",
    "\n",
    "brewery_df = pd.read_csv('https://raw.githubusercontent.com/openbrewerydb/openbrewerydb/master/breweries.csv',\n",
    "                 index_col= 0).reset_index()"
   ]
  },
  {
   "cell_type": "markdown",
   "id": "2fcfbd1a",
   "metadata": {},
   "source": [
    "#### Understanding the dataset"
   ]
  },
  {
   "cell_type": "code",
   "execution_count": null,
   "id": "4cbec68b",
   "metadata": {},
   "outputs": [],
   "source": [
    "# Checking the characteristics of the data.\n",
    "\n",
    "brewery_df.head(5)"
   ]
  },
  {
   "cell_type": "code",
   "execution_count": null,
   "id": "6e17caef",
   "metadata": {},
   "outputs": [],
   "source": [
    "# Number of rows and columns in dataframe.\n",
    "\n",
    "brewery_df.shape"
   ]
  },
  {
   "cell_type": "code",
   "execution_count": null,
   "id": "0fc7be8e",
   "metadata": {
    "scrolled": true
   },
   "outputs": [],
   "source": [
    "# Column names and their data types. \n",
    "\n",
    "brewery_df.info()"
   ]
  },
  {
   "cell_type": "markdown",
   "id": "f9a7e906",
   "metadata": {},
   "source": [
    "The Dataset has 16 columns and 7984 rows in it. Each column has data types which are objects and floats. There are inconsistencies in the data which are mentioned below.\n",
    "\n",
    "#### Inconsistency in data\n",
    "- There are many columns( address_2, address_3,county_province,tags ) which don’t have significant entries in it. And   that information can also be retrieved from other columns(address can be located by postal_code).\n",
    "- Missing values of latitude and longitude for 2829 number of records.\n",
    "- Missing values for website_url for 1190 rows.\n",
    "- Missing values of the state column for 142 entries.\n",
    "- Missing values of the phone column for 810 entries.\n",
    "- Data type of all the columns is the object."
   ]
  },
  {
   "cell_type": "markdown",
   "id": "5366a2a9",
   "metadata": {},
   "source": [
    "#### Cleaning the data\n",
    "\n",
    "To make the dataset more efficient for our analysis we need to perform some operations. In the following cells some of the data cleaning operations are done at this initial stage."
   ]
  },
  {
   "cell_type": "code",
   "execution_count": null,
   "id": "3fbe5d4e",
   "metadata": {},
   "outputs": [],
   "source": [
    "# Converting the data type base on the contents of the column.\n",
    "\n",
    "brewery_df=brewery_df.convert_dtypes()\n",
    "brewery_df.dtypes"
   ]
  },
  {
   "cell_type": "code",
   "execution_count": null,
   "id": "5104d386",
   "metadata": {},
   "outputs": [],
   "source": [
    "# While trying to convert the data type of the phone column to integer got an error that it contains'3.53599E+11'\n",
    "# which is not an int.\n",
    "# replacing non int value with '0'.\n",
    "\n",
    "brewery_df['phone'] = pd.to_numeric(brewery_df.phone.astype(str),errors='coerce').fillna(0).astype(int)\n",
    "  \n",
    "brewery_df.dtypes"
   ]
  },
  {
   "cell_type": "code",
   "execution_count": null,
   "id": "633bc468",
   "metadata": {},
   "outputs": [],
   "source": [
    "# Dropping address_2, address_3 and country_province because there are very few entries for them and \n",
    "# we have street and postal_code information to get the location.\n",
    "\n",
    "brewery_df = brewery_df.drop(['address_2'], axis=1)\n",
    "brewery_df = brewery_df.drop(['address_3'], axis=1)\n",
    "brewery_df = brewery_df.drop(['county_province'], axis=1)\n",
    "\n",
    "# Dropping tags Column as it is empty.\n",
    "\n",
    "brewery_df = brewery_df.drop(['tags'], axis=1)\n",
    "\n",
    "brewery_df.shape"
   ]
  },
  {
   "cell_type": "code",
   "execution_count": null,
   "id": "a0908ada",
   "metadata": {
    "scrolled": true
   },
   "outputs": [],
   "source": [
    "#Selecting random columns for checking the consistency in the dataframe.\n",
    "\n",
    "brewery_df.sample(5)"
   ]
  },
  {
   "attachments": {},
   "cell_type": "markdown",
   "id": "e054a104",
   "metadata": {},
   "source": [
    "__Note :__ Since data which is missing in the columns are closely related to brewery ID and they all are unique(like phone number , lat lon values). So filling the values for missing data is not suitable for this data set. It will be more effective to proceed as it is."
   ]
  },
  {
   "cell_type": "code",
   "execution_count": null,
   "id": "e828c6bd",
   "metadata": {},
   "outputs": [],
   "source": [
    "# Checking the types of breweries.\n",
    "\n",
    "brewery_df['brewery_type'].unique()"
   ]
  },
  {
   "cell_type": "markdown",
   "id": "7b56acdd",
   "metadata": {},
   "source": [
    "__Note :__  Breweries are the places where beer is produced and sold on-site or off-site.There is no production of beer in the bar. Bar is the place where different types of alcohol are served. So there are 2 entries in the dataset as type bar which are outliers which need to be removed from the dataset."
   ]
  },
  {
   "cell_type": "code",
   "execution_count": null,
   "id": "2cbb65a0",
   "metadata": {},
   "outputs": [],
   "source": [
    "# Dropping columns where brewery_type is bar.\n",
    "\n",
    "brewery_df.drop(brewery_df[brewery_df['brewery_type']== 'bar'].index, inplace = True)\n",
    "brewery_df['brewery_type'].value_counts()"
   ]
  },
  {
   "cell_type": "code",
   "execution_count": null,
   "id": "aa3c25b7",
   "metadata": {},
   "outputs": [],
   "source": [
    "brewery_df.shape"
   ]
  },
  {
   "cell_type": "markdown",
   "id": "73407259",
   "metadata": {},
   "source": [
    "__Note :__ Original size of the dataset was (7984, 16). After dropping the rows and columns it is (7982,12)."
   ]
  },
  {
   "cell_type": "code",
   "execution_count": null,
   "id": "ae9abc4b",
   "metadata": {},
   "outputs": [],
   "source": [
    "# Converting the data type of brewery_type column into category.\n",
    "\n",
    "brewery_df['brewery_type'] = brewery_df['brewery_type'].astype('category')\n",
    "brewery_df.dtypes"
   ]
  },
  {
   "cell_type": "code",
   "execution_count": null,
   "id": "6e4ecd06",
   "metadata": {},
   "outputs": [],
   "source": [
    "# Checking the number of countries.\n",
    "\n",
    "brewery_df['country'].value_counts()"
   ]
  },
  {
   "cell_type": "markdown",
   "id": "d2b10558",
   "metadata": {},
   "source": [
    "#### Sanity check on categorical data\n",
    "\n",
    "- Checking for the outliers.\n",
    "- Checking the distribution of data (frequent values in the column).\n",
    "- Checking why the values are repeated to verify if there are duplicate entries."
   ]
  },
  {
   "cell_type": "code",
   "execution_count": null,
   "id": "68215035",
   "metadata": {},
   "outputs": [],
   "source": [
    "# Checking the overall distribution of the data in columns with dtype string.\n",
    "\n",
    "brewery_df.describe(include='string')"
   ]
  },
  {
   "cell_type": "markdown",
   "id": "405aff7e",
   "metadata": {},
   "source": [
    "__Note :__ obdb_id has no repeating values in the column. That means each entry can uniquely identify the row."
   ]
  },
  {
   "cell_type": "code",
   "execution_count": null,
   "id": "6a6b9f75",
   "metadata": {
    "scrolled": true
   },
   "outputs": [],
   "source": [
    "# Most repeated brewery name.\n",
    "\n",
    "brewery_df[brewery_df['name'] == 'Ballast Point Brewing Company'].dropna(how='all')\n"
   ]
  },
  {
   "cell_type": "code",
   "execution_count": null,
   "id": "119d6a37",
   "metadata": {
    "scrolled": true
   },
   "outputs": [],
   "source": [
    "# Most repeated streets in dataset.\n",
    "\n",
    "brewery_df[brewery_df['street'] == '303 Main St'].dropna(how='all')"
   ]
  },
  {
   "cell_type": "markdown",
   "id": "789f324a",
   "metadata": {},
   "source": [
    "__Note :__ Most frequent street in the dataset is 303 Main St. Which might mislead us thinking that 303 Main St is known as a brewery area. But when we look at all other information all three breweries are located in different states which have 303 Main street.\n",
    "\n",
    "To find in which area breweries are most clustered we need to look at frequent postal codes."
   ]
  },
  {
   "cell_type": "code",
   "execution_count": null,
   "id": "133ea022",
   "metadata": {},
   "outputs": [],
   "source": [
    "# Most repeated posta_code in the dataset.\n",
    "\n",
    "brewery_df[brewery_df['postal_code'] == '97701'].dropna(how='all')"
   ]
  },
  {
   "cell_type": "code",
   "execution_count": null,
   "id": "2cfdb635",
   "metadata": {
    "scrolled": true
   },
   "outputs": [],
   "source": [
    "# Most repeated city.\n",
    "\n",
    "brewery_df['city'].value_counts().head(5)"
   ]
  },
  {
   "cell_type": "code",
   "execution_count": null,
   "id": "a449b9c1",
   "metadata": {
    "scrolled": true
   },
   "outputs": [],
   "source": [
    "# Creating new dataframe where city name is Portland.\n",
    "\n",
    "df_portland = brewery_df[brewery_df['city'] == 'Portland'].dropna(how='all')\n",
    "\n",
    "#Ploting the graph of top 5 brewery types in Portland.\n",
    "\n",
    "df_portland['brewery_type'].value_counts()[:5].plot(kind='bar',color='#CF686D')\n",
    "plt.title(\" Types of breweries in Portland\",fontweight=\"bold\")\n",
    "plt.xlabel('Types of breweries',fontsize=13)\n",
    "plt.ylabel('Frequency',fontsize=13)\n",
    "plt.show()"
   ]
  },
  {
   "cell_type": "markdown",
   "id": "78db88a8",
   "metadata": {},
   "source": [
    "__Observation__: Portland has a higher number of micro and brewpub types of breweries than other brewery types."
   ]
  },
  {
   "cell_type": "code",
   "execution_count": null,
   "id": "2393477b",
   "metadata": {
    "scrolled": true
   },
   "outputs": [],
   "source": [
    "# Creating new dataframe where brewery type is closed.\n",
    "\n",
    "df_type_closed= brewery_df[brewery_df['brewery_type'] == 'closed'].dropna(how='all')\n",
    "\n",
    "#Ploting the graph of cities which have the most number of closed breweries.\n",
    "\n",
    "df_type_closed['city'].value_counts()[:10].plot(kind='bar',color='#CF686D')\n",
    "plt.title(\"Closed brewries in City\",fontweight=\"bold\")\n",
    "plt.xlabel('City',fontsize=13)\n",
    "plt.ylabel('Frequency',fontsize=13)\n",
    "plt.show()"
   ]
  },
  {
   "cell_type": "markdown",
   "id": "0f09ad7c",
   "metadata": {},
   "source": [
    "__Observation :__ There are not a significant number of breweries which are closed in particular cities or states."
   ]
  },
  {
   "cell_type": "code",
   "execution_count": null,
   "id": "cf4d2a7f",
   "metadata": {
    "scrolled": false
   },
   "outputs": [],
   "source": [
    "# Creating new dataframe where brewery type is large.\n",
    "\n",
    "df_type_large= brewery_df[brewery_df['brewery_type'] == 'large'].dropna(how='all')\n",
    "\n",
    "# Creating new dataframe where brewery type is micro.\n",
    "\n",
    "df_type_micro = brewery_df[brewery_df['brewery_type'] == 'micro'].dropna(how='all')\n",
    "\n",
    "#Ploting the graph of cities which have large breweries.\n",
    "\n",
    "fig= plt.figure(figsize=(12,5))\n",
    "\n",
    "plt.subplot(1,2,1)\n",
    "df_type_large['city'].value_counts()[:5].plot(kind='bar',color='#CF686D')\n",
    "plt.title(\"Large brewries in City\",fontweight=\"bold\")\n",
    "plt.xlabel('City',fontsize=13)\n",
    "plt.ylabel('Frequency',fontsize=13)\n",
    "\n",
    "\n",
    "#Ploting the graph of cities which have micro breweries.\n",
    "\n",
    "plt.subplot(1,2,2)\n",
    "df_type_micro['city'].value_counts()[:5].plot(kind='bar',color='#CF686D')\n",
    "plt.title(\" Micro breweries in City\",fontweight=\"bold\")\n",
    "plt.xlabel('City',fontsize=13)\n",
    "plt.ylabel('Frequency',fontsize=13)\n",
    "plt.show()\n",
    "\n",
    "plt.show()"
   ]
  },
  {
   "cell_type": "markdown",
   "id": "ad50231a",
   "metadata": {},
   "source": [
    "__Observation :__ San Diego has 7 large breweries. We can not see Portland in the top 10 cities even though it has the highest number of breweries. Because Portland is famous for micro breweries."
   ]
  },
  {
   "cell_type": "code",
   "execution_count": null,
   "id": "fd291712",
   "metadata": {
    "scrolled": true
   },
   "outputs": [],
   "source": [
    "#Ploting the graph of top 5 states which have large breweries.\n",
    "\n",
    "df_type_large['state'].value_counts()[:5].plot(kind='bar',color='#CF686D')\n",
    "\n",
    "plt.title(\"Large brewries in State\",fontweight=\"bold\")\n",
    "plt.xlabel('City',fontsize=13)\n",
    "plt.ylabel('Frequency',fontsize=13)\n",
    "plt.show()"
   ]
  },
  {
   "cell_type": "markdown",
   "id": "bb334995",
   "metadata": {},
   "source": [
    "__Observation :__ Along with West coast states Wisconsin and Virginia also has a significant number of large breweries."
   ]
  },
  {
   "cell_type": "code",
   "execution_count": null,
   "id": "1eda1364",
   "metadata": {},
   "outputs": [],
   "source": [
    "# Creating new dataframe with breweries in Ireland and UK.\n",
    "\n",
    " \n",
    "df_Ire_UK= brewery_df.loc[(brewery_df['country'] == 'Ireland') | \n",
    "                         (brewery_df['country'] == 'England') | \n",
    "                         (brewery_df['country'] == 'Scotland')]\n",
    "df_Ire_UK.info()"
   ]
  },
  {
   "cell_type": "markdown",
   "id": "c3e8dca2",
   "metadata": {},
   "source": [
    "__Note :__ All the results above have US data. Because the number of entries of US data is very large as compared to other countries. Created a new data frame to see if we can find some interesting trends for Ireland, England and Scotland breweries."
   ]
  },
  {
   "cell_type": "code",
   "execution_count": null,
   "id": "b2c9a8ed",
   "metadata": {
    "scrolled": false
   },
   "outputs": [],
   "source": [
    "# Number of breweries in each country.\n",
    "\n",
    "df_Ire_UK['country'].value_counts()"
   ]
  },
  {
   "cell_type": "code",
   "execution_count": null,
   "id": "b1d98c60",
   "metadata": {
    "scrolled": true
   },
   "outputs": [],
   "source": [
    "df_Ire_UK.describe(include= 'all')"
   ]
  },
  {
   "cell_type": "markdown",
   "id": "d687708d",
   "metadata": {},
   "source": [
    "__Observation :__ In this dataframe also there are similar trends like these countries also have mostly micro type of breweries. Dublin is the city with the highest number of breweries there."
   ]
  },
  {
   "cell_type": "code",
   "execution_count": null,
   "id": "9865a569",
   "metadata": {},
   "outputs": [],
   "source": [
    "!pip install chart_studio"
   ]
  },
  {
   "cell_type": "code",
   "execution_count": null,
   "id": "f39ccedf",
   "metadata": {},
   "outputs": [],
   "source": [
    "import chart_studio.plotly as py \n",
    "import plotly.graph_objs as go\n",
    "from plotly.offline import download_plotlyjs, init_notebook_mode, plot, iplot\n",
    "\n",
    "#Creating the new dataframe with breweries only in the US. \n",
    "\n",
    "df_US = brewery_df[brewery_df['country'] == 'United States']\n",
    "df_US.info()"
   ]
  },
  {
   "cell_type": "code",
   "execution_count": null,
   "id": "6d245526",
   "metadata": {},
   "outputs": [],
   "source": [
    "#Creating new column as brewery_count which will calculate and store the breweries in every state.\n",
    "\n",
    "df_US['brewery_count'] = df_US['obdb_id'].groupby(df_US['state']).transform('count')\n",
    "df_US.head(2)\n"
   ]
  },
  {
   "cell_type": "code",
   "execution_count": null,
   "id": "60e99563",
   "metadata": {},
   "outputs": [],
   "source": [
    "# Extract the entries which have latitude and longitude. \n",
    "\n",
    "df_latlon=df_US[df_US.longitude.notnull()]"
   ]
  },
  {
   "cell_type": "code",
   "execution_count": null,
   "id": "c5225a61",
   "metadata": {},
   "outputs": [],
   "source": [
    "# Creating a new column which will store the information displayed\n",
    "# while hovering on the interactive graph. \n",
    "\n",
    "df_latlon['text_template'] = df_latlon[['name', 'city','state']].agg(','.join, axis=1)\n",
    "df_latlon.head(2)"
   ]
  },
  {
   "cell_type": "code",
   "execution_count": null,
   "id": "441f9fa6",
   "metadata": {},
   "outputs": [],
   "source": [
    "# Plotting the interactive map which will show the location of breweries in the US.\n",
    "\n",
    "data = go.Scattergeo(\n",
    "        lon = df_latlon['longitude'],\n",
    "        lat = df_latlon['latitude'],\n",
    "        text = df_latlon['text_template'],\n",
    "        hoverinfo=\"text\",\n",
    "        mode = 'markers',\n",
    "        marker = dict(symbol = 'star',size=4,colorscale = 'matter',colorbar = {'title':\"No of Brewries per State\"} ),\n",
    "        marker_color = df_latlon['brewery_count'],\n",
    "        )\n",
    "layout = dict(title = 'Breweries locations USA',\n",
    "              geo_scope = 'usa'\n",
    "             )\n",
    "\n",
    "choromap = go.Figure(data = [data],layout = layout)\n",
    "iplot(choromap)"
   ]
  },
  {
   "cell_type": "code",
   "execution_count": null,
   "id": "ef29db5b",
   "metadata": {},
   "outputs": [],
   "source": [
    "# Since the lat, lon values are missing for almost 2000 breweries \n",
    "# will try plotting graph with states for cross verification.\n",
    "\n",
    "df_US['state'].value_counts()[:15].plot(kind='bar',color='#CF686D')\n",
    "\n",
    "plt.title(\"Brewries in State\",fontweight=\"bold\")\n",
    "plt.xlabel('State',fontsize=13)\n",
    "plt.ylabel('Frequency',fontsize=13)\n",
    "plt.show()\n",
    "\n"
   ]
  },
  {
   "cell_type": "markdown",
   "id": "55814db7",
   "metadata": {},
   "source": [
    "__Observation :__ Even when we plot graph with all the breweries state wise. It is showing a similar result as in lat lon map. "
   ]
  },
  {
   "attachments": {},
   "cell_type": "markdown",
   "id": "889fc980",
   "metadata": {},
   "source": [
    "### What we learned ?\n",
    "\n",
    "1] Ballast Point Brewing Company has the highest number of franchisees in craft breweries. Mostly they are in California.\n",
    "\n",
    "2] In Bend, Oregon there is a hub of breweries. There are large and regional breweries located in the postal code – 97701 area.\n",
    "\n",
    "3] Portland, Denver, San Diego, Seattle and Chicago are the top five cities which have the highest number of breweries.\n",
    "\n",
    "4] Portland has the greatest number of micro and brewpub types of breweries. Further analysis found, since the 80s, Portland is pioneering the craft beer movement with fresh ingredients like Willamette Valley hops and Bull Run water. City has a nickname “Beervana” due to its vast range of beer industry.\n",
    "\n",
    "5] There is a correlation between the number of breweries and states. We can see that mostly breweries are popular in states California, Washington, Colorado, New York and Michigan.\n",
    "\n",
    "6] Profitable locations of breweries defer based on which type of beer you want to make. Micro-breweries mostly make craft beers which they sell on-site also, whereas large breweries rarely sell cell beers on-site. San Diego is good for large breweries and Portland is a good choice for micro-breweries."
   ]
  },
  {
   "cell_type": "code",
   "execution_count": null,
   "id": "31d792fb",
   "metadata": {},
   "outputs": [],
   "source": []
  }
 ],
 "metadata": {
  "kernelspec": {
   "display_name": "Python 3",
   "language": "python",
   "name": "python3"
  },
  "language_info": {
   "codemirror_mode": {
    "name": "ipython",
    "version": 3
   },
   "file_extension": ".py",
   "mimetype": "text/x-python",
   "name": "python",
   "nbconvert_exporter": "python",
   "pygments_lexer": "ipython3",
   "version": "3.8.10"
  }
 },
 "nbformat": 4,
 "nbformat_minor": 5
}
