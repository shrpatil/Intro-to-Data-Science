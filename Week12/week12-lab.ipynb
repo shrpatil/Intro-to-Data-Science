{
 "cells": [
  {
   "cell_type": "markdown",
   "id": "c0ebd9ff",
   "metadata": {},
   "source": [
    "# Week12 Lab\n",
    "\n",
    "Scrape the information from the following website: https://www.scrapethissite.com/pages/simple/ \n",
    "show the values in a dataframe"
   ]
  },
  {
   "cell_type": "code",
   "execution_count": 50,
   "id": "8f868978",
   "metadata": {},
   "outputs": [],
   "source": [
    "import pandas as pd\n",
    "from bs4 import BeautifulSoup\n",
    "import requests"
   ]
  },
  {
   "cell_type": "code",
   "execution_count": 51,
   "id": "cb5683b5",
   "metadata": {},
   "outputs": [
    {
     "data": {
      "text/plain": [
       "True"
      ]
     },
     "execution_count": 51,
     "metadata": {},
     "output_type": "execute_result"
    }
   ],
   "source": [
    "response = requests.get('https://www.scrapethissite.com/pages/simple/')\n",
    "response.ok"
   ]
  },
  {
   "cell_type": "code",
   "execution_count": 52,
   "id": "2b33c38d",
   "metadata": {},
   "outputs": [
    {
     "data": {
      "text/plain": [
       "'<!doctype html>\\n<html lang=\"en\">\\n  <head>\\n    <meta charset=\"utf-8\">\\n    <title>Countries of the World: A Simple Example | Scrape This Site | A public sandbox for learning web scraping</title>\\n    <link rel=\"icon\" type=\"image/png\" href=\"/static/images/scraper-icon.png\" />\\n\\n    <meta name=\"viewport\" content=\"width=device-width, initial-scale=1.0\">\\n    <meta name=\"description\" content=\"A single page that lists information about all the countries in the world. Good for those just get started with web scraping.\">\\n\\n    <link href=\"https://maxcdn.bootstrapcdn.com/bootstrap/3.3.5/css/bootstrap.min.css\" rel=\"stylesheet\" integrity=\"sha256-MfvZlkHCEqatNoGiOXveE8FIwMzZg4W85qfrfIFBfYc= sha512-dTfge/zgoMYpP7QbHy4gWMEGsbsdZeCXz7irItjcC3sPUFtf0kuFbDz/ixG7ArTxmDjLXDmezHubeNikyKGVyQ==\" crossorigin=\"anonymous\">\\n    <link href=\\'https://fonts.googleapis.com/css?family=Lato:400,700\\' rel=\\'stylesheet\\' type=\\'text/css\\'>\\n    <link rel=\"stylesheet\" type=\"text/css\" href=\"/static/css/styles.css\">\\n\\n    \\n<meta name='"
      ]
     },
     "execution_count": 52,
     "metadata": {},
     "output_type": "execute_result"
    }
   ],
   "source": [
    "response.text[:1000]"
   ]
  },
  {
   "cell_type": "code",
   "execution_count": 53,
   "id": "624ec5e5",
   "metadata": {},
   "outputs": [],
   "source": [
    "html_doc = response.text"
   ]
  },
  {
   "cell_type": "code",
   "execution_count": 54,
   "id": "72bc1d16",
   "metadata": {},
   "outputs": [],
   "source": [
    "soup = BeautifulSoup(html_doc, 'html.parser')"
   ]
  },
  {
   "cell_type": "code",
   "execution_count": 55,
   "id": "45560abc",
   "metadata": {},
   "outputs": [],
   "source": [
    "t = soup.find_all('div', {\"class\":\"col-md-4 country\"})"
   ]
  },
  {
   "cell_type": "code",
   "execution_count": 56,
   "id": "83e4fec1",
   "metadata": {},
   "outputs": [
    {
     "data": {
      "text/plain": [
       "<div class=\"col-md-4 country\">\n",
       "<h3 class=\"country-name\">\n",
       "<i class=\"flag-icon flag-icon-ad\"></i>\n",
       "                            Andorra\n",
       "                        </h3>\n",
       "<div class=\"country-info\">\n",
       "<strong>Capital:</strong> <span class=\"country-capital\">Andorra la Vella</span><br/>\n",
       "<strong>Population:</strong> <span class=\"country-population\">84000</span><br/>\n",
       "<strong>Area (km<sup>2</sup>):</strong> <span class=\"country-area\">468.0</span><br/>\n",
       "</div>\n",
       "</div>"
      ]
     },
     "execution_count": 56,
     "metadata": {},
     "output_type": "execute_result"
    }
   ],
   "source": [
    "t[0]"
   ]
  },
  {
   "cell_type": "code",
   "execution_count": 57,
   "id": "4d710cd4",
   "metadata": {},
   "outputs": [
    {
     "data": {
      "text/plain": [
       "'Andorra'"
      ]
     },
     "execution_count": 57,
     "metadata": {},
     "output_type": "execute_result"
    }
   ],
   "source": [
    "t[0].h3.text.strip()"
   ]
  },
  {
   "cell_type": "code",
   "execution_count": 58,
   "id": "0f870560",
   "metadata": {},
   "outputs": [
    {
     "data": {
      "text/plain": [
       "'Andorra la Vella'"
      ]
     },
     "execution_count": 58,
     "metadata": {},
     "output_type": "execute_result"
    }
   ],
   "source": [
    "t[0].span.text"
   ]
  },
  {
   "cell_type": "code",
   "execution_count": 59,
   "id": "dca08fc3",
   "metadata": {},
   "outputs": [],
   "source": [
    "def extract_values(v):\n",
    "    \n",
    "    country= v.h3.text.strip()\n",
    "    spans = v.find_all('span')\n",
    "    capital= spans[0].text\n",
    "    population= spans[1].text\n",
    "    area= spans[2].text\n",
    "    \n",
    "    return country, capital, population,area"
   ]
  },
  {
   "cell_type": "code",
   "execution_count": 60,
   "id": "b98f1874",
   "metadata": {},
   "outputs": [],
   "source": [
    "country=[]\n",
    "capital=[]\n",
    "population=[]\n",
    "area=[]\n",
    "spans=[]\n",
    "evalues=[]\n",
    "\n",
    "for i in t:\n",
    "    value= extract_values(i)\n",
    "    evalues.append(value)"
   ]
  },
  {
   "cell_type": "code",
   "execution_count": 61,
   "id": "8891833f",
   "metadata": {},
   "outputs": [
    {
     "name": "stdout",
     "output_type": "stream",
     "text": [
      "('Andorra', 'Andorra la Vella', '84000', '468.0')\n"
     ]
    }
   ],
   "source": [
    "print(evalues[0])"
   ]
  },
  {
   "cell_type": "code",
   "execution_count": 62,
   "id": "25f0dc6c",
   "metadata": {},
   "outputs": [],
   "source": [
    "import pandas as pd\n",
    "\n",
    "df= pd.DataFrame(data=evalues, columns=['Country', 'Capital', 'Population', 'Area'])\n"
   ]
  },
  {
   "cell_type": "code",
   "execution_count": 63,
   "id": "3361fcf6",
   "metadata": {},
   "outputs": [
    {
     "data": {
      "text/html": [
       "<div>\n",
       "<style scoped>\n",
       "    .dataframe tbody tr th:only-of-type {\n",
       "        vertical-align: middle;\n",
       "    }\n",
       "\n",
       "    .dataframe tbody tr th {\n",
       "        vertical-align: top;\n",
       "    }\n",
       "\n",
       "    .dataframe thead th {\n",
       "        text-align: right;\n",
       "    }\n",
       "</style>\n",
       "<table border=\"1\" class=\"dataframe\">\n",
       "  <thead>\n",
       "    <tr style=\"text-align: right;\">\n",
       "      <th></th>\n",
       "      <th>Country</th>\n",
       "      <th>Capital</th>\n",
       "      <th>Population</th>\n",
       "      <th>Area</th>\n",
       "    </tr>\n",
       "  </thead>\n",
       "  <tbody>\n",
       "    <tr>\n",
       "      <th>0</th>\n",
       "      <td>Andorra</td>\n",
       "      <td>Andorra la Vella</td>\n",
       "      <td>84000</td>\n",
       "      <td>468.0</td>\n",
       "    </tr>\n",
       "    <tr>\n",
       "      <th>1</th>\n",
       "      <td>United Arab Emirates</td>\n",
       "      <td>Abu Dhabi</td>\n",
       "      <td>4975593</td>\n",
       "      <td>82880.0</td>\n",
       "    </tr>\n",
       "    <tr>\n",
       "      <th>2</th>\n",
       "      <td>Afghanistan</td>\n",
       "      <td>Kabul</td>\n",
       "      <td>29121286</td>\n",
       "      <td>647500.0</td>\n",
       "    </tr>\n",
       "    <tr>\n",
       "      <th>3</th>\n",
       "      <td>Antigua and Barbuda</td>\n",
       "      <td>St. John's</td>\n",
       "      <td>86754</td>\n",
       "      <td>443.0</td>\n",
       "    </tr>\n",
       "    <tr>\n",
       "      <th>4</th>\n",
       "      <td>Anguilla</td>\n",
       "      <td>The Valley</td>\n",
       "      <td>13254</td>\n",
       "      <td>102.0</td>\n",
       "    </tr>\n",
       "    <tr>\n",
       "      <th>...</th>\n",
       "      <td>...</td>\n",
       "      <td>...</td>\n",
       "      <td>...</td>\n",
       "      <td>...</td>\n",
       "    </tr>\n",
       "    <tr>\n",
       "      <th>245</th>\n",
       "      <td>Yemen</td>\n",
       "      <td>Sanaa</td>\n",
       "      <td>23495361</td>\n",
       "      <td>527970.0</td>\n",
       "    </tr>\n",
       "    <tr>\n",
       "      <th>246</th>\n",
       "      <td>Mayotte</td>\n",
       "      <td>Mamoudzou</td>\n",
       "      <td>159042</td>\n",
       "      <td>374.0</td>\n",
       "    </tr>\n",
       "    <tr>\n",
       "      <th>247</th>\n",
       "      <td>South Africa</td>\n",
       "      <td>Pretoria</td>\n",
       "      <td>49000000</td>\n",
       "      <td>1219912.0</td>\n",
       "    </tr>\n",
       "    <tr>\n",
       "      <th>248</th>\n",
       "      <td>Zambia</td>\n",
       "      <td>Lusaka</td>\n",
       "      <td>13460305</td>\n",
       "      <td>752614.0</td>\n",
       "    </tr>\n",
       "    <tr>\n",
       "      <th>249</th>\n",
       "      <td>Zimbabwe</td>\n",
       "      <td>Harare</td>\n",
       "      <td>11651858</td>\n",
       "      <td>390580.0</td>\n",
       "    </tr>\n",
       "  </tbody>\n",
       "</table>\n",
       "<p>250 rows × 4 columns</p>\n",
       "</div>"
      ],
      "text/plain": [
       "                  Country           Capital Population       Area\n",
       "0                 Andorra  Andorra la Vella      84000      468.0\n",
       "1    United Arab Emirates         Abu Dhabi    4975593    82880.0\n",
       "2             Afghanistan             Kabul   29121286   647500.0\n",
       "3     Antigua and Barbuda        St. John's      86754      443.0\n",
       "4                Anguilla        The Valley      13254      102.0\n",
       "..                    ...               ...        ...        ...\n",
       "245                 Yemen             Sanaa   23495361   527970.0\n",
       "246               Mayotte         Mamoudzou     159042      374.0\n",
       "247          South Africa          Pretoria   49000000  1219912.0\n",
       "248                Zambia            Lusaka   13460305   752614.0\n",
       "249              Zimbabwe            Harare   11651858   390580.0\n",
       "\n",
       "[250 rows x 4 columns]"
      ]
     },
     "execution_count": 63,
     "metadata": {},
     "output_type": "execute_result"
    }
   ],
   "source": [
    "df\n",
    "    "
   ]
  },
  {
   "cell_type": "code",
   "execution_count": null,
   "id": "c5bdb646",
   "metadata": {},
   "outputs": [],
   "source": []
  },
  {
   "cell_type": "code",
   "execution_count": null,
   "id": "54d3141b",
   "metadata": {},
   "outputs": [],
   "source": []
  }
 ],
 "metadata": {
  "kernelspec": {
   "display_name": "Python 3",
   "language": "python",
   "name": "python3"
  },
  "language_info": {
   "codemirror_mode": {
    "name": "ipython",
    "version": 3
   },
   "file_extension": ".py",
   "mimetype": "text/x-python",
   "name": "python",
   "nbconvert_exporter": "python",
   "pygments_lexer": "ipython3",
   "version": "3.8.10"
  },
  "toc": {
   "base_numbering": 1,
   "nav_menu": {},
   "number_sections": true,
   "sideBar": true,
   "skip_h1_title": false,
   "title_cell": "Table of Contents",
   "title_sidebar": "Contents",
   "toc_cell": false,
   "toc_position": {},
   "toc_section_display": true,
   "toc_window_display": false
  }
 },
 "nbformat": 4,
 "nbformat_minor": 5
}
