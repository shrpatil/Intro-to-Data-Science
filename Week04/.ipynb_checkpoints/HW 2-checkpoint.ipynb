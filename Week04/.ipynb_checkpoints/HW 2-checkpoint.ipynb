{
 "cells": [
  {
   "cell_type": "markdown",
   "id": "b47b349d",
   "metadata": {},
   "source": [
    "# Week4 - HW 2\n",
    "\n",
    "1. Acquire power data (https://www.bmreports.com/bmrs/?q=demand/rollingsystemdemanda) for at least 10 days and not more than 40 days. \n",
    "\n",
    "1. Create two bar graphs of the power consumption per hour. \n",
    "    a. One bar graph has 24 bars; \n",
    "    b. one bar graph has 24 times number of days bars. \n",
    "\n",
    "1. Your solution should be committed in your Week04 folder.\n",
    "\n",
    "Graphs must have appropriate labels and there should not be anything extra cluttering. "
   ]
  },
  {
   "cell_type": "code",
   "execution_count": 90,
   "id": "ba276b3d",
   "metadata": {},
   "outputs": [
    {
     "name": "stdout",
     "output_type": "stream",
     "text": [
      "HDR                      object\n",
      "TIME                      int64\n",
      "ROLLING_SYSTEM_DEMAND     int64\n",
      "dtype: object\n"
     ]
    },
    {
     "data": {
      "text/html": [
       "<div>\n",
       "<style scoped>\n",
       "    .dataframe tbody tr th:only-of-type {\n",
       "        vertical-align: middle;\n",
       "    }\n",
       "\n",
       "    .dataframe tbody tr th {\n",
       "        vertical-align: top;\n",
       "    }\n",
       "\n",
       "    .dataframe thead th {\n",
       "        text-align: right;\n",
       "    }\n",
       "</style>\n",
       "<table border=\"1\" class=\"dataframe\">\n",
       "  <thead>\n",
       "    <tr style=\"text-align: right;\">\n",
       "      <th></th>\n",
       "      <th>HDR</th>\n",
       "      <th>TIME</th>\n",
       "      <th>ROLLING_SYSTEM_DEMAND</th>\n",
       "    </tr>\n",
       "  </thead>\n",
       "  <tbody>\n",
       "    <tr>\n",
       "      <th>0</th>\n",
       "      <td>VD</td>\n",
       "      <td>20210901000000</td>\n",
       "      <td>22640</td>\n",
       "    </tr>\n",
       "    <tr>\n",
       "      <th>1</th>\n",
       "      <td>VD</td>\n",
       "      <td>20210901000500</td>\n",
       "      <td>22558</td>\n",
       "    </tr>\n",
       "    <tr>\n",
       "      <th>2</th>\n",
       "      <td>VD</td>\n",
       "      <td>20210901001000</td>\n",
       "      <td>22443</td>\n",
       "    </tr>\n",
       "    <tr>\n",
       "      <th>3</th>\n",
       "      <td>VD</td>\n",
       "      <td>20210901001500</td>\n",
       "      <td>22466</td>\n",
       "    </tr>\n",
       "    <tr>\n",
       "      <th>4</th>\n",
       "      <td>VD</td>\n",
       "      <td>20210901002000</td>\n",
       "      <td>22413</td>\n",
       "    </tr>\n",
       "    <tr>\n",
       "      <th>...</th>\n",
       "      <td>...</td>\n",
       "      <td>...</td>\n",
       "      <td>...</td>\n",
       "    </tr>\n",
       "    <tr>\n",
       "      <th>4315</th>\n",
       "      <td>VD</td>\n",
       "      <td>20210915233500</td>\n",
       "      <td>24079</td>\n",
       "    </tr>\n",
       "    <tr>\n",
       "      <th>4316</th>\n",
       "      <td>VD</td>\n",
       "      <td>20210915234000</td>\n",
       "      <td>24098</td>\n",
       "    </tr>\n",
       "    <tr>\n",
       "      <th>4317</th>\n",
       "      <td>VD</td>\n",
       "      <td>20210915234500</td>\n",
       "      <td>23986</td>\n",
       "    </tr>\n",
       "    <tr>\n",
       "      <th>4318</th>\n",
       "      <td>VD</td>\n",
       "      <td>20210915235000</td>\n",
       "      <td>23884</td>\n",
       "    </tr>\n",
       "    <tr>\n",
       "      <th>4319</th>\n",
       "      <td>VD</td>\n",
       "      <td>20210915235500</td>\n",
       "      <td>23808</td>\n",
       "    </tr>\n",
       "  </tbody>\n",
       "</table>\n",
       "<p>4320 rows × 3 columns</p>\n",
       "</div>"
      ],
      "text/plain": [
       "     HDR            TIME  ROLLING_SYSTEM_DEMAND\n",
       "0     VD  20210901000000                  22640\n",
       "1     VD  20210901000500                  22558\n",
       "2     VD  20210901001000                  22443\n",
       "3     VD  20210901001500                  22466\n",
       "4     VD  20210901002000                  22413\n",
       "...   ..             ...                    ...\n",
       "4315  VD  20210915233500                  24079\n",
       "4316  VD  20210915234000                  24098\n",
       "4317  VD  20210915234500                  23986\n",
       "4318  VD  20210915235000                  23884\n",
       "4319  VD  20210915235500                  23808\n",
       "\n",
       "[4320 rows x 3 columns]"
      ]
     },
     "execution_count": 90,
     "metadata": {},
     "output_type": "execute_result"
    }
   ],
   "source": [
    "#converting csv file into dataframe\n",
    "# Dataset has data of 15 days from 09/01/2021 to 09/01/2021 power demand\n",
    "\n",
    "import pandas as pd\n",
    "df= pd.read_csv('/Users/shreya/github/VS/DS601_Fall21/Week04/homework/dataset.csv')\n",
    "print(df.dtypes)\n",
    "df"
   ]
  },
  {
   "cell_type": "markdown",
   "id": "f7426ddb",
   "metadata": {},
   "source": [
    "#### Converting the data into required format"
   ]
  },
  {
   "cell_type": "code",
   "execution_count": 94,
   "id": "d42c14f5",
   "metadata": {},
   "outputs": [
    {
     "data": {
      "text/html": [
       "<div>\n",
       "<style scoped>\n",
       "    .dataframe tbody tr th:only-of-type {\n",
       "        vertical-align: middle;\n",
       "    }\n",
       "\n",
       "    .dataframe tbody tr th {\n",
       "        vertical-align: top;\n",
       "    }\n",
       "\n",
       "    .dataframe thead th {\n",
       "        text-align: right;\n",
       "    }\n",
       "</style>\n",
       "<table border=\"1\" class=\"dataframe\">\n",
       "  <thead>\n",
       "    <tr style=\"text-align: right;\">\n",
       "      <th></th>\n",
       "      <th>HDR</th>\n",
       "      <th>TIME</th>\n",
       "      <th>ROLLING_SYSTEM_DEMAND</th>\n",
       "    </tr>\n",
       "    <tr>\n",
       "      <th>Index</th>\n",
       "      <th></th>\n",
       "      <th></th>\n",
       "      <th></th>\n",
       "    </tr>\n",
       "  </thead>\n",
       "  <tbody>\n",
       "    <tr>\n",
       "      <th>0</th>\n",
       "      <td>VD</td>\n",
       "      <td>2021-09-01 00:00:00</td>\n",
       "      <td>22640</td>\n",
       "    </tr>\n",
       "    <tr>\n",
       "      <th>1</th>\n",
       "      <td>VD</td>\n",
       "      <td>2021-09-01 00:05:00</td>\n",
       "      <td>22558</td>\n",
       "    </tr>\n",
       "    <tr>\n",
       "      <th>2</th>\n",
       "      <td>VD</td>\n",
       "      <td>2021-09-01 00:10:00</td>\n",
       "      <td>22443</td>\n",
       "    </tr>\n",
       "    <tr>\n",
       "      <th>3</th>\n",
       "      <td>VD</td>\n",
       "      <td>2021-09-01 00:15:00</td>\n",
       "      <td>22466</td>\n",
       "    </tr>\n",
       "    <tr>\n",
       "      <th>4</th>\n",
       "      <td>VD</td>\n",
       "      <td>2021-09-01 00:20:00</td>\n",
       "      <td>22413</td>\n",
       "    </tr>\n",
       "    <tr>\n",
       "      <th>...</th>\n",
       "      <td>...</td>\n",
       "      <td>...</td>\n",
       "      <td>...</td>\n",
       "    </tr>\n",
       "    <tr>\n",
       "      <th>4315</th>\n",
       "      <td>VD</td>\n",
       "      <td>2021-09-15 23:35:00</td>\n",
       "      <td>24079</td>\n",
       "    </tr>\n",
       "    <tr>\n",
       "      <th>4316</th>\n",
       "      <td>VD</td>\n",
       "      <td>2021-09-15 23:40:00</td>\n",
       "      <td>24098</td>\n",
       "    </tr>\n",
       "    <tr>\n",
       "      <th>4317</th>\n",
       "      <td>VD</td>\n",
       "      <td>2021-09-15 23:45:00</td>\n",
       "      <td>23986</td>\n",
       "    </tr>\n",
       "    <tr>\n",
       "      <th>4318</th>\n",
       "      <td>VD</td>\n",
       "      <td>2021-09-15 23:50:00</td>\n",
       "      <td>23884</td>\n",
       "    </tr>\n",
       "    <tr>\n",
       "      <th>4319</th>\n",
       "      <td>VD</td>\n",
       "      <td>2021-09-15 23:55:00</td>\n",
       "      <td>23808</td>\n",
       "    </tr>\n",
       "  </tbody>\n",
       "</table>\n",
       "<p>4320 rows × 3 columns</p>\n",
       "</div>"
      ],
      "text/plain": [
       "      HDR                TIME  ROLLING_SYSTEM_DEMAND\n",
       "Index                                               \n",
       "0      VD 2021-09-01 00:00:00                  22640\n",
       "1      VD 2021-09-01 00:05:00                  22558\n",
       "2      VD 2021-09-01 00:10:00                  22443\n",
       "3      VD 2021-09-01 00:15:00                  22466\n",
       "4      VD 2021-09-01 00:20:00                  22413\n",
       "...    ..                 ...                    ...\n",
       "4315   VD 2021-09-15 23:35:00                  24079\n",
       "4316   VD 2021-09-15 23:40:00                  24098\n",
       "4317   VD 2021-09-15 23:45:00                  23986\n",
       "4318   VD 2021-09-15 23:50:00                  23884\n",
       "4319   VD 2021-09-15 23:55:00                  23808\n",
       "\n",
       "[4320 rows x 3 columns]"
      ]
     },
     "execution_count": 94,
     "metadata": {},
     "output_type": "execute_result"
    }
   ],
   "source": [
    "\n",
    "# converting TIME column into date time type\n",
    "\n",
    "df['TIME'] = pd.to_datetime(df['TIME'], format='%Y%m%d%H%M%S')\n",
    "\n",
    "# adding index column \n",
    "\n",
    "index = []\n",
    "for i,j in enumerate(df['TIME']):\n",
    "    index.append(i)\n",
    "\n",
    "df['Index']= index\n",
    "\n",
    "df= df.set_index(df['Index'])\n",
    "\n",
    "df=df.drop(['Index'], axis=1)\n",
    "\n",
    "\n",
    "df"
   ]
  },
  {
   "cell_type": "markdown",
   "id": "d64683fb",
   "metadata": {},
   "source": [
    "### Power consumption of all the days by hour (without using inbuild methods)"
   ]
  },
  {
   "cell_type": "code",
   "execution_count": 95,
   "id": "294f1c7e",
   "metadata": {},
   "outputs": [
    {
     "data": {
      "text/plain": [
       "0"
      ]
     },
     "execution_count": 95,
     "metadata": {},
     "output_type": "execute_result"
    }
   ],
   "source": [
    "# Creating two list of numbers throught which for loop will iterate\n",
    "# list will have values like [12,24,..] [13,25,37,...]\n",
    "# which will be used to slice the data_frame \n",
    "\n",
    "j_list=[]\n",
    "i_list =[]\n",
    "\n",
    "\n",
    "i_list = [i for i in range(len(df)) if i % 12 ==0] \n",
    "j_list = [x+1 for x in i_list] \n",
    "\n",
    "\n",
    "#print(i_list)\n",
    "\n",
    "#removing first element frim i_list which is 0\n",
    "i_list.pop(0)\n",
    "#print(j_list)"
   ]
  },
  {
   "cell_type": "code",
   "execution_count": 96,
   "id": "26ef381c",
   "metadata": {},
   "outputs": [
    {
     "name": "stdout",
     "output_type": "stream",
     "text": [
      "359\n"
     ]
    }
   ],
   "source": [
    "# slicing the data fram to extract the hourly data and calculating the mean\n",
    "import matplotlib.pyplot as plt\n",
    "hr_demand_mean=[]\n",
    "\n",
    "for i,j in zip(j_list,i_list):\n",
    "        hr_df=df.loc[i:j]\n",
    "        hr_mean=hr_df.ROLLING_SYSTEM_DEMAND.mean()\n",
    "        hr_demand_mean.append(hr_mean)\n",
    "\n",
    "days=[]        \n",
    "\n",
    "for i in range(len(hr_demand_mean)):\n",
    "    days.append(i)\n",
    "# Index is from 0-359 so total 360 days\n",
    "print(len(hr_demand_mean))"
   ]
  },
  {
   "cell_type": "code",
   "execution_count": 99,
   "id": "247b1aa4",
   "metadata": {},
   "outputs": [
    {
     "data": {
      "image/png": "[encoded data removed]",
      "text/plain": [
       "<Figure size 720x360 with 1 Axes>"
      ]
     },
     "metadata": {
      "needs_background": "light"
     },
     "output_type": "display_data"
    },
    {
     "data": {
      "text/plain": [
       "<Figure size 432x288 with 0 Axes>"
      ]
     },
     "metadata": {},
     "output_type": "display_data"
    }
   ],
   "source": [
    "#ploting a bar graph\n",
    "\n",
    "f = plt.figure(figsize=(10,5))\n",
    "\n",
    "ax = plt.axes()\n",
    "ax.set_xticks([0,60,110,160,210,260,310,360])\n",
    "\n",
    "plt.bar(days,hr_demand_mean, alpha= 0.8)\n",
    "plt.title(\"Power consumption of all the days \",fontsize =14,fontweight=\"bold\")\n",
    "plt.xlabel('Days',fontsize =13)\n",
    "plt.ylabel('Average demand',fontsize =14)\n",
    "plt.show()\n",
    "plt.tight_layout()"
   ]
  },
  {
   "cell_type": "markdown",
   "id": "7f6c327a",
   "metadata": {},
   "source": [
    "### Power consumption per hour.(without using inbuild methods)"
   ]
  },
  {
   "cell_type": "code",
   "execution_count": 109,
   "id": "aee5d319",
   "metadata": {},
   "outputs": [
    {
     "name": "stdout",
     "output_type": "stream",
     "text": [
      "[0, 24, 48, 72, 96, 120, 144, 168, 192, 216, 240, 264, 288, 312, 336]\n",
      "0 22727.138888888887\n",
      "1 22306.42222222222\n",
      "2 22009.716666666664\n",
      "3 21995.07777777778\n",
      "4 22643.03888888889\n",
      "5 24861.072222222218\n",
      "6 27922.077777777784\n",
      "7 29662.62222222222\n",
      "8 30105.833333333336\n",
      "9 29892.75\n",
      "10 29576.10555555555\n",
      "11 29543.53888888889\n",
      "12 29184.344444444447\n",
      "13 28837.666666666668\n",
      "14 29124.21111111111\n",
      "15 30432.650000000005\n",
      "16 31989.555555555555\n",
      "17 32505.905555555557\n",
      "18 32478.91666666667\n",
      "19 31974.188888888886\n",
      "20 29958.71111111111\n",
      "21 27675.76666666667\n",
      "22 25237.4\n",
      "23 23506.291666666664\n"
     ]
    }
   ],
   "source": [
    "import numpy as np\n",
    "\n",
    "#creating another list for iteration\n",
    "k_list = [i for i in range(len(hr_demand_mean)) if i % 24 ==0] \n",
    "every_hr_mean=[]\n",
    "\n",
    "for i in range(24):\n",
    "    hr_mean=[]\n",
    "    #loop will give data of 1st,2nd,3rd,.... hour of all the days \n",
    "    for k in k_list:\n",
    "        #adding try except to avoid list out of range error\n",
    "        try:\n",
    "            hr_mean.append(hr_demand_mean[k+i])\n",
    "        except IndexError:\n",
    "            continue\n",
    "    # Calculating the average usage of 1 hour of all the days \n",
    "    every_hr_mean.append(np.mean(hr_mean))\n",
    "    print(i, np.mean(hr_mean))"
   ]
  },
  {
   "cell_type": "code",
   "execution_count": 112,
   "id": "e3803ceb",
   "metadata": {},
   "outputs": [
    {
     "data": {
      "image/png": "[encoded data removed]",
      "text/plain": [
       "<Figure size 720x360 with 1 Axes>"
      ]
     },
     "metadata": {
      "needs_background": "light"
     },
     "output_type": "display_data"
    },
    {
     "data": {
      "text/plain": [
       "<Figure size 432x288 with 0 Axes>"
      ]
     },
     "metadata": {},
     "output_type": "display_data"
    }
   ],
   "source": [
    "#Ploating the grapgh\n",
    "x=[]\n",
    "for i in range(24):\n",
    "    x.append(i)\n",
    "\n",
    "f = plt.figure(figsize=(10,5))\n",
    "ax = plt.axes()\n",
    "ax.set_xticks([0,3,6,9,12,15,18,21,23])\n",
    "plt.bar(x,every_hr_mean,alpha= 0.8)\n",
    "plt.xlabel('Hours',fontsize =13)\n",
    "plt.ylabel('Average demand',fontsize =13)\n",
    "plt.title(\"Power consumption per hour\",fontsize =14,fontweight=\"bold\")\n",
    "plt.show()\n",
    "plt.tight_layout()"
   ]
  },
  {
   "cell_type": "markdown",
   "id": "c95c4e8f",
   "metadata": {},
   "source": [
    "### Power consumption per hour ( using inbuild methods)"
   ]
  },
  {
   "cell_type": "code",
   "execution_count": 76,
   "id": "8afd5b03",
   "metadata": {
    "scrolled": true
   },
   "outputs": [
    {
     "data": {
      "image/png": "[encoded data removed]",
      "text/plain": [
       "<Figure size 432x288 with 1 Axes>"
      ]
     },
     "metadata": {
      "needs_background": "light"
     },
     "output_type": "display_data"
    }
   ],
   "source": [
    "# calculates the average usage by hour and plots the graph\n",
    "\n",
    "df.groupby(df[\"TIME\"].dt.hour).ROLLING_SYSTEM_DEMAND.mean().plot(kind='bar', rot=0,alpha= 0.8)\n",
    "plt.show()\n"
   ]
  },
  {
   "cell_type": "code",
   "execution_count": 74,
   "id": "7089c188",
   "metadata": {
    "scrolled": true
   },
   "outputs": [
    {
     "data": {
      "image/png": "[encoded data removed]",
      "text/plain": [
       "<Figure size 720x360 with 1 Axes>"
      ]
     },
     "metadata": {
      "needs_background": "light"
     },
     "output_type": "display_data"
    }
   ],
   "source": [
    "\n",
    "\n",
    "mean_df=df.resample('H', on='TIME').ROLLING_SYSTEM_DEMAND.mean()\n",
    "mean_df.head(5)\n",
    "\n",
    "f = plt.figure(figsize=(10,5))\n",
    "plt.plot(mean_df)\n",
    "plt.title(\"Power consumption of all the days \",fontsize =14,fontweight=\"bold\")\n",
    "plt.xlabel('Days')\n",
    "plt.ylabel('Average demand')\n",
    "plt.show()"
   ]
  },
  {
   "cell_type": "code",
   "execution_count": null,
   "id": "43f1cbf3",
   "metadata": {},
   "outputs": [],
   "source": []
  }
 ],
 "metadata": {
  "kernelspec": {
   "display_name": "Python 3",
   "language": "python",
   "name": "python3"
  },
  "language_info": {
   "codemirror_mode": {
    "name": "ipython",
    "version": 3
   },
   "file_extension": ".py",
   "mimetype": "text/x-python",
   "name": "python",
   "nbconvert_exporter": "python",
   "pygments_lexer": "ipython3",
   "version": "3.8.10"
  },
  "toc": {
   "base_numbering": 1,
   "nav_menu": {},
   "number_sections": true,
   "sideBar": true,
   "skip_h1_title": false,
   "title_cell": "Table of Contents",
   "title_sidebar": "Contents",
   "toc_cell": false,
   "toc_position": {},
   "toc_section_display": true,
   "toc_window_display": false
  }
 },
 "nbformat": 4,
 "nbformat_minor": 5
}
